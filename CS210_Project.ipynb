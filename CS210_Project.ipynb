{
  "nbformat": 4,
  "nbformat_minor": 0,
  "metadata": {
    "colab": {
      "name": "BUKET Copy of CS210-Fall2020-Report Template.ipynb ",
      "provenance": [],
      "collapsed_sections": []
    },
    "kernelspec": {
      "name": "python3",
      "display_name": "Python 3"
    }
  },
  "cells": [
    {
      "cell_type": "markdown",
      "metadata": {
        "id": "tPdlcstH11mU"
      },
      "source": [
        "# Netflix Movies and TV Shows - Group ID: 2\n",
        "\n",
        "Group Members:\n",
        "\n",
        "Buket Özen 25441 \n",
        "\n",
        "Deniz Küçükahmetler 24879\n",
        "\n",
        "Guljahan Annagurbanova 26278\n",
        "\n",
        "Sabanur Mete 25473\n",
        "\n",
        "Y. Dila Kurumahmutoğlu 25543\n"
      ]
    },
    {
      "cell_type": "markdown",
      "metadata": {
        "id": "B1iB4MSX3-6L"
      },
      "source": [
        "## Introduction\n",
        "\n",
        "<font color=\"black\">\n",
        "While deciding on Netflix Movies & TV Shows as our project group, we chose this topic after forming a few ideas on what we can do with this project. Thinking that whichever topic we choose we can achieve the best result, we eliminated some of our ideas after a few group meetings. Today, the internet is a tool accessible to children and adults of all ages. We decided to do this project in an effort to keep children away from harmful content and guide them for good.\n",
        "</font>"
      ]
    },
    {
      "cell_type": "markdown",
      "metadata": {
        "id": "B2omK2BI4KyB"
      },
      "source": [
        "### Problem Definition\n",
        "\n",
        "<font color=\"black\">\n",
        "Our goal is to identify and make classifications which are suitable contents for children audience. When doing so, we will divide 80% of the data we have as train and 20% as test data. We have concluded that the categories “G (General)”, “TV-G (General Audience)”, “TV-Y7-FV (Directed to Older Children - Fantasy Violence - Contains mild fantasy or comedic violence. Some content could frighten younger children (under age 7))”, “TV-Y7 (Directed to Older Children. Intended for children ages 7 and older. Best suited for children who know the difference between real life and make-believe.)” and “TV-Y (All Children - programs aimed at a very young audience, including children from ages 2-6)” are suitable for children. Rows and columns that are unnecessary will be eliminated. Then we are going to look for correlations between attributes like movies / tv shows, directors, genres, cast members, durations, release years. So we will decide which ones are more child friendly in our data frame in order to establish a child friendliness relationship.\n",
        "</font>"
      ]
    },
    {
      "cell_type": "markdown",
      "metadata": {
        "id": "ZjWMWVoA4NcV"
      },
      "source": [
        "\n",
        "\n",
        "```\n",
        "# Bu, `kod olarak biçimlendirilmiş`tir\n",
        "```\n",
        "\n",
        "### Utilized Datasets"
      ]
    },
    {
      "cell_type": "code",
      "metadata": {
        "id": "EayNzKhdpb72",
        "colab": {
          "base_uri": "https://localhost:8080/"
        },
        "outputId": "625bd20f-644b-45dd-c43a-ed842e14ae79"
      },
      "source": [
        "from google.colab import drive\n",
        "drive.mount(\"./drive\")\n",
        "\n",
        "path_prefix = \"./drive/My Drive\"\n",
        "\n",
        "import pandas as pd\n",
        "import numpy as np\n",
        "import matplotlib.pyplot as plt\n",
        "from os.path import join\n",
        "\n",
        "%matplotlib inline"
      ],
      "execution_count": null,
      "outputs": [
        {
          "output_type": "stream",
          "text": [
            "Mounted at ./drive\n"
          ],
          "name": "stdout"
        }
      ]
    },
    {
      "cell_type": "code",
      "metadata": {
        "id": "-4rYnQUIpcoC",
        "colab": {
          "base_uri": "https://localhost:8080/"
        },
        "outputId": "bf1f3d10-4b40-4229-f9b2-1b530b4d8193"
      },
      "source": [
        "fname = \"netflix_titles.csv\"\n",
        "\n",
        "df_ = pd.read_csv(join(path_prefix, fname))\n",
        "df_.info()"
      ],
      "execution_count": null,
      "outputs": [
        {
          "output_type": "stream",
          "text": [
            "<class 'pandas.core.frame.DataFrame'>\n",
            "RangeIndex: 6234 entries, 0 to 6233\n",
            "Data columns (total 12 columns):\n",
            " #   Column        Non-Null Count  Dtype \n",
            "---  ------        --------------  ----- \n",
            " 0   show_id       6234 non-null   int64 \n",
            " 1   type          6234 non-null   object\n",
            " 2   title         6234 non-null   object\n",
            " 3   director      4265 non-null   object\n",
            " 4   cast          5664 non-null   object\n",
            " 5   country       5758 non-null   object\n",
            " 6   date_added    6223 non-null   object\n",
            " 7   release_year  6234 non-null   int64 \n",
            " 8   rating        6224 non-null   object\n",
            " 9   duration      6234 non-null   object\n",
            " 10  listed_in     6234 non-null   object\n",
            " 11  description   6234 non-null   object\n",
            "dtypes: int64(2), object(10)\n",
            "memory usage: 584.6+ KB\n"
          ],
          "name": "stdout"
        }
      ]
    },
    {
      "cell_type": "code",
      "metadata": {
        "id": "r3aYf9LKpcWe"
      },
      "source": [
        ""
      ],
      "execution_count": null,
      "outputs": []
    },
    {
      "cell_type": "markdown",
      "metadata": {
        "id": "h-46zyxVr4dq"
      },
      "source": [
        "As we can see from the output above, there are 12 columns and 6234 rows in total. Only the \"show_id\" and \"release_year\" columns consist of integer typed values, the rest is object. The built-in type string is considered as object in pandas.  "
      ]
    },
    {
      "cell_type": "code",
      "metadata": {
        "id": "p7fcLj_dvAuN",
        "colab": {
          "base_uri": "https://localhost:8080/"
        },
        "outputId": "56f17733-cb1c-4de7-e83a-57cff8d7afbc"
      },
      "source": [
        "df_[\"rating\"].unique()"
      ],
      "execution_count": null,
      "outputs": [
        {
          "output_type": "execute_result",
          "data": {
            "text/plain": [
              "array(['TV-PG', 'TV-MA', 'TV-Y7-FV', 'TV-Y7', 'TV-14', 'R', 'TV-Y', 'NR',\n",
              "       'PG-13', 'TV-G', 'PG', 'G', nan, 'UR', 'NC-17'], dtype=object)"
            ]
          },
          "metadata": {
            "tags": []
          },
          "execution_count": 6
        }
      ]
    },
    {
      "cell_type": "markdown",
      "metadata": {
        "id": "WbpTVE0TYqp-"
      },
      "source": [
        "There are 14 distinct rating types."
      ]
    },
    {
      "cell_type": "markdown",
      "metadata": {
        "id": "eQCTWESpvHaN"
      },
      "source": [
        "There are standardized abbreviations for movie and TV show ratings as listed above. \n",
        "\n",
        "The meanings of these abbreviations are:\n",
        "\n",
        "*   G: General\t\n",
        "*   TV-G: General Audience\n",
        "*   PG: Parental Guidance Recommended\n",
        "*   PG-13: Parents Strongly Cautioned, Some Material May Be Inappropriate for Children Under 13\n",
        "*   TV-PG: Parental Guidance Suggested\n",
        "*   TV-MA: Mature Audience Only. Intended for adults and may be unsuitable for children under 17\n",
        "*   TV-Y7-FV: Directed to Older Children - Fantasy Violence - Contains mild fantasy or comedic violence. Some content could frighten younger children (under age 7)\n",
        "*   TV-Y7: Directed to Older Children. Intended for children ages 7 and older. Best suited for children who know the difference between real life and make-believe.\n",
        "*   TV-14: Parents Strongly Cautioned. Intended for children ages 14 and older in the company of an adult\n",
        "*   R: Restricted – Under 17 requires accompanying parent or adult guardian\n",
        "*   TV-Y: All Children - programs aimed at a very young audience, including children from ages 2-6\n",
        "*   NR: Not Rated\n",
        "*   UR: Unrated\n",
        "*   NC-17: No Children Under 17 Admitted\n",
        "\n",
        "\n",
        "\n",
        "\n",
        "\n",
        "\n",
        "\n"
      ]
    },
    {
      "cell_type": "code",
      "metadata": {
        "id": "ECK8j8AStF2O",
        "colab": {
          "base_uri": "https://localhost:8080/",
          "height": 404
        },
        "outputId": "08a6df11-4d45-46b3-bcbc-d2cf710296fd"
      },
      "source": [
        "plt.figure(figsize=(13,6))\n",
        "df_[\"rating\"].hist(bins=14)\n",
        "plt.title(\"Distribution of Ratings\")\n",
        "plt.xlabel(\"Rating\")\n",
        "plt.ylabel(\"Number of Observations\")\n",
        "plt.show()"
      ],
      "execution_count": null,
      "outputs": [
        {
          "output_type": "display_data",
          "data": {
            "image/png": "[encoded data removed]",
            "text/plain": [
              "<Figure size 936x432 with 1 Axes>"
            ]
          },
          "metadata": {
            "tags": [],
            "needs_background": "light"
          }
        }
      ]
    },
    {
      "cell_type": "code",
      "metadata": {
        "id": "lWNmfEvq3e9C",
        "colab": {
          "base_uri": "https://localhost:8080/"
        },
        "outputId": "f200472f-1aa0-48e4-8fb3-0d3c037cb152"
      },
      "source": [
        "df_.groupby(\"rating\").count()[\"show_id\"].sort_values(ascending=False)"
      ],
      "execution_count": null,
      "outputs": [
        {
          "output_type": "execute_result",
          "data": {
            "text/plain": [
              "rating\n",
              "TV-MA       2027\n",
              "TV-14       1698\n",
              "TV-PG        701\n",
              "R            508\n",
              "PG-13        286\n",
              "NR           218\n",
              "PG           184\n",
              "TV-Y7        169\n",
              "TV-G         149\n",
              "TV-Y         143\n",
              "TV-Y7-FV      95\n",
              "G             37\n",
              "UR             7\n",
              "NC-17          2\n",
              "Name: show_id, dtype: int64"
            ]
          },
          "metadata": {
            "tags": []
          },
          "execution_count": 5
        }
      ]
    },
    {
      "cell_type": "markdown",
      "metadata": {
        "id": "ATjTFI_zcNnh"
      },
      "source": [
        "It is shown that \"TV-MA\" and \"TV-14\" constitude the vast majority of the total movies and TV shows which is not suitable for children.\n",
        "\n"
      ]
    },
    {
      "cell_type": "code",
      "metadata": {
        "id": "swXeyn9_-r8O",
        "colab": {
          "base_uri": "https://localhost:8080/"
        },
        "outputId": "899a3389-d415-4099-b2cf-38ac57864040"
      },
      "source": [
        "df_.dropna(subset=[\"rating\"],inplace=True)\n",
        "df_.isna().sum()[\"rating\"]"
      ],
      "execution_count": null,
      "outputs": [
        {
          "output_type": "execute_result",
          "data": {
            "text/plain": [
              "0"
            ]
          },
          "metadata": {
            "tags": []
          },
          "execution_count": 6
        }
      ]
    },
    {
      "cell_type": "markdown",
      "metadata": {
        "id": "jwYm8hC_delE"
      },
      "source": [
        "First the NAN values in \"rating\" column is dropped."
      ]
    },
    {
      "cell_type": "code",
      "metadata": {
        "id": "yHJJ9uCxAdi8",
        "colab": {
          "base_uri": "https://localhost:8080/"
        },
        "outputId": "ce6c79d3-f8be-41e7-ab3d-305ea807244d"
      },
      "source": [
        "df_.drop(df_[(df_[\"rating\"]==\"UR\") | (df_[\"rating\"]==\"NR\")].index, inplace=True)\n",
        "df_.groupby(\"rating\").count()[\"show_id\"].sort_values(ascending=False)"
      ],
      "execution_count": null,
      "outputs": [
        {
          "output_type": "execute_result",
          "data": {
            "text/plain": [
              "rating\n",
              "TV-MA       2027\n",
              "TV-14       1698\n",
              "TV-PG        701\n",
              "R            508\n",
              "PG-13        286\n",
              "PG           184\n",
              "TV-Y7        169\n",
              "TV-G         149\n",
              "TV-Y         143\n",
              "TV-Y7-FV      95\n",
              "G             37\n",
              "NC-17          2\n",
              "Name: show_id, dtype: int64"
            ]
          },
          "metadata": {
            "tags": []
          },
          "execution_count": 7
        }
      ]
    },
    {
      "cell_type": "markdown",
      "metadata": {
        "id": "Nzb_qAYlfs-9"
      },
      "source": [
        "Then, the \"UR\" (unrated) and \"NR\" (not rated) rows are dropped."
      ]
    },
    {
      "cell_type": "code",
      "metadata": {
        "id": "Xm6pZcw04Mlr",
        "colab": {
          "base_uri": "https://localhost:8080/",
          "height": 312
        },
        "outputId": "5c6d2540-02a3-4ca9-9755-391647ccf72f"
      },
      "source": [
        "def find_target(rating):\n",
        "  if rating in [\"TV_Y7\",\"TV-G\",\"TV-Y\",\"TV-Y7-FV\",\"G\"]:\n",
        "    return 1\n",
        "  return 0 \n",
        "\n",
        "\n",
        "df_[\"target\"] = df_[\"rating\"].apply(find_target)\n",
        "plt.title(\"Distribution of Suitability for Children\")\n",
        "plt.ylabel(\"Number of observations\")\n",
        "plt.xlabel(\"0 = not suitable, 1 = suitable\")\n",
        "plt.xticks((0.25,0.75),(\"0\",\"1\"))\n",
        "df_[\"target\"].hist(bins=2)"
      ],
      "execution_count": null,
      "outputs": [
        {
          "output_type": "execute_result",
          "data": {
            "text/plain": [
              "<matplotlib.axes._subplots.AxesSubplot at 0x7f587755c470>"
            ]
          },
          "metadata": {
            "tags": []
          },
          "execution_count": 8
        },
        {
          "output_type": "display_data",
          "data": {
            "image/png": "[encoded data removed]",
            "text/plain": [
              "<Figure size 432x288 with 1 Axes>"
            ]
          },
          "metadata": {
            "tags": [],
            "needs_background": "light"
          }
        }
      ]
    },
    {
      "cell_type": "markdown",
      "metadata": {
        "id": "bPG7SkIM0-jN"
      },
      "source": [
        "TV_Y7, TV-G, TV-Y, TV-Y7-FV, and G are the types of ratings which is generally suitable for children.\n",
        "\n",
        "find_target function returns 1 if the rating of the movie is suitable for children and 0 vice versa. This information is stored in a new column named \"target\" which we want to achieve.\n",
        "\n",
        "From the histogram it is clearly seen that the movies and TV shows that parents have to be careful about, dominates the ones which is suitable for smaller ages. \n",
        "\n",
        "\n"
      ]
    },
    {
      "cell_type": "code",
      "metadata": {
        "id": "oJ57WTpSQzru"
      },
      "source": [
        "df_.drop([\"show_id\",\"country\"], axis=1, inplace=True)"
      ],
      "execution_count": null,
      "outputs": []
    },
    {
      "cell_type": "markdown",
      "metadata": {
        "id": "I4Hp_g_Dj2qm"
      },
      "source": [
        "The columns that are not useful in the context of this project is also removed."
      ]
    },
    {
      "cell_type": "code",
      "metadata": {
        "id": "H_RwqXCYSx0z",
        "colab": {
          "base_uri": "https://localhost:8080/"
        },
        "outputId": "361b0620-ab3a-4a71-d833-b6071ebd23a5"
      },
      "source": [
        "df_.isna().sum()"
      ],
      "execution_count": null,
      "outputs": [
        {
          "output_type": "execute_result",
          "data": {
            "text/plain": [
              "type               0\n",
              "title              0\n",
              "director        1948\n",
              "cast             539\n",
              "date_added         9\n",
              "release_year       0\n",
              "rating             0\n",
              "duration           0\n",
              "listed_in          0\n",
              "description        0\n",
              "target             0\n",
              "dtype: int64"
            ]
          },
          "metadata": {
            "tags": []
          },
          "execution_count": 10
        }
      ]
    },
    {
      "cell_type": "markdown",
      "metadata": {
        "id": "qoLsfFE0kLaO"
      },
      "source": [
        "There are NAN values in three specific columns which has an importance for this project."
      ]
    },
    {
      "cell_type": "code",
      "metadata": {
        "id": "EphQsnQpTNyI",
        "colab": {
          "base_uri": "https://localhost:8080/"
        },
        "outputId": "3b711570-309b-47db-fd80-f90ec436c83d"
      },
      "source": [
        "df_.fillna(value=\"Unknown\", inplace=True)\n",
        "df_.isna().sum()"
      ],
      "execution_count": null,
      "outputs": [
        {
          "output_type": "execute_result",
          "data": {
            "text/plain": [
              "type            0\n",
              "title           0\n",
              "director        0\n",
              "cast            0\n",
              "date_added      0\n",
              "release_year    0\n",
              "rating          0\n",
              "duration        0\n",
              "listed_in       0\n",
              "description     0\n",
              "target          0\n",
              "dtype: int64"
            ]
          },
          "metadata": {
            "tags": []
          },
          "execution_count": 11
        }
      ]
    },
    {
      "cell_type": "markdown",
      "metadata": {
        "id": "JxVaC4NNkVGb"
      },
      "source": [
        "*The* NAN values are converted into \"Unknown\"."
      ]
    },
    {
      "cell_type": "code",
      "metadata": {
        "id": "Q2zq6FzzLR0H"
      },
      "source": [
        "from sklearn.model_selection import train_test_split\n",
        "y = df_[\"target\"]\n",
        "X = df_.drop(\"target\", axis=1)\n",
        "\n",
        "X_train, X_test, y_train, y_test = train_test_split(X, y, test_size=0.2, random_state=42)\n"
      ],
      "execution_count": null,
      "outputs": []
    },
    {
      "cell_type": "markdown",
      "metadata": {
        "id": "G52UTgmmkbqp"
      },
      "source": [
        "Data is splitted into two parts as train and test with 80% and 20% respectively.\n"
      ]
    },
    {
      "cell_type": "code",
      "metadata": {
        "id": "XyFG3V6sPBdT",
        "colab": {
          "base_uri": "https://localhost:8080/"
        },
        "outputId": "2617dad5-7845-4d3a-fe26-6309e1a73e76"
      },
      "source": [
        "print(len(X_train),len(X_test))"
      ],
      "execution_count": null,
      "outputs": [
        {
          "output_type": "stream",
          "text": [
            "4799 1200\n"
          ],
          "name": "stdout"
        }
      ]
    },
    {
      "cell_type": "markdown",
      "metadata": {
        "id": "ict00io34o_x"
      },
      "source": [
        "## Data Exploration"
      ]
    },
    {
      "cell_type": "markdown",
      "metadata": {
        "id": "Eq09tXADFCVw"
      },
      "source": [
        "Splitting the dataframe into two parts, movies and shows, to check whether the movies or tvShows have more content suitable for children"
      ]
    },
    {
      "cell_type": "code",
      "metadata": {
        "id": "8xUorcpXE_uj",
        "colab": {
          "base_uri": "https://localhost:8080/",
          "height": 224
        },
        "outputId": "e3961a2c-0dd1-4e7e-9f66-e87c16d33b4c"
      },
      "source": [
        "df_m = df_[df_[\"type\"] ==\"Movie\"]\n",
        "df_s = df_[df_[\"type\"] == \"TV Show\"]\n",
        "df_m.head(2)"
      ],
      "execution_count": null,
      "outputs": [
        {
          "output_type": "execute_result",
          "data": {
            "text/html": [
              "<div>\n",
              "<style scoped>\n",
              "    .dataframe tbody tr th:only-of-type {\n",
              "        vertical-align: middle;\n",
              "    }\n",
              "\n",
              "    .dataframe tbody tr th {\n",
              "        vertical-align: top;\n",
              "    }\n",
              "\n",
              "    .dataframe thead th {\n",
              "        text-align: right;\n",
              "    }\n",
              "</style>\n",
              "<table border=\"1\" class=\"dataframe\">\n",
              "  <thead>\n",
              "    <tr style=\"text-align: right;\">\n",
              "      <th></th>\n",
              "      <th>type</th>\n",
              "      <th>title</th>\n",
              "      <th>director</th>\n",
              "      <th>cast</th>\n",
              "      <th>date_added</th>\n",
              "      <th>release_year</th>\n",
              "      <th>rating</th>\n",
              "      <th>duration</th>\n",
              "      <th>listed_in</th>\n",
              "      <th>description</th>\n",
              "      <th>target</th>\n",
              "    </tr>\n",
              "  </thead>\n",
              "  <tbody>\n",
              "    <tr>\n",
              "      <th>0</th>\n",
              "      <td>Movie</td>\n",
              "      <td>Norm of the North: King Sized Adventure</td>\n",
              "      <td>Richard Finn, Tim Maltby</td>\n",
              "      <td>Alan Marriott, Andrew Toth, Brian Dobson, Cole...</td>\n",
              "      <td>September 9, 2019</td>\n",
              "      <td>2019</td>\n",
              "      <td>TV-PG</td>\n",
              "      <td>90 min</td>\n",
              "      <td>Children &amp; Family Movies, Comedies</td>\n",
              "      <td>Before planning an awesome wedding for his gra...</td>\n",
              "      <td>0</td>\n",
              "    </tr>\n",
              "    <tr>\n",
              "      <th>1</th>\n",
              "      <td>Movie</td>\n",
              "      <td>Jandino: Whatever it Takes</td>\n",
              "      <td>Unknown</td>\n",
              "      <td>Jandino Asporaat</td>\n",
              "      <td>September 9, 2016</td>\n",
              "      <td>2016</td>\n",
              "      <td>TV-MA</td>\n",
              "      <td>94 min</td>\n",
              "      <td>Stand-Up Comedy</td>\n",
              "      <td>Jandino Asporaat riffs on the challenges of ra...</td>\n",
              "      <td>0</td>\n",
              "    </tr>\n",
              "  </tbody>\n",
              "</table>\n",
              "</div>"
            ],
            "text/plain": [
              "    type  ... target\n",
              "0  Movie  ...      0\n",
              "1  Movie  ...      0\n",
              "\n",
              "[2 rows x 11 columns]"
            ]
          },
          "metadata": {
            "tags": []
          },
          "execution_count": 14
        }
      ]
    },
    {
      "cell_type": "code",
      "metadata": {
        "id": "H4tKGUjcF2wE",
        "colab": {
          "base_uri": "https://localhost:8080/",
          "height": 207
        },
        "outputId": "daf5b565-402c-498d-8e6e-74e5ac6875cb"
      },
      "source": [
        "df_s.head(2)"
      ],
      "execution_count": null,
      "outputs": [
        {
          "output_type": "execute_result",
          "data": {
            "text/html": [
              "<div>\n",
              "<style scoped>\n",
              "    .dataframe tbody tr th:only-of-type {\n",
              "        vertical-align: middle;\n",
              "    }\n",
              "\n",
              "    .dataframe tbody tr th {\n",
              "        vertical-align: top;\n",
              "    }\n",
              "\n",
              "    .dataframe thead th {\n",
              "        text-align: right;\n",
              "    }\n",
              "</style>\n",
              "<table border=\"1\" class=\"dataframe\">\n",
              "  <thead>\n",
              "    <tr style=\"text-align: right;\">\n",
              "      <th></th>\n",
              "      <th>type</th>\n",
              "      <th>title</th>\n",
              "      <th>director</th>\n",
              "      <th>cast</th>\n",
              "      <th>date_added</th>\n",
              "      <th>release_year</th>\n",
              "      <th>rating</th>\n",
              "      <th>duration</th>\n",
              "      <th>listed_in</th>\n",
              "      <th>description</th>\n",
              "      <th>target</th>\n",
              "    </tr>\n",
              "  </thead>\n",
              "  <tbody>\n",
              "    <tr>\n",
              "      <th>2</th>\n",
              "      <td>TV Show</td>\n",
              "      <td>Transformers Prime</td>\n",
              "      <td>Unknown</td>\n",
              "      <td>Peter Cullen, Sumalee Montano, Frank Welker, J...</td>\n",
              "      <td>September 8, 2018</td>\n",
              "      <td>2013</td>\n",
              "      <td>TV-Y7-FV</td>\n",
              "      <td>1 Season</td>\n",
              "      <td>Kids' TV</td>\n",
              "      <td>With the help of three human allies, the Autob...</td>\n",
              "      <td>1</td>\n",
              "    </tr>\n",
              "    <tr>\n",
              "      <th>3</th>\n",
              "      <td>TV Show</td>\n",
              "      <td>Transformers: Robots in Disguise</td>\n",
              "      <td>Unknown</td>\n",
              "      <td>Will Friedle, Darren Criss, Constance Zimmer, ...</td>\n",
              "      <td>September 8, 2018</td>\n",
              "      <td>2016</td>\n",
              "      <td>TV-Y7</td>\n",
              "      <td>1 Season</td>\n",
              "      <td>Kids' TV</td>\n",
              "      <td>When a prison ship crash unleashes hundreds of...</td>\n",
              "      <td>0</td>\n",
              "    </tr>\n",
              "  </tbody>\n",
              "</table>\n",
              "</div>"
            ],
            "text/plain": [
              "      type  ... target\n",
              "2  TV Show  ...      1\n",
              "3  TV Show  ...      0\n",
              "\n",
              "[2 rows x 11 columns]"
            ]
          },
          "metadata": {
            "tags": []
          },
          "execution_count": 15
        }
      ]
    },
    {
      "cell_type": "markdown",
      "metadata": {
        "id": "-ZzsgTNRF7JU"
      },
      "source": [
        "The rating distribution in Tv Shows & Movies\n",
        "\n",
        "(checking whether TV shows or Movies have more Child-friendly content)"
      ]
    },
    {
      "cell_type": "code",
      "metadata": {
        "id": "ZcK-wNNUGEh8",
        "colab": {
          "base_uri": "https://localhost:8080/",
          "height": 350
        },
        "outputId": "7555865f-f478-4098-9580-d008c9b6f008"
      },
      "source": [
        "ratings = df_['rating'].unique()\n",
        "#print(ratings)\n",
        "allowed = [\"TV-Y7\",\"TV-G\",\"TV-Y\",\"TV-Y7-FV\",\"G\"]\n",
        "dfm = df_m.copy()\n",
        "dfs = df_s.copy()\n",
        "dropList = []\n",
        "for k in ratings:\n",
        "  if k not in allowed:\n",
        "    dropList.append(k)\n",
        "for i in dropList:\n",
        "  dfm  = dfm.drop(dfm[dfm['rating'] == i].index)\n",
        "  dfs  = dfs.drop(dfs[dfs['rating'] == i].index)\n",
        "cnt_m = dfm.groupby('rating')['title'].count().reset_index()\n",
        "cnt_m = cnt_m.sort_values(by=\"title\", ascending=True, ignore_index=True)\n",
        "cnt_s = dfs.groupby('rating')['title'].count().reset_index()\n",
        "cnt_s = cnt_s.sort_values(by=\"title\", ascending=True, ignore_index=True)\n",
        "#plt.figure(figsize=(13,6))\n",
        "r = 1\n",
        "c = 2\n",
        "fig, ax = plt.subplots(r, c, sharex=True, figsize=(15, 5))\n",
        "\n",
        "for i in range(2):\n",
        "  ax[i].set_ylabel(\"Rating\")\n",
        "  ax[i].grid(axis = 'x')\n",
        "ax[0].barh(cnt_m.rating, cnt_m.title, color = \"pink\")\n",
        "ax[1].barh(cnt_s.rating, cnt_s.title, color = \"orange\")\n",
        "ax[0].set_title('Amount of Movies by Rating')\n",
        "ax[1].set_title('Amount of TV Shows by Rating')\n",
        "ax[0].set_xlabel(\"Amount of Movies\")\n",
        "ax[1].set_xlabel(\"Amount of TV Shows\")\n",
        "plt.show()"
      ],
      "execution_count": null,
      "outputs": [
        {
          "output_type": "display_data",
          "data": {
            "image/png": "[encoded data removed]",
            "text/plain": [
              "<Figure size 1080x360 with 2 Axes>"
            ]
          },
          "metadata": {
            "tags": [],
            "needs_background": "light"
          }
        }
      ]
    },
    {
      "cell_type": "markdown",
      "metadata": {
        "id": "T6_2Z_5z53sF"
      },
      "source": [
        "From the graph above, we can observe that there are more content suitable for children audience in tv shows rather than movies"
      ]
    },
    {
      "cell_type": "markdown",
      "metadata": {
        "id": "2tKiFbRzyZbk"
      },
      "source": [
        "For each ranking, we look at directors and amount of movies & tv shows they have directed"
      ]
    },
    {
      "cell_type": "code",
      "metadata": {
        "id": "eSlKdYItGP_K",
        "colab": {
          "base_uri": "https://localhost:8080/",
          "height": 406
        },
        "outputId": "555dcf55-dbdb-4184-fdef-32e47843623e"
      },
      "source": [
        "#there are some movies and tv shows directed by multiple directors, (director = list of directors)\n",
        "#we made the movie to count for each of the directors in that list\n",
        "rating_dir = []\n",
        "max_dir = 0\n",
        "df_c = df_[['rating', 'director']]\n",
        "for index, row in df_c.iterrows():\n",
        "    if row['director'] != 'Unknown':\n",
        "        dirs =  row['director'].split(\",\")\n",
        "        if max_dir <= len(dirs):\n",
        "          max_dir = len(dirs) # maximum number of directors movies/tv shows had\n",
        "        for i in dirs:\n",
        "          i = i.strip()\n",
        "          rating_dir.append([row['rating'], i])\n",
        "df_r_d = pd.DataFrame(rating_dir, columns=['rating', 'director'])\n",
        "grp = df_r_d.groupby(\"rating\")[\"director\"].value_counts()\n",
        "df_r_d"
      ],
      "execution_count": null,
      "outputs": [
        {
          "output_type": "execute_result",
          "data": {
            "text/html": [
              "<div>\n",
              "<style scoped>\n",
              "    .dataframe tbody tr th:only-of-type {\n",
              "        vertical-align: middle;\n",
              "    }\n",
              "\n",
              "    .dataframe tbody tr th {\n",
              "        vertical-align: top;\n",
              "    }\n",
              "\n",
              "    .dataframe thead th {\n",
              "        text-align: right;\n",
              "    }\n",
              "</style>\n",
              "<table border=\"1\" class=\"dataframe\">\n",
              "  <thead>\n",
              "    <tr style=\"text-align: right;\">\n",
              "      <th></th>\n",
              "      <th>rating</th>\n",
              "      <th>director</th>\n",
              "    </tr>\n",
              "  </thead>\n",
              "  <tbody>\n",
              "    <tr>\n",
              "      <th>0</th>\n",
              "      <td>TV-PG</td>\n",
              "      <td>Richard Finn</td>\n",
              "    </tr>\n",
              "    <tr>\n",
              "      <th>1</th>\n",
              "      <td>TV-PG</td>\n",
              "      <td>Tim Maltby</td>\n",
              "    </tr>\n",
              "    <tr>\n",
              "      <th>2</th>\n",
              "      <td>TV-14</td>\n",
              "      <td>Fernando Lebrija</td>\n",
              "    </tr>\n",
              "    <tr>\n",
              "      <th>3</th>\n",
              "      <td>R</td>\n",
              "      <td>Gabe Ibáñez</td>\n",
              "    </tr>\n",
              "    <tr>\n",
              "      <th>4</th>\n",
              "      <td>TV-MA</td>\n",
              "      <td>Rodrigo Toro</td>\n",
              "    </tr>\n",
              "    <tr>\n",
              "      <th>...</th>\n",
              "      <td>...</td>\n",
              "      <td>...</td>\n",
              "    </tr>\n",
              "    <tr>\n",
              "      <th>4587</th>\n",
              "      <td>TV-Y7</td>\n",
              "      <td>Thomas Astruc</td>\n",
              "    </tr>\n",
              "    <tr>\n",
              "      <th>4588</th>\n",
              "      <td>TV-MA</td>\n",
              "      <td>Vikramaditya Motwane</td>\n",
              "    </tr>\n",
              "    <tr>\n",
              "      <th>4589</th>\n",
              "      <td>TV-MA</td>\n",
              "      <td>Anurag Kashyap</td>\n",
              "    </tr>\n",
              "    <tr>\n",
              "      <th>4590</th>\n",
              "      <td>TV-14</td>\n",
              "      <td>Jung-ah Im</td>\n",
              "    </tr>\n",
              "    <tr>\n",
              "      <th>4591</th>\n",
              "      <td>TV-PG</td>\n",
              "      <td>Onur Ünlü</td>\n",
              "    </tr>\n",
              "  </tbody>\n",
              "</table>\n",
              "<p>4592 rows × 2 columns</p>\n",
              "</div>"
            ],
            "text/plain": [
              "     rating              director\n",
              "0     TV-PG          Richard Finn\n",
              "1     TV-PG            Tim Maltby\n",
              "2     TV-14      Fernando Lebrija\n",
              "3         R           Gabe Ibáñez\n",
              "4     TV-MA          Rodrigo Toro\n",
              "...     ...                   ...\n",
              "4587  TV-Y7         Thomas Astruc\n",
              "4588  TV-MA  Vikramaditya Motwane\n",
              "4589  TV-MA        Anurag Kashyap\n",
              "4590  TV-14            Jung-ah Im\n",
              "4591  TV-PG             Onur Ünlü\n",
              "\n",
              "[4592 rows x 2 columns]"
            ]
          },
          "metadata": {
            "tags": []
          },
          "execution_count": 17
        }
      ]
    },
    {
      "cell_type": "markdown",
      "metadata": {
        "id": "tw56Ff6a0ske"
      },
      "source": [
        "Directors and amount of movies/shows they've directed in children-friendly ratings"
      ]
    },
    {
      "cell_type": "code",
      "metadata": {
        "id": "2MxYX_Yl1H-H",
        "colab": {
          "base_uri": "https://localhost:8080/",
          "height": 406
        },
        "outputId": "5a6b75d0-7c5b-4a57-de49-83010c48b52c"
      },
      "source": [
        "#this is a dataframe with directors and their amount of work, in the children friendly rating\n",
        "ratings = df_['rating'].unique()\n",
        "df_ch = df_r_d.copy()\n",
        "ListA = [\"PG-13\", \"PG\", \"TV-PG\", \"TV-MA\", \"TV-14\", \"R\", \"NG-17\"]\n",
        "dropList = []\n",
        "for k in ratings:\n",
        "  if k in ListA:\n",
        "    dropList.append(k)\n",
        "for i in dropList:\n",
        "  df_ch = df_ch.drop(df_ch[df_ch['rating'] == i].index)\n",
        "\n",
        "grpch = df_ch.groupby(\"rating\")[\"director\"].value_counts()\n",
        "ch_rat_dir_count = []\n",
        "for i in grpch.items():\n",
        "  a = list(i[0])\n",
        "  a.append(i[1])\n",
        "  ch_rat_dir_count.append(a)\n",
        "ch = pd.DataFrame(ch_rat_dir_count,columns = [\"rating\", \"director\", \"amount of content\"])\n",
        "ch.reset_index(drop=True, inplace=True)\n",
        "ch\n"
      ],
      "execution_count": null,
      "outputs": [
        {
          "output_type": "execute_result",
          "data": {
            "text/html": [
              "<div>\n",
              "<style scoped>\n",
              "    .dataframe tbody tr th:only-of-type {\n",
              "        vertical-align: middle;\n",
              "    }\n",
              "\n",
              "    .dataframe tbody tr th {\n",
              "        vertical-align: top;\n",
              "    }\n",
              "\n",
              "    .dataframe thead th {\n",
              "        text-align: right;\n",
              "    }\n",
              "</style>\n",
              "<table border=\"1\" class=\"dataframe\">\n",
              "  <thead>\n",
              "    <tr style=\"text-align: right;\">\n",
              "      <th></th>\n",
              "      <th>rating</th>\n",
              "      <th>director</th>\n",
              "      <th>amount of content</th>\n",
              "    </tr>\n",
              "  </thead>\n",
              "  <tbody>\n",
              "    <tr>\n",
              "      <th>0</th>\n",
              "      <td>G</td>\n",
              "      <td>Ben Wallis</td>\n",
              "      <td>2</td>\n",
              "    </tr>\n",
              "    <tr>\n",
              "      <th>1</th>\n",
              "      <td>G</td>\n",
              "      <td>Joe Camp</td>\n",
              "      <td>2</td>\n",
              "    </tr>\n",
              "    <tr>\n",
              "      <th>2</th>\n",
              "      <td>G</td>\n",
              "      <td>Larry Latham</td>\n",
              "      <td>2</td>\n",
              "    </tr>\n",
              "    <tr>\n",
              "      <th>3</th>\n",
              "      <td>G</td>\n",
              "      <td>Phil Weinstein</td>\n",
              "      <td>2</td>\n",
              "    </tr>\n",
              "    <tr>\n",
              "      <th>4</th>\n",
              "      <td>G</td>\n",
              "      <td>Robert Vince</td>\n",
              "      <td>2</td>\n",
              "    </tr>\n",
              "    <tr>\n",
              "      <th>...</th>\n",
              "      <td>...</td>\n",
              "      <td>...</td>\n",
              "      <td>...</td>\n",
              "    </tr>\n",
              "    <tr>\n",
              "      <th>247</th>\n",
              "      <td>TV-Y7-FV</td>\n",
              "      <td>Prakash Satam</td>\n",
              "      <td>1</td>\n",
              "    </tr>\n",
              "    <tr>\n",
              "      <th>248</th>\n",
              "      <td>TV-Y7-FV</td>\n",
              "      <td>Suhas Kadav</td>\n",
              "      <td>1</td>\n",
              "    </tr>\n",
              "    <tr>\n",
              "      <th>249</th>\n",
              "      <td>TV-Y7-FV</td>\n",
              "      <td>Sumit Das</td>\n",
              "      <td>1</td>\n",
              "    </tr>\n",
              "    <tr>\n",
              "      <th>250</th>\n",
              "      <td>TV-Y7-FV</td>\n",
              "      <td>Victor Cook</td>\n",
              "      <td>1</td>\n",
              "    </tr>\n",
              "    <tr>\n",
              "      <th>251</th>\n",
              "      <td>TV-Y7-FV</td>\n",
              "      <td>Young Jun Lee</td>\n",
              "      <td>1</td>\n",
              "    </tr>\n",
              "  </tbody>\n",
              "</table>\n",
              "<p>252 rows × 3 columns</p>\n",
              "</div>"
            ],
            "text/plain": [
              "       rating        director  amount of content\n",
              "0           G      Ben Wallis                  2\n",
              "1           G        Joe Camp                  2\n",
              "2           G    Larry Latham                  2\n",
              "3           G  Phil Weinstein                  2\n",
              "4           G    Robert Vince                  2\n",
              "..        ...             ...                ...\n",
              "247  TV-Y7-FV   Prakash Satam                  1\n",
              "248  TV-Y7-FV     Suhas Kadav                  1\n",
              "249  TV-Y7-FV       Sumit Das                  1\n",
              "250  TV-Y7-FV     Victor Cook                  1\n",
              "251  TV-Y7-FV   Young Jun Lee                  1\n",
              "\n",
              "[252 rows x 3 columns]"
            ]
          },
          "metadata": {
            "tags": []
          },
          "execution_count": 18
        }
      ]
    },
    {
      "cell_type": "markdown",
      "metadata": {
        "id": "X2yPsTE_7L5V"
      },
      "source": [
        "We see that some directors directed more child-friendly content, this can help us in our classification, i.e. if a movie/show directed by Ben Wallis, it is more likely to have more child-friendly content"
      ]
    },
    {
      "cell_type": "markdown",
      "metadata": {
        "id": "aAn0IV0d2yHx"
      },
      "source": [
        "Directors and amount of movies/shows they've directed in non-children-friendly ratings"
      ]
    },
    {
      "cell_type": "code",
      "metadata": {
        "id": "agKv_CcsuGNa",
        "colab": {
          "base_uri": "https://localhost:8080/",
          "height": 406
        },
        "outputId": "40ca35cd-8c07-4c0b-ab4d-9d47d1b3b16f"
      },
      "source": [
        "#this is a dataframe with directors and their amount of work, in children non-friendly rating\n",
        "df_nch = df_r_d.copy()\n",
        "ListA = [\"PG-13\", \"PG\", \"TV-PG\", \"TV-MA\", \"TV-14\", \"R\", \"NG-17\"]\n",
        "dropList = []\n",
        "for k in ratings:\n",
        "  if k not in ListA:\n",
        "    dropList.append(k)\n",
        "for i in dropList:\n",
        "  df_nch = df_nch.drop(df_nch[df_nch['rating'] == i].index)\n",
        "\n",
        "grpch = df_nch.groupby(\"rating\")[\"director\"].value_counts()\n",
        "nch_rat_dir_count = []\n",
        "for i in grpch.items():\n",
        "  a = list(i[0])\n",
        "  a.append(i[1])\n",
        "  nch_rat_dir_count.append(a)\n",
        "nch = pd.DataFrame(nch_rat_dir_count,columns = [\"rating\", \"director\", \"amount of content\"])\n",
        "nch.reset_index(drop=True, inplace=True)\n",
        "nch"
      ],
      "execution_count": null,
      "outputs": [
        {
          "output_type": "execute_result",
          "data": {
            "text/html": [
              "<div>\n",
              "<style scoped>\n",
              "    .dataframe tbody tr th:only-of-type {\n",
              "        vertical-align: middle;\n",
              "    }\n",
              "\n",
              "    .dataframe tbody tr th {\n",
              "        vertical-align: top;\n",
              "    }\n",
              "\n",
              "    .dataframe thead th {\n",
              "        text-align: right;\n",
              "    }\n",
              "</style>\n",
              "<table border=\"1\" class=\"dataframe\">\n",
              "  <thead>\n",
              "    <tr style=\"text-align: right;\">\n",
              "      <th></th>\n",
              "      <th>rating</th>\n",
              "      <th>director</th>\n",
              "      <th>amount of content</th>\n",
              "    </tr>\n",
              "  </thead>\n",
              "  <tbody>\n",
              "    <tr>\n",
              "      <th>0</th>\n",
              "      <td>PG</td>\n",
              "      <td>Robert Rodriguez</td>\n",
              "      <td>6</td>\n",
              "    </tr>\n",
              "    <tr>\n",
              "      <th>1</th>\n",
              "      <td>PG</td>\n",
              "      <td>Robert Vince</td>\n",
              "      <td>4</td>\n",
              "    </tr>\n",
              "    <tr>\n",
              "      <th>2</th>\n",
              "      <td>PG</td>\n",
              "      <td>Justin G. Dyck</td>\n",
              "      <td>3</td>\n",
              "    </tr>\n",
              "    <tr>\n",
              "      <th>3</th>\n",
              "      <td>PG</td>\n",
              "      <td>Steve Carr</td>\n",
              "      <td>3</td>\n",
              "    </tr>\n",
              "    <tr>\n",
              "      <th>4</th>\n",
              "      <td>PG</td>\n",
              "      <td>Steven Spielberg</td>\n",
              "      <td>3</td>\n",
              "    </tr>\n",
              "    <tr>\n",
              "      <th>...</th>\n",
              "      <td>...</td>\n",
              "      <td>...</td>\n",
              "      <td>...</td>\n",
              "    </tr>\n",
              "    <tr>\n",
              "      <th>3642</th>\n",
              "      <td>TV-PG</td>\n",
              "      <td>Yann Arthus-Bertrand</td>\n",
              "      <td>1</td>\n",
              "    </tr>\n",
              "    <tr>\n",
              "      <th>3643</th>\n",
              "      <td>TV-PG</td>\n",
              "      <td>Yee Tung-Shing</td>\n",
              "      <td>1</td>\n",
              "    </tr>\n",
              "    <tr>\n",
              "      <th>3644</th>\n",
              "      <td>TV-PG</td>\n",
              "      <td>Yoshitaka Takeuchi</td>\n",
              "      <td>1</td>\n",
              "    </tr>\n",
              "    <tr>\n",
              "      <th>3645</th>\n",
              "      <td>TV-PG</td>\n",
              "      <td>Zakariya</td>\n",
              "      <td>1</td>\n",
              "    </tr>\n",
              "    <tr>\n",
              "      <th>3646</th>\n",
              "      <td>TV-PG</td>\n",
              "      <td>Zoya Akhtar</td>\n",
              "      <td>1</td>\n",
              "    </tr>\n",
              "  </tbody>\n",
              "</table>\n",
              "<p>3647 rows × 3 columns</p>\n",
              "</div>"
            ],
            "text/plain": [
              "     rating              director  amount of content\n",
              "0        PG      Robert Rodriguez                  6\n",
              "1        PG          Robert Vince                  4\n",
              "2        PG        Justin G. Dyck                  3\n",
              "3        PG            Steve Carr                  3\n",
              "4        PG      Steven Spielberg                  3\n",
              "...     ...                   ...                ...\n",
              "3642  TV-PG  Yann Arthus-Bertrand                  1\n",
              "3643  TV-PG        Yee Tung-Shing                  1\n",
              "3644  TV-PG    Yoshitaka Takeuchi                  1\n",
              "3645  TV-PG              Zakariya                  1\n",
              "3646  TV-PG           Zoya Akhtar                  1\n",
              "\n",
              "[3647 rows x 3 columns]"
            ]
          },
          "metadata": {
            "tags": []
          },
          "execution_count": 19
        }
      ]
    },
    {
      "cell_type": "markdown",
      "metadata": {
        "id": "qlQiCWhm27d6"
      },
      "source": [
        "Checking if a director belongs to both groups (children-friendly and non-children friendly), later these directors can be analyzed separately, by giving a threshold of 1 or 2"
      ]
    },
    {
      "cell_type": "code",
      "metadata": {
        "id": "TREIudXszyUm",
        "colab": {
          "base_uri": "https://localhost:8080/",
          "height": 551
        },
        "outputId": "75b40930-32a6-41cb-8516-2bed6be379d6"
      },
      "source": [
        "ch_dir =  list(ch['director'])\n",
        "nch_dir =  list(nch['director'])\n",
        "common = set(ch_dir).intersection(nch_dir)\n",
        "common = list(common)\n",
        "print(common)\n",
        "dirs = []\n",
        "nch_rating = []\n",
        "nch_amount = []\n",
        "ch_rating = []\n",
        "ch_amount = []\n",
        "\n",
        "if len(common) >= 1:\n",
        "  a = nch[nch[\"director\"] == common[0]]\n",
        "  b = ch[ch[\"director\"] == common[0]]\n",
        "  for i in range(1, len(common)):\n",
        "    a = a.append(nch[nch[\"director\"] == common[i]])\n",
        "    b = b.append(ch[ch[\"director\"] == common[i]])\n",
        "grpB = b.groupby('director')['rating'].count()\n",
        "grpA = a.groupby('director')['rating'].count()\n",
        "for k,v in grpB.items():\n",
        "  ch_rating.append(k)\n",
        "  ch_amount.append(v)\n",
        "for k,v in grpA.items():\n",
        "  nch_rating.append(k)\n",
        "  nch_amount.append(v)\n",
        "fig = plt.figure(figsize=(10,8))\n",
        "\n",
        "plt.barh(nch_rating, nch_amount, height = 0.9)\n",
        "plt.barh(ch_rating, ch_amount, height= 0.6, color = \"#8BEDB2\")\n",
        "plt.title(\"Common directors by amount of movies/tv shows\")\n",
        "plt.legend(['not for children','for children'])\n",
        "plt.xlabel('amount of content')\n",
        "plt.ylabel('director')\n",
        "plt.grid()"
      ],
      "execution_count": null,
      "outputs": [
        {
          "output_type": "stream",
          "text": [
            "['Luis Ara', 'Roger Allers', 'Mana Yasuda', 'Justin G. Dyck', 'Ron Oliver', 'Jon M. Chu', 'Martin Gorst', 'Alastair Fothergill', 'Sooraj R. Barjatya', 'Fisher Stevens', 'Greg MacGillivray', 'Simon Wells', 'Mae Czarina Cruz', 'Nagesh Kukunoor', 'Eric Radomski', 'Leslie Iwerks', 'Robert Vince', 'Chris Buck', 'James Yukich', 'Jani Lachauer', 'Byron Howard', 'Joe Camp', 'Jon Rosenbaum', 'John Ford', 'Savage Steve Holland', 'Clay Glen']\n"
          ],
          "name": "stdout"
        },
        {
          "output_type": "display_data",
          "data": {
            "image/png": "[encoded data removed]",
            "text/plain": [
              "<Figure size 720x576 with 1 Axes>"
            ]
          },
          "metadata": {
            "tags": [],
            "needs_background": "light"
          }
        }
      ]
    },
    {
      "cell_type": "markdown",
      "metadata": {
        "id": "hAD4v6_u71r4"
      },
      "source": [
        "To understand the distribution of movies suitable for children, we can check the distribution among movie genres. We grouped the movies/tv shows with respect to their genres and marked them as children friendly and non-children friendly. "
      ]
    },
    {
      "cell_type": "code",
      "metadata": {
        "id": "aJWMWfMj-kXU",
        "colab": {
          "base_uri": "https://localhost:8080/",
          "height": 656
        },
        "outputId": "4f8c760b-6c5d-47ed-9926-7830bb616379"
      },
      "source": [
        "#get children-friendly movies df\n",
        "List_f = [\"PG-13\", \"PG\", \"TV-PG\", \"TV-MA\", \"TV-14\", \"R\", \"NG-17\"]\n",
        "List_nf = [\"TV-Y7\", \"TV-G\", \"TV-Y\", \"TV-Y7-FV\", \"G\"]\n",
        "\n",
        "friendly = df_.copy()\n",
        "\n",
        "for i in List_nf:\n",
        "  friendly = friendly.drop(friendly[friendly[\"rating\"] == i].index)\n",
        "\n",
        "\n",
        "#get non-children friendly movies df\n",
        "n_friendly = df_.copy()\n",
        "\n",
        "for i in List_f:\n",
        "  n_friendly = n_friendly.drop(n_friendly[n_friendly[\"rating\"] == i].index)\n",
        "\n",
        "#group friendly\n",
        "frank_group = friendly.groupby(\"listed_in\")\n",
        "listed_in_groups = frank_group[\"rating\"] \n",
        "d = listed_in_groups.value_counts().sort_values()\n",
        "\n",
        "type_count_dict = {}\n",
        "for name, group in listed_in_groups:\n",
        "  names = name.split(\",\")\n",
        "  for name in names:\n",
        "    name = name.strip()\n",
        "    if name in type_count_dict:\n",
        "      type_count_dict[name] +=1\n",
        "    else: \n",
        "      type_count_dict[name] =1\n",
        "\n",
        "plt.figure(figsize = (15,10)) \n",
        "type_count_dict = {k: v for k, v in sorted(type_count_dict.items(), key=lambda item: item[1])}\n",
        "\n",
        "nfrank_group = n_friendly.groupby(\"listed_in\")\n",
        "listed_in_groups2 = nfrank_group[\"rating\"] \n",
        "d2 = listed_in_groups2.value_counts().sort_values()\n",
        "\n",
        "print(listed_in_groups2)\n",
        "\n",
        "type_count_dict2 = {}\n",
        "for name, group in listed_in_groups2:\n",
        "  names = name.split(\",\")\n",
        "  for name in names:\n",
        "    name = name.strip()\n",
        "    if name in type_count_dict2:\n",
        "      type_count_dict2[name] +=1\n",
        "    else: \n",
        "      type_count_dict2[name] = 1\n",
        "\n",
        "type_count_dict2 = {k: v for k, v in sorted(type_count_dict2.items(), key=lambda item: item[1])}\n",
        "\n",
        "plt.figure(figsize = (15,10)) \n",
        "plt.barh(list(type_count_dict.keys()), list(type_count_dict.values()), height = 0.8, color = \"mediumpurple\") \n",
        "plt.barh(list(type_count_dict2.keys()), list(type_count_dict2.values()), height = 0.5, color = \"blue\") \n",
        "plt.ylabel(\"listed in\")\n",
        "plt.xlabel(\"count of movies\")\n",
        "plt.title(\"Distribution of Movies/TV Shows Among Genres\")\n",
        "plt.legend([\"non-friendly\", \"friendly\"])\n",
        "plt.show()"
      ],
      "execution_count": null,
      "outputs": [
        {
          "output_type": "stream",
          "text": [
            "<pandas.core.groupby.generic.SeriesGroupBy object at 0x7f5866302e48>\n"
          ],
          "name": "stdout"
        },
        {
          "output_type": "display_data",
          "data": {
            "text/plain": [
              "<Figure size 1080x720 with 0 Axes>"
            ]
          },
          "metadata": {
            "tags": []
          }
        },
        {
          "output_type": "display_data",
          "data": {
            "image/png": "[encoded data removed]",
            "text/plain": [
              "<Figure size 1080x720 with 1 Axes>"
            ]
          },
          "metadata": {
            "tags": [],
            "needs_background": "light"
          }
        }
      ]
    },
    {
      "cell_type": "markdown",
      "metadata": {
        "id": "jOtoNXM6x4kM"
      },
      "source": [
        "As it can be seen, in some genres the distribution significance is too high. For instance, \"Thriller\" genre is only filled with children non-friendly ones. In contrast, \"Kids\" genre is mostly filled with children friendly ones. Thus, genre distribution decided to be an important indicator while categorizing the movies/tv shows. That's why we then modified the dataframe to make the genre available for the machine learning algorithms. We created columns for each genre and then initialized it to 0. Afterwards for each row, we made the respective genre 1 in a one-hot encoding manner. Updated dataframe's first 10 rows can be seen below."
      ]
    },
    {
      "cell_type": "code",
      "metadata": {
        "id": "Kel_0z3702O3",
        "colab": {
          "base_uri": "https://localhost:8080/",
          "height": 1000
        },
        "outputId": "7af922be-99dd-4d44-d669-5f082809a665"
      },
      "source": [
        "#add genre as columns \n",
        "union_of_genres = set(type_count_dict2.keys()).union(set(type_count_dict.keys())) #take all genres in the df \n",
        "\n",
        "extended_df = df_.copy()\n",
        "\n",
        "#make each genre a column and initialize it to 0\n",
        "for genre in list(union_of_genres):\n",
        "  extended_df[genre] = 0\n",
        "\n",
        "#set the counter for each genre\n",
        "for idx, row in extended_df.iterrows():\n",
        "  genres = extended_df.loc[idx][\"listed_in\"].split(\",\")\n",
        "  for i in genres:\n",
        "    i = i.strip()\n",
        "    extended_df.at[idx,i] =  1\n",
        "\n",
        "extended_df.head(10)"
      ],
      "execution_count": null,
      "outputs": [
        {
          "output_type": "execute_result",
          "data": {
            "text/html": [
              "<div>\n",
              "<style scoped>\n",
              "    .dataframe tbody tr th:only-of-type {\n",
              "        vertical-align: middle;\n",
              "    }\n",
              "\n",
              "    .dataframe tbody tr th {\n",
              "        vertical-align: top;\n",
              "    }\n",
              "\n",
              "    .dataframe thead th {\n",
              "        text-align: right;\n",
              "    }\n",
              "</style>\n",
              "<table border=\"1\" class=\"dataframe\">\n",
              "  <thead>\n",
              "    <tr style=\"text-align: right;\">\n",
              "      <th></th>\n",
              "      <th>type</th>\n",
              "      <th>title</th>\n",
              "      <th>director</th>\n",
              "      <th>cast</th>\n",
              "      <th>date_added</th>\n",
              "      <th>release_year</th>\n",
              "      <th>rating</th>\n",
              "      <th>duration</th>\n",
              "      <th>listed_in</th>\n",
              "      <th>description</th>\n",
              "      <th>target</th>\n",
              "      <th>Sci-Fi &amp; Fantasy</th>\n",
              "      <th>Comedies</th>\n",
              "      <th>Action &amp; Adventure</th>\n",
              "      <th>Independent Movies</th>\n",
              "      <th>Horror Movies</th>\n",
              "      <th>TV Thrillers</th>\n",
              "      <th>Kids' TV</th>\n",
              "      <th>Anime Series</th>\n",
              "      <th>Movies</th>\n",
              "      <th>Teen TV Shows</th>\n",
              "      <th>Classic Movies</th>\n",
              "      <th>Classic &amp; Cult TV</th>\n",
              "      <th>International Movies</th>\n",
              "      <th>Thrillers</th>\n",
              "      <th>TV Sci-Fi &amp; Fantasy</th>\n",
              "      <th>Stand-Up Comedy</th>\n",
              "      <th>Sports Movies</th>\n",
              "      <th>Dramas</th>\n",
              "      <th>Cult Movies</th>\n",
              "      <th>Anime Features</th>\n",
              "      <th>TV Horror</th>\n",
              "      <th>International TV Shows</th>\n",
              "      <th>Korean TV Shows</th>\n",
              "      <th>Reality TV</th>\n",
              "      <th>Crime TV Shows</th>\n",
              "      <th>LGBTQ Movies</th>\n",
              "      <th>British TV Shows</th>\n",
              "      <th>Spanish-Language TV Shows</th>\n",
              "      <th>TV Shows</th>\n",
              "      <th>Children &amp; Family Movies</th>\n",
              "      <th>Documentaries</th>\n",
              "      <th>Faith &amp; Spirituality</th>\n",
              "      <th>TV Mysteries</th>\n",
              "      <th>Science &amp; Nature TV</th>\n",
              "      <th>Romantic TV Shows</th>\n",
              "      <th>Music &amp; Musicals</th>\n",
              "      <th>TV Dramas</th>\n",
              "      <th>TV Action &amp; Adventure</th>\n",
              "      <th>Romantic Movies</th>\n",
              "      <th>Stand-Up Comedy &amp; Talk Shows</th>\n",
              "      <th>TV Comedies</th>\n",
              "      <th>Docuseries</th>\n",
              "    </tr>\n",
              "  </thead>\n",
              "  <tbody>\n",
              "    <tr>\n",
              "      <th>0</th>\n",
              "      <td>Movie</td>\n",
              "      <td>Norm of the North: King Sized Adventure</td>\n",
              "      <td>Richard Finn, Tim Maltby</td>\n",
              "      <td>Alan Marriott, Andrew Toth, Brian Dobson, Cole...</td>\n",
              "      <td>September 9, 2019</td>\n",
              "      <td>2019</td>\n",
              "      <td>TV-PG</td>\n",
              "      <td>90 min</td>\n",
              "      <td>Children &amp; Family Movies, Comedies</td>\n",
              "      <td>Before planning an awesome wedding for his gra...</td>\n",
              "      <td>0</td>\n",
              "      <td>0</td>\n",
              "      <td>1</td>\n",
              "      <td>0</td>\n",
              "      <td>0</td>\n",
              "      <td>0</td>\n",
              "      <td>0</td>\n",
              "      <td>0</td>\n",
              "      <td>0</td>\n",
              "      <td>0</td>\n",
              "      <td>0</td>\n",
              "      <td>0</td>\n",
              "      <td>0</td>\n",
              "      <td>0</td>\n",
              "      <td>0</td>\n",
              "      <td>0</td>\n",
              "      <td>0</td>\n",
              "      <td>0</td>\n",
              "      <td>0</td>\n",
              "      <td>0</td>\n",
              "      <td>0</td>\n",
              "      <td>0</td>\n",
              "      <td>0</td>\n",
              "      <td>0</td>\n",
              "      <td>0</td>\n",
              "      <td>0</td>\n",
              "      <td>0</td>\n",
              "      <td>0</td>\n",
              "      <td>0</td>\n",
              "      <td>0</td>\n",
              "      <td>1</td>\n",
              "      <td>0</td>\n",
              "      <td>0</td>\n",
              "      <td>0</td>\n",
              "      <td>0</td>\n",
              "      <td>0</td>\n",
              "      <td>0</td>\n",
              "      <td>0</td>\n",
              "      <td>0</td>\n",
              "      <td>0</td>\n",
              "      <td>0</td>\n",
              "      <td>0</td>\n",
              "      <td>0</td>\n",
              "    </tr>\n",
              "    <tr>\n",
              "      <th>1</th>\n",
              "      <td>Movie</td>\n",
              "      <td>Jandino: Whatever it Takes</td>\n",
              "      <td>Unknown</td>\n",
              "      <td>Jandino Asporaat</td>\n",
              "      <td>September 9, 2016</td>\n",
              "      <td>2016</td>\n",
              "      <td>TV-MA</td>\n",
              "      <td>94 min</td>\n",
              "      <td>Stand-Up Comedy</td>\n",
              "      <td>Jandino Asporaat riffs on the challenges of ra...</td>\n",
              "      <td>0</td>\n",
              "      <td>0</td>\n",
              "      <td>0</td>\n",
              "      <td>0</td>\n",
              "      <td>0</td>\n",
              "      <td>0</td>\n",
              "      <td>0</td>\n",
              "      <td>0</td>\n",
              "      <td>0</td>\n",
              "      <td>0</td>\n",
              "      <td>0</td>\n",
              "      <td>0</td>\n",
              "      <td>0</td>\n",
              "      <td>0</td>\n",
              "      <td>0</td>\n",
              "      <td>0</td>\n",
              "      <td>1</td>\n",
              "      <td>0</td>\n",
              "      <td>0</td>\n",
              "      <td>0</td>\n",
              "      <td>0</td>\n",
              "      <td>0</td>\n",
              "      <td>0</td>\n",
              "      <td>0</td>\n",
              "      <td>0</td>\n",
              "      <td>0</td>\n",
              "      <td>0</td>\n",
              "      <td>0</td>\n",
              "      <td>0</td>\n",
              "      <td>0</td>\n",
              "      <td>0</td>\n",
              "      <td>0</td>\n",
              "      <td>0</td>\n",
              "      <td>0</td>\n",
              "      <td>0</td>\n",
              "      <td>0</td>\n",
              "      <td>0</td>\n",
              "      <td>0</td>\n",
              "      <td>0</td>\n",
              "      <td>0</td>\n",
              "      <td>0</td>\n",
              "      <td>0</td>\n",
              "      <td>0</td>\n",
              "    </tr>\n",
              "    <tr>\n",
              "      <th>2</th>\n",
              "      <td>TV Show</td>\n",
              "      <td>Transformers Prime</td>\n",
              "      <td>Unknown</td>\n",
              "      <td>Peter Cullen, Sumalee Montano, Frank Welker, J...</td>\n",
              "      <td>September 8, 2018</td>\n",
              "      <td>2013</td>\n",
              "      <td>TV-Y7-FV</td>\n",
              "      <td>1 Season</td>\n",
              "      <td>Kids' TV</td>\n",
              "      <td>With the help of three human allies, the Autob...</td>\n",
              "      <td>1</td>\n",
              "      <td>0</td>\n",
              "      <td>0</td>\n",
              "      <td>0</td>\n",
              "      <td>0</td>\n",
              "      <td>0</td>\n",
              "      <td>0</td>\n",
              "      <td>1</td>\n",
              "      <td>0</td>\n",
              "      <td>0</td>\n",
              "      <td>0</td>\n",
              "      <td>0</td>\n",
              "      <td>0</td>\n",
              "      <td>0</td>\n",
              "      <td>0</td>\n",
              "      <td>0</td>\n",
              "      <td>0</td>\n",
              "      <td>0</td>\n",
              "      <td>0</td>\n",
              "      <td>0</td>\n",
              "      <td>0</td>\n",
              "      <td>0</td>\n",
              "      <td>0</td>\n",
              "      <td>0</td>\n",
              "      <td>0</td>\n",
              "      <td>0</td>\n",
              "      <td>0</td>\n",
              "      <td>0</td>\n",
              "      <td>0</td>\n",
              "      <td>0</td>\n",
              "      <td>0</td>\n",
              "      <td>0</td>\n",
              "      <td>0</td>\n",
              "      <td>0</td>\n",
              "      <td>0</td>\n",
              "      <td>0</td>\n",
              "      <td>0</td>\n",
              "      <td>0</td>\n",
              "      <td>0</td>\n",
              "      <td>0</td>\n",
              "      <td>0</td>\n",
              "      <td>0</td>\n",
              "      <td>0</td>\n",
              "    </tr>\n",
              "    <tr>\n",
              "      <th>3</th>\n",
              "      <td>TV Show</td>\n",
              "      <td>Transformers: Robots in Disguise</td>\n",
              "      <td>Unknown</td>\n",
              "      <td>Will Friedle, Darren Criss, Constance Zimmer, ...</td>\n",
              "      <td>September 8, 2018</td>\n",
              "      <td>2016</td>\n",
              "      <td>TV-Y7</td>\n",
              "      <td>1 Season</td>\n",
              "      <td>Kids' TV</td>\n",
              "      <td>When a prison ship crash unleashes hundreds of...</td>\n",
              "      <td>0</td>\n",
              "      <td>0</td>\n",
              "      <td>0</td>\n",
              "      <td>0</td>\n",
              "      <td>0</td>\n",
              "      <td>0</td>\n",
              "      <td>0</td>\n",
              "      <td>1</td>\n",
              "      <td>0</td>\n",
              "      <td>0</td>\n",
              "      <td>0</td>\n",
              "      <td>0</td>\n",
              "      <td>0</td>\n",
              "      <td>0</td>\n",
              "      <td>0</td>\n",
              "      <td>0</td>\n",
              "      <td>0</td>\n",
              "      <td>0</td>\n",
              "      <td>0</td>\n",
              "      <td>0</td>\n",
              "      <td>0</td>\n",
              "      <td>0</td>\n",
              "      <td>0</td>\n",
              "      <td>0</td>\n",
              "      <td>0</td>\n",
              "      <td>0</td>\n",
              "      <td>0</td>\n",
              "      <td>0</td>\n",
              "      <td>0</td>\n",
              "      <td>0</td>\n",
              "      <td>0</td>\n",
              "      <td>0</td>\n",
              "      <td>0</td>\n",
              "      <td>0</td>\n",
              "      <td>0</td>\n",
              "      <td>0</td>\n",
              "      <td>0</td>\n",
              "      <td>0</td>\n",
              "      <td>0</td>\n",
              "      <td>0</td>\n",
              "      <td>0</td>\n",
              "      <td>0</td>\n",
              "      <td>0</td>\n",
              "    </tr>\n",
              "    <tr>\n",
              "      <th>4</th>\n",
              "      <td>Movie</td>\n",
              "      <td>#realityhigh</td>\n",
              "      <td>Fernando Lebrija</td>\n",
              "      <td>Nesta Cooper, Kate Walsh, John Michael Higgins...</td>\n",
              "      <td>September 8, 2017</td>\n",
              "      <td>2017</td>\n",
              "      <td>TV-14</td>\n",
              "      <td>99 min</td>\n",
              "      <td>Comedies</td>\n",
              "      <td>When nerdy high schooler Dani finally attracts...</td>\n",
              "      <td>0</td>\n",
              "      <td>0</td>\n",
              "      <td>1</td>\n",
              "      <td>0</td>\n",
              "      <td>0</td>\n",
              "      <td>0</td>\n",
              "      <td>0</td>\n",
              "      <td>0</td>\n",
              "      <td>0</td>\n",
              "      <td>0</td>\n",
              "      <td>0</td>\n",
              "      <td>0</td>\n",
              "      <td>0</td>\n",
              "      <td>0</td>\n",
              "      <td>0</td>\n",
              "      <td>0</td>\n",
              "      <td>0</td>\n",
              "      <td>0</td>\n",
              "      <td>0</td>\n",
              "      <td>0</td>\n",
              "      <td>0</td>\n",
              "      <td>0</td>\n",
              "      <td>0</td>\n",
              "      <td>0</td>\n",
              "      <td>0</td>\n",
              "      <td>0</td>\n",
              "      <td>0</td>\n",
              "      <td>0</td>\n",
              "      <td>0</td>\n",
              "      <td>0</td>\n",
              "      <td>0</td>\n",
              "      <td>0</td>\n",
              "      <td>0</td>\n",
              "      <td>0</td>\n",
              "      <td>0</td>\n",
              "      <td>0</td>\n",
              "      <td>0</td>\n",
              "      <td>0</td>\n",
              "      <td>0</td>\n",
              "      <td>0</td>\n",
              "      <td>0</td>\n",
              "      <td>0</td>\n",
              "      <td>0</td>\n",
              "    </tr>\n",
              "    <tr>\n",
              "      <th>5</th>\n",
              "      <td>TV Show</td>\n",
              "      <td>Apaches</td>\n",
              "      <td>Unknown</td>\n",
              "      <td>Alberto Ammann, Eloy Azorín, Verónica Echegui,...</td>\n",
              "      <td>September 8, 2017</td>\n",
              "      <td>2016</td>\n",
              "      <td>TV-MA</td>\n",
              "      <td>1 Season</td>\n",
              "      <td>Crime TV Shows, International TV Shows, Spanis...</td>\n",
              "      <td>A young journalist is forced into a life of cr...</td>\n",
              "      <td>0</td>\n",
              "      <td>0</td>\n",
              "      <td>0</td>\n",
              "      <td>0</td>\n",
              "      <td>0</td>\n",
              "      <td>0</td>\n",
              "      <td>0</td>\n",
              "      <td>0</td>\n",
              "      <td>0</td>\n",
              "      <td>0</td>\n",
              "      <td>0</td>\n",
              "      <td>0</td>\n",
              "      <td>0</td>\n",
              "      <td>0</td>\n",
              "      <td>0</td>\n",
              "      <td>0</td>\n",
              "      <td>0</td>\n",
              "      <td>0</td>\n",
              "      <td>0</td>\n",
              "      <td>0</td>\n",
              "      <td>0</td>\n",
              "      <td>0</td>\n",
              "      <td>1</td>\n",
              "      <td>0</td>\n",
              "      <td>0</td>\n",
              "      <td>1</td>\n",
              "      <td>0</td>\n",
              "      <td>0</td>\n",
              "      <td>1</td>\n",
              "      <td>0</td>\n",
              "      <td>0</td>\n",
              "      <td>0</td>\n",
              "      <td>0</td>\n",
              "      <td>0</td>\n",
              "      <td>0</td>\n",
              "      <td>0</td>\n",
              "      <td>0</td>\n",
              "      <td>0</td>\n",
              "      <td>0</td>\n",
              "      <td>0</td>\n",
              "      <td>0</td>\n",
              "      <td>0</td>\n",
              "      <td>0</td>\n",
              "    </tr>\n",
              "    <tr>\n",
              "      <th>6</th>\n",
              "      <td>Movie</td>\n",
              "      <td>Automata</td>\n",
              "      <td>Gabe Ibáñez</td>\n",
              "      <td>Antonio Banderas, Dylan McDermott, Melanie Gri...</td>\n",
              "      <td>September 8, 2017</td>\n",
              "      <td>2014</td>\n",
              "      <td>R</td>\n",
              "      <td>110 min</td>\n",
              "      <td>International Movies, Sci-Fi &amp; Fantasy, Thrillers</td>\n",
              "      <td>In a dystopian future, an insurance adjuster f...</td>\n",
              "      <td>0</td>\n",
              "      <td>1</td>\n",
              "      <td>0</td>\n",
              "      <td>0</td>\n",
              "      <td>0</td>\n",
              "      <td>0</td>\n",
              "      <td>0</td>\n",
              "      <td>0</td>\n",
              "      <td>0</td>\n",
              "      <td>0</td>\n",
              "      <td>0</td>\n",
              "      <td>0</td>\n",
              "      <td>0</td>\n",
              "      <td>1</td>\n",
              "      <td>1</td>\n",
              "      <td>0</td>\n",
              "      <td>0</td>\n",
              "      <td>0</td>\n",
              "      <td>0</td>\n",
              "      <td>0</td>\n",
              "      <td>0</td>\n",
              "      <td>0</td>\n",
              "      <td>0</td>\n",
              "      <td>0</td>\n",
              "      <td>0</td>\n",
              "      <td>0</td>\n",
              "      <td>0</td>\n",
              "      <td>0</td>\n",
              "      <td>0</td>\n",
              "      <td>0</td>\n",
              "      <td>0</td>\n",
              "      <td>0</td>\n",
              "      <td>0</td>\n",
              "      <td>0</td>\n",
              "      <td>0</td>\n",
              "      <td>0</td>\n",
              "      <td>0</td>\n",
              "      <td>0</td>\n",
              "      <td>0</td>\n",
              "      <td>0</td>\n",
              "      <td>0</td>\n",
              "      <td>0</td>\n",
              "      <td>0</td>\n",
              "    </tr>\n",
              "    <tr>\n",
              "      <th>7</th>\n",
              "      <td>Movie</td>\n",
              "      <td>Fabrizio Copano: Solo pienso en mi</td>\n",
              "      <td>Rodrigo Toro, Francisco Schultz</td>\n",
              "      <td>Fabrizio Copano</td>\n",
              "      <td>September 8, 2017</td>\n",
              "      <td>2017</td>\n",
              "      <td>TV-MA</td>\n",
              "      <td>60 min</td>\n",
              "      <td>Stand-Up Comedy</td>\n",
              "      <td>Fabrizio Copano takes audience participation t...</td>\n",
              "      <td>0</td>\n",
              "      <td>0</td>\n",
              "      <td>0</td>\n",
              "      <td>0</td>\n",
              "      <td>0</td>\n",
              "      <td>0</td>\n",
              "      <td>0</td>\n",
              "      <td>0</td>\n",
              "      <td>0</td>\n",
              "      <td>0</td>\n",
              "      <td>0</td>\n",
              "      <td>0</td>\n",
              "      <td>0</td>\n",
              "      <td>0</td>\n",
              "      <td>0</td>\n",
              "      <td>0</td>\n",
              "      <td>1</td>\n",
              "      <td>0</td>\n",
              "      <td>0</td>\n",
              "      <td>0</td>\n",
              "      <td>0</td>\n",
              "      <td>0</td>\n",
              "      <td>0</td>\n",
              "      <td>0</td>\n",
              "      <td>0</td>\n",
              "      <td>0</td>\n",
              "      <td>0</td>\n",
              "      <td>0</td>\n",
              "      <td>0</td>\n",
              "      <td>0</td>\n",
              "      <td>0</td>\n",
              "      <td>0</td>\n",
              "      <td>0</td>\n",
              "      <td>0</td>\n",
              "      <td>0</td>\n",
              "      <td>0</td>\n",
              "      <td>0</td>\n",
              "      <td>0</td>\n",
              "      <td>0</td>\n",
              "      <td>0</td>\n",
              "      <td>0</td>\n",
              "      <td>0</td>\n",
              "      <td>0</td>\n",
              "    </tr>\n",
              "    <tr>\n",
              "      <th>8</th>\n",
              "      <td>TV Show</td>\n",
              "      <td>Fire Chasers</td>\n",
              "      <td>Unknown</td>\n",
              "      <td>Unknown</td>\n",
              "      <td>September 8, 2017</td>\n",
              "      <td>2017</td>\n",
              "      <td>TV-MA</td>\n",
              "      <td>1 Season</td>\n",
              "      <td>Docuseries, Science &amp; Nature TV</td>\n",
              "      <td>As California's 2016 fire season rages, brave ...</td>\n",
              "      <td>0</td>\n",
              "      <td>0</td>\n",
              "      <td>0</td>\n",
              "      <td>0</td>\n",
              "      <td>0</td>\n",
              "      <td>0</td>\n",
              "      <td>0</td>\n",
              "      <td>0</td>\n",
              "      <td>0</td>\n",
              "      <td>0</td>\n",
              "      <td>0</td>\n",
              "      <td>0</td>\n",
              "      <td>0</td>\n",
              "      <td>0</td>\n",
              "      <td>0</td>\n",
              "      <td>0</td>\n",
              "      <td>0</td>\n",
              "      <td>0</td>\n",
              "      <td>0</td>\n",
              "      <td>0</td>\n",
              "      <td>0</td>\n",
              "      <td>0</td>\n",
              "      <td>0</td>\n",
              "      <td>0</td>\n",
              "      <td>0</td>\n",
              "      <td>0</td>\n",
              "      <td>0</td>\n",
              "      <td>0</td>\n",
              "      <td>0</td>\n",
              "      <td>0</td>\n",
              "      <td>0</td>\n",
              "      <td>0</td>\n",
              "      <td>0</td>\n",
              "      <td>0</td>\n",
              "      <td>1</td>\n",
              "      <td>0</td>\n",
              "      <td>0</td>\n",
              "      <td>0</td>\n",
              "      <td>0</td>\n",
              "      <td>0</td>\n",
              "      <td>0</td>\n",
              "      <td>0</td>\n",
              "      <td>1</td>\n",
              "    </tr>\n",
              "    <tr>\n",
              "      <th>9</th>\n",
              "      <td>Movie</td>\n",
              "      <td>Good People</td>\n",
              "      <td>Henrik Ruben Genz</td>\n",
              "      <td>James Franco, Kate Hudson, Tom Wilkinson, Omar...</td>\n",
              "      <td>September 8, 2017</td>\n",
              "      <td>2014</td>\n",
              "      <td>R</td>\n",
              "      <td>90 min</td>\n",
              "      <td>Action &amp; Adventure, Thrillers</td>\n",
              "      <td>A struggling couple can't believe their luck w...</td>\n",
              "      <td>0</td>\n",
              "      <td>0</td>\n",
              "      <td>0</td>\n",
              "      <td>1</td>\n",
              "      <td>0</td>\n",
              "      <td>0</td>\n",
              "      <td>0</td>\n",
              "      <td>0</td>\n",
              "      <td>0</td>\n",
              "      <td>0</td>\n",
              "      <td>0</td>\n",
              "      <td>0</td>\n",
              "      <td>0</td>\n",
              "      <td>0</td>\n",
              "      <td>1</td>\n",
              "      <td>0</td>\n",
              "      <td>0</td>\n",
              "      <td>0</td>\n",
              "      <td>0</td>\n",
              "      <td>0</td>\n",
              "      <td>0</td>\n",
              "      <td>0</td>\n",
              "      <td>0</td>\n",
              "      <td>0</td>\n",
              "      <td>0</td>\n",
              "      <td>0</td>\n",
              "      <td>0</td>\n",
              "      <td>0</td>\n",
              "      <td>0</td>\n",
              "      <td>0</td>\n",
              "      <td>0</td>\n",
              "      <td>0</td>\n",
              "      <td>0</td>\n",
              "      <td>0</td>\n",
              "      <td>0</td>\n",
              "      <td>0</td>\n",
              "      <td>0</td>\n",
              "      <td>0</td>\n",
              "      <td>0</td>\n",
              "      <td>0</td>\n",
              "      <td>0</td>\n",
              "      <td>0</td>\n",
              "      <td>0</td>\n",
              "    </tr>\n",
              "  </tbody>\n",
              "</table>\n",
              "</div>"
            ],
            "text/plain": [
              "      type                                    title  ... TV Comedies Docuseries\n",
              "0    Movie  Norm of the North: King Sized Adventure  ...           0          0\n",
              "1    Movie               Jandino: Whatever it Takes  ...           0          0\n",
              "2  TV Show                       Transformers Prime  ...           0          0\n",
              "3  TV Show         Transformers: Robots in Disguise  ...           0          0\n",
              "4    Movie                             #realityhigh  ...           0          0\n",
              "5  TV Show                                  Apaches  ...           0          0\n",
              "6    Movie                                 Automata  ...           0          0\n",
              "7    Movie       Fabrizio Copano: Solo pienso en mi  ...           0          0\n",
              "8  TV Show                             Fire Chasers  ...           0          1\n",
              "9    Movie                              Good People  ...           0          0\n",
              "\n",
              "[10 rows x 53 columns]"
            ]
          },
          "metadata": {
            "tags": []
          },
          "execution_count": 22
        }
      ]
    },
    {
      "cell_type": "markdown",
      "metadata": {
        "id": "2Pb6y1m4QlEJ"
      },
      "source": [
        "Afterwards we tried to find a correlation with cast members. However, since there are too many cast members, we first found the intersection of cast members in children friendly and non-friendly movies/tv shows. For further simplification, we didn't get the cast members with 2 or less intersecting movies/tv shows. The resulting plot can be seen below."
      ]
    },
    {
      "cell_type": "code",
      "metadata": {
        "id": "bPxB5Y6WQ61D",
        "colab": {
          "base_uri": "https://localhost:8080/",
          "height": 457
        },
        "outputId": "092701e5-cae2-4747-ff4d-551e61bc9ef4"
      },
      "source": [
        "f_df = n_friendly.copy()\n",
        "nf_df = friendly.copy()\n",
        "\n",
        "#grouping for children friendly \n",
        "frank_group = f_df.groupby(\"cast\")\n",
        "listed_in_groups = frank_group[\"rating\"] \n",
        "d = listed_in_groups.value_counts().sort_values()\n",
        "\n",
        "type_count_dict = {}\n",
        "for name, group in listed_in_groups:\n",
        "  names = name.split(\",\")\n",
        "  for name in names:\n",
        "    name = name.strip()\n",
        "    if name in type_count_dict:\n",
        "      type_count_dict[name] +=1\n",
        "    else: \n",
        "      type_count_dict[name] =1\n",
        "\n",
        "type_count_dict = {k: v for k, v in sorted(type_count_dict.items(), key=lambda item: item[1])}\n",
        "\n",
        "reduced_dict = {}\n",
        "for key in type_count_dict.keys(): #don't take the ones with 2 or less movies/tv shows\n",
        "  if type_count_dict[key] > 2:\n",
        "     reduced_dict[key] = type_count_dict[key]\n",
        "\n",
        "#grouping for non-children friendly \n",
        "nfrank_group = nf_df.groupby(\"cast\")\n",
        "listed_in_groups2 = nfrank_group[\"rating\"] \n",
        "d2 = listed_in_groups2.value_counts().sort_values()\n",
        "\n",
        "type_count_dict2 = {}\n",
        "for name, group in listed_in_groups2:\n",
        "  names = name.split(\",\")\n",
        "  for name in names:\n",
        "    name = name.strip()\n",
        "    if name in type_count_dict2:\n",
        "      type_count_dict2[name] +=1\n",
        "    else: \n",
        "      type_count_dict2[name] =1\n",
        "type_count_dict2 = {k: v for k, v in sorted(type_count_dict2.items(), key=lambda item: item[1])}\n",
        "\n",
        "reduced_dict2 = {}\n",
        "for key in type_count_dict2.keys(): #don't take the ones with 2 or less movies/tv shows\n",
        "  if type_count_dict2[key] >2:\n",
        "     reduced_dict2[key] = type_count_dict2[key]\n",
        "\n",
        "\n",
        "intersection = (reduced_dict.keys() & reduced_dict2.keys())\n",
        "#take intersecting keys in friendly \n",
        "is_f = {}\n",
        "for i in intersection:\n",
        "  is_f[i] = reduced_dict[i]\n",
        "\n",
        "#take intersecting keys in non-friendly \n",
        "is_nf = {}\n",
        "for i in intersection:\n",
        "  is_nf[i] = reduced_dict2[i]\n",
        "\n",
        "\n",
        "\n",
        "plt.figure(figsize = (10,7)) \n",
        "plt.barh(list(is_f.keys()), list(is_f.values()), color = \"orange\", height = 0.7) \n",
        "plt.barh(list(is_nf.keys()), list(is_nf.values()), color = \"saddlebrown\", height = 0.4) \n",
        "plt.legend([\"children friendly\", \"children non-friendly\"])\n",
        "plt.ylabel(\"cast member\")\n",
        "plt.xlabel(\"Number of Movies/TV Shows she/he played\")\n",
        "plt.title(\"Distribution of Movies/TV Shows Among Cast Members\")\n",
        "plt.show()\n"
      ],
      "execution_count": null,
      "outputs": [
        {
          "output_type": "display_data",
          "data": {
            "image/png": "[encoded data removed]",
            "text/plain": [
              "<Figure size 720x504 with 1 Axes>"
            ]
          },
          "metadata": {
            "tags": [],
            "needs_background": "light"
          }
        }
      ]
    },
    {
      "cell_type": "markdown",
      "metadata": {
        "id": "cuaqbhyhzOeq"
      },
      "source": [
        "Even though this plot shows a much simplified version of the cast member distribution, it was enough for us to understand that cast members is an important parameter while classifying the data as children friendly and children non-friendly. We decided to add the cast member information in some way to our dataframe but one hot encoding wouldn't be efficient enough since there is 26652 many cast members in the overall dataframe. So, we found the movie/tv show with the maximum number of cast members and we created that many columns. Then we indexed all of the cast members from 0 to 26651. Finally, for each movie/tv show we assigned the indexes of the cast members starting from the column \"CastMember0\" up to column \"CastMember49\". We replaced the empty entries to -1 in those columns."
      ]
    },
    {
      "cell_type": "code",
      "metadata": {
        "id": "ngkg_DsA0S7O",
        "colab": {
          "base_uri": "https://localhost:8080/"
        },
        "outputId": "c1b4ac4a-59f1-415b-83fb-a2a6cab237c9"
      },
      "source": [
        "union_of_cast = set(type_count_dict2.keys()).union(set(type_count_dict.keys())) #put all cast members in a list\n",
        "\n",
        "print(\"The total number of cast members in movies and TV shows:\", len(union_of_cast))"
      ],
      "execution_count": null,
      "outputs": [
        {
          "output_type": "stream",
          "text": [
            "The total number of cast members in movies and TV shows: 26652\n"
          ],
          "name": "stdout"
        }
      ]
    },
    {
      "cell_type": "code",
      "metadata": {
        "id": "YLesLX3McaGQ",
        "colab": {
          "base_uri": "https://localhost:8080/",
          "height": 444
        },
        "outputId": "25b82589-c69a-43fa-d681-6904029e1127"
      },
      "source": [
        "###############################################add cast members to extended df########################################33\n",
        "\n",
        "ext_cast_df = extended_df.copy()\n",
        "\n",
        "#find the movie with the most number of cast members included\n",
        "max_cast_number = 0 \n",
        "for idx, row in ext_cast_df.iterrows():\n",
        "  if len(list(ext_cast_df.loc[idx][\"cast\"].split(\",\"))) > max_cast_number:\n",
        "    max_cast_number= len(list(row[\"cast\"].split(\",\")))\n",
        "\n",
        "print(\"Number of maximum number of cast members in a Movie/TV Show:\",max_cast_number)\n",
        "\n",
        "#create \"max cast members for a show\" many columns and initialize it to NaN\n",
        "nan_list =  [\"NaN\"]*ext_cast_df.shape[0]\n",
        "\n",
        "for i in range(max_cast_number):\n",
        "  col_name = \"CastMember\"+str(i)\n",
        "  ext_cast_df[col_name] = nan_list\n",
        "\n",
        "#index the cast members\n",
        "union_of_cast = list(set(type_count_dict2.keys()).union(set(type_count_dict.keys())))#put all cast members in a list\n",
        "cast_member_ids = {}\n",
        "for i in union_of_cast: \n",
        "  cast_member_ids[i] = union_of_cast.index(i)\n",
        "\n",
        "#fill the columns for each movie/tv show with cast member ids (indexes)\n",
        "for idx, row in ext_cast_df.iterrows():\n",
        "  cast_list = ext_cast_df.loc[idx][\"cast\"].split(\",\")\n",
        "  count = 0\n",
        "  for i in cast_list:\n",
        "    i = i.strip()\n",
        "    if i != \"Unknown\":\n",
        "      member_idx = cast_member_ids[i]\n",
        "      column = \"CastMember\"+str(count)\n",
        "      count += 1\n",
        "      ext_cast_df.at[idx,column] = member_idx\n",
        "\n",
        "  while count<max_cast_number: #fill the rest with -1\n",
        "      column = \"CastMember\"+str(count)\n",
        "      count += 1\n",
        "      ext_cast_df.at[idx,column] = -1 \n",
        "\n",
        "ext_cast_df.iloc[:,-50:]"
      ],
      "execution_count": null,
      "outputs": [
        {
          "output_type": "stream",
          "text": [
            "Number of maximum number of cast members in a Movie/TV Show: 50\n"
          ],
          "name": "stdout"
        },
        {
          "output_type": "execute_result",
          "data": {
            "text/html": [
              "<div>\n",
              "<style scoped>\n",
              "    .dataframe tbody tr th:only-of-type {\n",
              "        vertical-align: middle;\n",
              "    }\n",
              "\n",
              "    .dataframe tbody tr th {\n",
              "        vertical-align: top;\n",
              "    }\n",
              "\n",
              "    .dataframe thead th {\n",
              "        text-align: right;\n",
              "    }\n",
              "</style>\n",
              "<table border=\"1\" class=\"dataframe\">\n",
              "  <thead>\n",
              "    <tr style=\"text-align: right;\">\n",
              "      <th></th>\n",
              "      <th>CastMember0</th>\n",
              "      <th>CastMember1</th>\n",
              "      <th>CastMember2</th>\n",
              "      <th>CastMember3</th>\n",
              "      <th>CastMember4</th>\n",
              "      <th>CastMember5</th>\n",
              "      <th>CastMember6</th>\n",
              "      <th>CastMember7</th>\n",
              "      <th>CastMember8</th>\n",
              "      <th>CastMember9</th>\n",
              "      <th>CastMember10</th>\n",
              "      <th>CastMember11</th>\n",
              "      <th>CastMember12</th>\n",
              "      <th>CastMember13</th>\n",
              "      <th>CastMember14</th>\n",
              "      <th>CastMember15</th>\n",
              "      <th>CastMember16</th>\n",
              "      <th>CastMember17</th>\n",
              "      <th>CastMember18</th>\n",
              "      <th>CastMember19</th>\n",
              "      <th>CastMember20</th>\n",
              "      <th>CastMember21</th>\n",
              "      <th>CastMember22</th>\n",
              "      <th>CastMember23</th>\n",
              "      <th>CastMember24</th>\n",
              "      <th>CastMember25</th>\n",
              "      <th>CastMember26</th>\n",
              "      <th>CastMember27</th>\n",
              "      <th>CastMember28</th>\n",
              "      <th>CastMember29</th>\n",
              "      <th>CastMember30</th>\n",
              "      <th>CastMember31</th>\n",
              "      <th>CastMember32</th>\n",
              "      <th>CastMember33</th>\n",
              "      <th>CastMember34</th>\n",
              "      <th>CastMember35</th>\n",
              "      <th>CastMember36</th>\n",
              "      <th>CastMember37</th>\n",
              "      <th>CastMember38</th>\n",
              "      <th>CastMember39</th>\n",
              "      <th>CastMember40</th>\n",
              "      <th>CastMember41</th>\n",
              "      <th>CastMember42</th>\n",
              "      <th>CastMember43</th>\n",
              "      <th>CastMember44</th>\n",
              "      <th>CastMember45</th>\n",
              "      <th>CastMember46</th>\n",
              "      <th>CastMember47</th>\n",
              "      <th>CastMember48</th>\n",
              "      <th>CastMember49</th>\n",
              "    </tr>\n",
              "  </thead>\n",
              "  <tbody>\n",
              "    <tr>\n",
              "      <th>0</th>\n",
              "      <td>15764</td>\n",
              "      <td>13341</td>\n",
              "      <td>9351</td>\n",
              "      <td>24046</td>\n",
              "      <td>3340</td>\n",
              "      <td>25754</td>\n",
              "      <td>4934</td>\n",
              "      <td>24619</td>\n",
              "      <td>18191</td>\n",
              "      <td>17439</td>\n",
              "      <td>-1</td>\n",
              "      <td>-1</td>\n",
              "      <td>-1</td>\n",
              "      <td>-1</td>\n",
              "      <td>-1</td>\n",
              "      <td>-1</td>\n",
              "      <td>-1</td>\n",
              "      <td>-1</td>\n",
              "      <td>-1</td>\n",
              "      <td>-1</td>\n",
              "      <td>-1</td>\n",
              "      <td>-1</td>\n",
              "      <td>-1</td>\n",
              "      <td>-1</td>\n",
              "      <td>-1</td>\n",
              "      <td>-1</td>\n",
              "      <td>-1</td>\n",
              "      <td>-1</td>\n",
              "      <td>-1</td>\n",
              "      <td>-1</td>\n",
              "      <td>-1</td>\n",
              "      <td>-1</td>\n",
              "      <td>-1</td>\n",
              "      <td>-1</td>\n",
              "      <td>-1</td>\n",
              "      <td>-1</td>\n",
              "      <td>-1</td>\n",
              "      <td>-1</td>\n",
              "      <td>-1</td>\n",
              "      <td>-1</td>\n",
              "      <td>-1</td>\n",
              "      <td>-1</td>\n",
              "      <td>-1</td>\n",
              "      <td>-1</td>\n",
              "      <td>-1</td>\n",
              "      <td>-1</td>\n",
              "      <td>-1</td>\n",
              "      <td>-1</td>\n",
              "      <td>-1</td>\n",
              "      <td>-1</td>\n",
              "    </tr>\n",
              "    <tr>\n",
              "      <th>1</th>\n",
              "      <td>3569</td>\n",
              "      <td>-1</td>\n",
              "      <td>-1</td>\n",
              "      <td>-1</td>\n",
              "      <td>-1</td>\n",
              "      <td>-1</td>\n",
              "      <td>-1</td>\n",
              "      <td>-1</td>\n",
              "      <td>-1</td>\n",
              "      <td>-1</td>\n",
              "      <td>-1</td>\n",
              "      <td>-1</td>\n",
              "      <td>-1</td>\n",
              "      <td>-1</td>\n",
              "      <td>-1</td>\n",
              "      <td>-1</td>\n",
              "      <td>-1</td>\n",
              "      <td>-1</td>\n",
              "      <td>-1</td>\n",
              "      <td>-1</td>\n",
              "      <td>-1</td>\n",
              "      <td>-1</td>\n",
              "      <td>-1</td>\n",
              "      <td>-1</td>\n",
              "      <td>-1</td>\n",
              "      <td>-1</td>\n",
              "      <td>-1</td>\n",
              "      <td>-1</td>\n",
              "      <td>-1</td>\n",
              "      <td>-1</td>\n",
              "      <td>-1</td>\n",
              "      <td>-1</td>\n",
              "      <td>-1</td>\n",
              "      <td>-1</td>\n",
              "      <td>-1</td>\n",
              "      <td>-1</td>\n",
              "      <td>-1</td>\n",
              "      <td>-1</td>\n",
              "      <td>-1</td>\n",
              "      <td>-1</td>\n",
              "      <td>-1</td>\n",
              "      <td>-1</td>\n",
              "      <td>-1</td>\n",
              "      <td>-1</td>\n",
              "      <td>-1</td>\n",
              "      <td>-1</td>\n",
              "      <td>-1</td>\n",
              "      <td>-1</td>\n",
              "      <td>-1</td>\n",
              "      <td>-1</td>\n",
              "    </tr>\n",
              "    <tr>\n",
              "      <th>2</th>\n",
              "      <td>16911</td>\n",
              "      <td>10752</td>\n",
              "      <td>4178</td>\n",
              "      <td>18506</td>\n",
              "      <td>3639</td>\n",
              "      <td>13547</td>\n",
              "      <td>3681</td>\n",
              "      <td>25422</td>\n",
              "      <td>8057</td>\n",
              "      <td>16247</td>\n",
              "      <td>19438</td>\n",
              "      <td>6825</td>\n",
              "      <td>-1</td>\n",
              "      <td>-1</td>\n",
              "      <td>-1</td>\n",
              "      <td>-1</td>\n",
              "      <td>-1</td>\n",
              "      <td>-1</td>\n",
              "      <td>-1</td>\n",
              "      <td>-1</td>\n",
              "      <td>-1</td>\n",
              "      <td>-1</td>\n",
              "      <td>-1</td>\n",
              "      <td>-1</td>\n",
              "      <td>-1</td>\n",
              "      <td>-1</td>\n",
              "      <td>-1</td>\n",
              "      <td>-1</td>\n",
              "      <td>-1</td>\n",
              "      <td>-1</td>\n",
              "      <td>-1</td>\n",
              "      <td>-1</td>\n",
              "      <td>-1</td>\n",
              "      <td>-1</td>\n",
              "      <td>-1</td>\n",
              "      <td>-1</td>\n",
              "      <td>-1</td>\n",
              "      <td>-1</td>\n",
              "      <td>-1</td>\n",
              "      <td>-1</td>\n",
              "      <td>-1</td>\n",
              "      <td>-1</td>\n",
              "      <td>-1</td>\n",
              "      <td>-1</td>\n",
              "      <td>-1</td>\n",
              "      <td>-1</td>\n",
              "      <td>-1</td>\n",
              "      <td>-1</td>\n",
              "      <td>-1</td>\n",
              "      <td>-1</td>\n",
              "    </tr>\n",
              "    <tr>\n",
              "      <th>3</th>\n",
              "      <td>6825</td>\n",
              "      <td>26478</td>\n",
              "      <td>26369</td>\n",
              "      <td>25673</td>\n",
              "      <td>476</td>\n",
              "      <td>5605</td>\n",
              "      <td>22838</td>\n",
              "      <td>16911</td>\n",
              "      <td>-1</td>\n",
              "      <td>-1</td>\n",
              "      <td>-1</td>\n",
              "      <td>-1</td>\n",
              "      <td>-1</td>\n",
              "      <td>-1</td>\n",
              "      <td>-1</td>\n",
              "      <td>-1</td>\n",
              "      <td>-1</td>\n",
              "      <td>-1</td>\n",
              "      <td>-1</td>\n",
              "      <td>-1</td>\n",
              "      <td>-1</td>\n",
              "      <td>-1</td>\n",
              "      <td>-1</td>\n",
              "      <td>-1</td>\n",
              "      <td>-1</td>\n",
              "      <td>-1</td>\n",
              "      <td>-1</td>\n",
              "      <td>-1</td>\n",
              "      <td>-1</td>\n",
              "      <td>-1</td>\n",
              "      <td>-1</td>\n",
              "      <td>-1</td>\n",
              "      <td>-1</td>\n",
              "      <td>-1</td>\n",
              "      <td>-1</td>\n",
              "      <td>-1</td>\n",
              "      <td>-1</td>\n",
              "      <td>-1</td>\n",
              "      <td>-1</td>\n",
              "      <td>-1</td>\n",
              "      <td>-1</td>\n",
              "      <td>-1</td>\n",
              "      <td>-1</td>\n",
              "      <td>-1</td>\n",
              "      <td>-1</td>\n",
              "      <td>-1</td>\n",
              "      <td>-1</td>\n",
              "      <td>-1</td>\n",
              "      <td>-1</td>\n",
              "      <td>-1</td>\n",
              "    </tr>\n",
              "    <tr>\n",
              "      <th>4</th>\n",
              "      <td>11608</td>\n",
              "      <td>21916</td>\n",
              "      <td>14732</td>\n",
              "      <td>11530</td>\n",
              "      <td>19856</td>\n",
              "      <td>25761</td>\n",
              "      <td>4677</td>\n",
              "      <td>4494</td>\n",
              "      <td>16003</td>\n",
              "      <td>17857</td>\n",
              "      <td>20928</td>\n",
              "      <td>20480</td>\n",
              "      <td>-1</td>\n",
              "      <td>-1</td>\n",
              "      <td>-1</td>\n",
              "      <td>-1</td>\n",
              "      <td>-1</td>\n",
              "      <td>-1</td>\n",
              "      <td>-1</td>\n",
              "      <td>-1</td>\n",
              "      <td>-1</td>\n",
              "      <td>-1</td>\n",
              "      <td>-1</td>\n",
              "      <td>-1</td>\n",
              "      <td>-1</td>\n",
              "      <td>-1</td>\n",
              "      <td>-1</td>\n",
              "      <td>-1</td>\n",
              "      <td>-1</td>\n",
              "      <td>-1</td>\n",
              "      <td>-1</td>\n",
              "      <td>-1</td>\n",
              "      <td>-1</td>\n",
              "      <td>-1</td>\n",
              "      <td>-1</td>\n",
              "      <td>-1</td>\n",
              "      <td>-1</td>\n",
              "      <td>-1</td>\n",
              "      <td>-1</td>\n",
              "      <td>-1</td>\n",
              "      <td>-1</td>\n",
              "      <td>-1</td>\n",
              "      <td>-1</td>\n",
              "      <td>-1</td>\n",
              "      <td>-1</td>\n",
              "      <td>-1</td>\n",
              "      <td>-1</td>\n",
              "      <td>-1</td>\n",
              "      <td>-1</td>\n",
              "      <td>-1</td>\n",
              "    </tr>\n",
              "    <tr>\n",
              "      <th>...</th>\n",
              "      <td>...</td>\n",
              "      <td>...</td>\n",
              "      <td>...</td>\n",
              "      <td>...</td>\n",
              "      <td>...</td>\n",
              "      <td>...</td>\n",
              "      <td>...</td>\n",
              "      <td>...</td>\n",
              "      <td>...</td>\n",
              "      <td>...</td>\n",
              "      <td>...</td>\n",
              "      <td>...</td>\n",
              "      <td>...</td>\n",
              "      <td>...</td>\n",
              "      <td>...</td>\n",
              "      <td>...</td>\n",
              "      <td>...</td>\n",
              "      <td>...</td>\n",
              "      <td>...</td>\n",
              "      <td>...</td>\n",
              "      <td>...</td>\n",
              "      <td>...</td>\n",
              "      <td>...</td>\n",
              "      <td>...</td>\n",
              "      <td>...</td>\n",
              "      <td>...</td>\n",
              "      <td>...</td>\n",
              "      <td>...</td>\n",
              "      <td>...</td>\n",
              "      <td>...</td>\n",
              "      <td>...</td>\n",
              "      <td>...</td>\n",
              "      <td>...</td>\n",
              "      <td>...</td>\n",
              "      <td>...</td>\n",
              "      <td>...</td>\n",
              "      <td>...</td>\n",
              "      <td>...</td>\n",
              "      <td>...</td>\n",
              "      <td>...</td>\n",
              "      <td>...</td>\n",
              "      <td>...</td>\n",
              "      <td>...</td>\n",
              "      <td>...</td>\n",
              "      <td>...</td>\n",
              "      <td>...</td>\n",
              "      <td>...</td>\n",
              "      <td>...</td>\n",
              "      <td>...</td>\n",
              "      <td>...</td>\n",
              "    </tr>\n",
              "    <tr>\n",
              "      <th>6227</th>\n",
              "      <td>3964</td>\n",
              "      <td>12662</td>\n",
              "      <td>20373</td>\n",
              "      <td>7770</td>\n",
              "      <td>11992</td>\n",
              "      <td>-1</td>\n",
              "      <td>-1</td>\n",
              "      <td>-1</td>\n",
              "      <td>-1</td>\n",
              "      <td>-1</td>\n",
              "      <td>-1</td>\n",
              "      <td>-1</td>\n",
              "      <td>-1</td>\n",
              "      <td>-1</td>\n",
              "      <td>-1</td>\n",
              "      <td>-1</td>\n",
              "      <td>-1</td>\n",
              "      <td>-1</td>\n",
              "      <td>-1</td>\n",
              "      <td>-1</td>\n",
              "      <td>-1</td>\n",
              "      <td>-1</td>\n",
              "      <td>-1</td>\n",
              "      <td>-1</td>\n",
              "      <td>-1</td>\n",
              "      <td>-1</td>\n",
              "      <td>-1</td>\n",
              "      <td>-1</td>\n",
              "      <td>-1</td>\n",
              "      <td>-1</td>\n",
              "      <td>-1</td>\n",
              "      <td>-1</td>\n",
              "      <td>-1</td>\n",
              "      <td>-1</td>\n",
              "      <td>-1</td>\n",
              "      <td>-1</td>\n",
              "      <td>-1</td>\n",
              "      <td>-1</td>\n",
              "      <td>-1</td>\n",
              "      <td>-1</td>\n",
              "      <td>-1</td>\n",
              "      <td>-1</td>\n",
              "      <td>-1</td>\n",
              "      <td>-1</td>\n",
              "      <td>-1</td>\n",
              "      <td>-1</td>\n",
              "      <td>-1</td>\n",
              "      <td>-1</td>\n",
              "      <td>-1</td>\n",
              "      <td>-1</td>\n",
              "    </tr>\n",
              "    <tr>\n",
              "      <th>6228</th>\n",
              "      <td>22426</td>\n",
              "      <td>-1</td>\n",
              "      <td>-1</td>\n",
              "      <td>-1</td>\n",
              "      <td>-1</td>\n",
              "      <td>-1</td>\n",
              "      <td>-1</td>\n",
              "      <td>-1</td>\n",
              "      <td>-1</td>\n",
              "      <td>-1</td>\n",
              "      <td>-1</td>\n",
              "      <td>-1</td>\n",
              "      <td>-1</td>\n",
              "      <td>-1</td>\n",
              "      <td>-1</td>\n",
              "      <td>-1</td>\n",
              "      <td>-1</td>\n",
              "      <td>-1</td>\n",
              "      <td>-1</td>\n",
              "      <td>-1</td>\n",
              "      <td>-1</td>\n",
              "      <td>-1</td>\n",
              "      <td>-1</td>\n",
              "      <td>-1</td>\n",
              "      <td>-1</td>\n",
              "      <td>-1</td>\n",
              "      <td>-1</td>\n",
              "      <td>-1</td>\n",
              "      <td>-1</td>\n",
              "      <td>-1</td>\n",
              "      <td>-1</td>\n",
              "      <td>-1</td>\n",
              "      <td>-1</td>\n",
              "      <td>-1</td>\n",
              "      <td>-1</td>\n",
              "      <td>-1</td>\n",
              "      <td>-1</td>\n",
              "      <td>-1</td>\n",
              "      <td>-1</td>\n",
              "      <td>-1</td>\n",
              "      <td>-1</td>\n",
              "      <td>-1</td>\n",
              "      <td>-1</td>\n",
              "      <td>-1</td>\n",
              "      <td>-1</td>\n",
              "      <td>-1</td>\n",
              "      <td>-1</td>\n",
              "      <td>-1</td>\n",
              "      <td>-1</td>\n",
              "      <td>-1</td>\n",
              "    </tr>\n",
              "    <tr>\n",
              "      <th>6230</th>\n",
              "      <td>6616</td>\n",
              "      <td>4792</td>\n",
              "      <td>17434</td>\n",
              "      <td>8569</td>\n",
              "      <td>20296</td>\n",
              "      <td>-1</td>\n",
              "      <td>-1</td>\n",
              "      <td>-1</td>\n",
              "      <td>-1</td>\n",
              "      <td>-1</td>\n",
              "      <td>-1</td>\n",
              "      <td>-1</td>\n",
              "      <td>-1</td>\n",
              "      <td>-1</td>\n",
              "      <td>-1</td>\n",
              "      <td>-1</td>\n",
              "      <td>-1</td>\n",
              "      <td>-1</td>\n",
              "      <td>-1</td>\n",
              "      <td>-1</td>\n",
              "      <td>-1</td>\n",
              "      <td>-1</td>\n",
              "      <td>-1</td>\n",
              "      <td>-1</td>\n",
              "      <td>-1</td>\n",
              "      <td>-1</td>\n",
              "      <td>-1</td>\n",
              "      <td>-1</td>\n",
              "      <td>-1</td>\n",
              "      <td>-1</td>\n",
              "      <td>-1</td>\n",
              "      <td>-1</td>\n",
              "      <td>-1</td>\n",
              "      <td>-1</td>\n",
              "      <td>-1</td>\n",
              "      <td>-1</td>\n",
              "      <td>-1</td>\n",
              "      <td>-1</td>\n",
              "      <td>-1</td>\n",
              "      <td>-1</td>\n",
              "      <td>-1</td>\n",
              "      <td>-1</td>\n",
              "      <td>-1</td>\n",
              "      <td>-1</td>\n",
              "      <td>-1</td>\n",
              "      <td>-1</td>\n",
              "      <td>-1</td>\n",
              "      <td>-1</td>\n",
              "      <td>-1</td>\n",
              "      <td>-1</td>\n",
              "    </tr>\n",
              "    <tr>\n",
              "      <th>6232</th>\n",
              "      <td>3233</td>\n",
              "      <td>13637</td>\n",
              "      <td>15532</td>\n",
              "      <td>19550</td>\n",
              "      <td>12356</td>\n",
              "      <td>26149</td>\n",
              "      <td>26100</td>\n",
              "      <td>599</td>\n",
              "      <td>9219</td>\n",
              "      <td>-1</td>\n",
              "      <td>-1</td>\n",
              "      <td>-1</td>\n",
              "      <td>-1</td>\n",
              "      <td>-1</td>\n",
              "      <td>-1</td>\n",
              "      <td>-1</td>\n",
              "      <td>-1</td>\n",
              "      <td>-1</td>\n",
              "      <td>-1</td>\n",
              "      <td>-1</td>\n",
              "      <td>-1</td>\n",
              "      <td>-1</td>\n",
              "      <td>-1</td>\n",
              "      <td>-1</td>\n",
              "      <td>-1</td>\n",
              "      <td>-1</td>\n",
              "      <td>-1</td>\n",
              "      <td>-1</td>\n",
              "      <td>-1</td>\n",
              "      <td>-1</td>\n",
              "      <td>-1</td>\n",
              "      <td>-1</td>\n",
              "      <td>-1</td>\n",
              "      <td>-1</td>\n",
              "      <td>-1</td>\n",
              "      <td>-1</td>\n",
              "      <td>-1</td>\n",
              "      <td>-1</td>\n",
              "      <td>-1</td>\n",
              "      <td>-1</td>\n",
              "      <td>-1</td>\n",
              "      <td>-1</td>\n",
              "      <td>-1</td>\n",
              "      <td>-1</td>\n",
              "      <td>-1</td>\n",
              "      <td>-1</td>\n",
              "      <td>-1</td>\n",
              "      <td>-1</td>\n",
              "      <td>-1</td>\n",
              "      <td>-1</td>\n",
              "    </tr>\n",
              "    <tr>\n",
              "      <th>6233</th>\n",
              "      <td>11895</td>\n",
              "      <td>20671</td>\n",
              "      <td>20603</td>\n",
              "      <td>17096</td>\n",
              "      <td>24485</td>\n",
              "      <td>10877</td>\n",
              "      <td>-1</td>\n",
              "      <td>-1</td>\n",
              "      <td>-1</td>\n",
              "      <td>-1</td>\n",
              "      <td>-1</td>\n",
              "      <td>-1</td>\n",
              "      <td>-1</td>\n",
              "      <td>-1</td>\n",
              "      <td>-1</td>\n",
              "      <td>-1</td>\n",
              "      <td>-1</td>\n",
              "      <td>-1</td>\n",
              "      <td>-1</td>\n",
              "      <td>-1</td>\n",
              "      <td>-1</td>\n",
              "      <td>-1</td>\n",
              "      <td>-1</td>\n",
              "      <td>-1</td>\n",
              "      <td>-1</td>\n",
              "      <td>-1</td>\n",
              "      <td>-1</td>\n",
              "      <td>-1</td>\n",
              "      <td>-1</td>\n",
              "      <td>-1</td>\n",
              "      <td>-1</td>\n",
              "      <td>-1</td>\n",
              "      <td>-1</td>\n",
              "      <td>-1</td>\n",
              "      <td>-1</td>\n",
              "      <td>-1</td>\n",
              "      <td>-1</td>\n",
              "      <td>-1</td>\n",
              "      <td>-1</td>\n",
              "      <td>-1</td>\n",
              "      <td>-1</td>\n",
              "      <td>-1</td>\n",
              "      <td>-1</td>\n",
              "      <td>-1</td>\n",
              "      <td>-1</td>\n",
              "      <td>-1</td>\n",
              "      <td>-1</td>\n",
              "      <td>-1</td>\n",
              "      <td>-1</td>\n",
              "      <td>-1</td>\n",
              "    </tr>\n",
              "  </tbody>\n",
              "</table>\n",
              "<p>5999 rows × 50 columns</p>\n",
              "</div>"
            ],
            "text/plain": [
              "     CastMember0 CastMember1 CastMember2  ... CastMember47 CastMember48 CastMember49\n",
              "0          15764       13341        9351  ...           -1           -1           -1\n",
              "1           3569          -1          -1  ...           -1           -1           -1\n",
              "2          16911       10752        4178  ...           -1           -1           -1\n",
              "3           6825       26478       26369  ...           -1           -1           -1\n",
              "4          11608       21916       14732  ...           -1           -1           -1\n",
              "...          ...         ...         ...  ...          ...          ...          ...\n",
              "6227        3964       12662       20373  ...           -1           -1           -1\n",
              "6228       22426          -1          -1  ...           -1           -1           -1\n",
              "6230        6616        4792       17434  ...           -1           -1           -1\n",
              "6232        3233       13637       15532  ...           -1           -1           -1\n",
              "6233       11895       20671       20603  ...           -1           -1           -1\n",
              "\n",
              "[5999 rows x 50 columns]"
            ]
          },
          "metadata": {
            "tags": []
          },
          "execution_count": 25
        }
      ]
    },
    {
      "cell_type": "markdown",
      "metadata": {
        "id": "UcDktgXF_Nkf"
      },
      "source": [
        "The distribution of directors in child-(non)friendly movies/tv shows was one of the factors we wanted to analyze from the beginning, because it can be one of the significant indicators in our classification. Therefore, we decided to add director columns to our extended dataframe. To represent directors, we could use one-hot-encoding method. However, as the total number of directors is more than 3000, we decided not to use one-hot-encoding.\n",
        "We found the maximum number of directors (max_dir) we could have in a movie/tv show, and we added max_dir many columns to our extended dataframe,\n",
        "each director had a unique id(starting from 1);\n",
        "then we filled our ext_df extended dataframe with director ids for each movie/show"
      ]
    },
    {
      "cell_type": "code",
      "metadata": {
        "id": "Y1nPlbXbqb3W",
        "colab": {
          "base_uri": "https://localhost:8080/",
          "height": 731
        },
        "outputId": "8c835c4b-d5ad-43e7-dbe5-aa65049b0a1b"
      },
      "source": [
        "#adding directorN columns\n",
        "ext_df = ext_cast_df.copy()\n",
        "directors = {} #it will keep ids of directors, ids start from 1\n",
        "\n",
        "#adding to director columns with initial value 0 to the extended dataframe\n",
        "for i in range(0, max_dir):  \n",
        "  ext_df['director'+str(i)] = 0\n",
        "i = 1\n",
        "for dir in rating_dir:   #keys are directors #values are their ids\n",
        "  if dir[1] not in directors:\n",
        "    directors[dir[1]] = i\n",
        "    i+=1\n",
        "print(\"Total number of directors\", len(directors))  \n",
        "\n",
        "#fill the rows for each movie/tv show with the director ids, they have been directed by\n",
        "for idx, row in ext_df.iterrows():\n",
        "  cast_list = ext_df.loc[idx][\"director\"].split(\",\")\n",
        "  count = 0\n",
        "  for i in cast_list:\n",
        "    i = i.strip()\n",
        "    if i != \"Unknown\":\n",
        "      member_idx = directors[i]\n",
        "      column = \"director\"+str(count)\n",
        "      count += 1\n",
        "      ext_df.at[idx,column] = member_idx\n",
        "\n",
        "ext_df.head(5)\n"
      ],
      "execution_count": null,
      "outputs": [
        {
          "output_type": "stream",
          "text": [
            "Total number of directors 3475\n"
          ],
          "name": "stdout"
        },
        {
          "output_type": "execute_result",
          "data": {
            "text/html": [
              "<div>\n",
              "<style scoped>\n",
              "    .dataframe tbody tr th:only-of-type {\n",
              "        vertical-align: middle;\n",
              "    }\n",
              "\n",
              "    .dataframe tbody tr th {\n",
              "        vertical-align: top;\n",
              "    }\n",
              "\n",
              "    .dataframe thead th {\n",
              "        text-align: right;\n",
              "    }\n",
              "</style>\n",
              "<table border=\"1\" class=\"dataframe\">\n",
              "  <thead>\n",
              "    <tr style=\"text-align: right;\">\n",
              "      <th></th>\n",
              "      <th>type</th>\n",
              "      <th>title</th>\n",
              "      <th>director</th>\n",
              "      <th>cast</th>\n",
              "      <th>date_added</th>\n",
              "      <th>release_year</th>\n",
              "      <th>rating</th>\n",
              "      <th>duration</th>\n",
              "      <th>listed_in</th>\n",
              "      <th>description</th>\n",
              "      <th>target</th>\n",
              "      <th>Sci-Fi &amp; Fantasy</th>\n",
              "      <th>Comedies</th>\n",
              "      <th>Action &amp; Adventure</th>\n",
              "      <th>Independent Movies</th>\n",
              "      <th>Horror Movies</th>\n",
              "      <th>TV Thrillers</th>\n",
              "      <th>Kids' TV</th>\n",
              "      <th>Anime Series</th>\n",
              "      <th>Movies</th>\n",
              "      <th>Teen TV Shows</th>\n",
              "      <th>Classic Movies</th>\n",
              "      <th>Classic &amp; Cult TV</th>\n",
              "      <th>International Movies</th>\n",
              "      <th>Thrillers</th>\n",
              "      <th>TV Sci-Fi &amp; Fantasy</th>\n",
              "      <th>Stand-Up Comedy</th>\n",
              "      <th>Sports Movies</th>\n",
              "      <th>Dramas</th>\n",
              "      <th>Cult Movies</th>\n",
              "      <th>Anime Features</th>\n",
              "      <th>TV Horror</th>\n",
              "      <th>International TV Shows</th>\n",
              "      <th>Korean TV Shows</th>\n",
              "      <th>Reality TV</th>\n",
              "      <th>Crime TV Shows</th>\n",
              "      <th>LGBTQ Movies</th>\n",
              "      <th>British TV Shows</th>\n",
              "      <th>Spanish-Language TV Shows</th>\n",
              "      <th>TV Shows</th>\n",
              "      <th>...</th>\n",
              "      <th>CastMember23</th>\n",
              "      <th>CastMember24</th>\n",
              "      <th>CastMember25</th>\n",
              "      <th>CastMember26</th>\n",
              "      <th>CastMember27</th>\n",
              "      <th>CastMember28</th>\n",
              "      <th>CastMember29</th>\n",
              "      <th>CastMember30</th>\n",
              "      <th>CastMember31</th>\n",
              "      <th>CastMember32</th>\n",
              "      <th>CastMember33</th>\n",
              "      <th>CastMember34</th>\n",
              "      <th>CastMember35</th>\n",
              "      <th>CastMember36</th>\n",
              "      <th>CastMember37</th>\n",
              "      <th>CastMember38</th>\n",
              "      <th>CastMember39</th>\n",
              "      <th>CastMember40</th>\n",
              "      <th>CastMember41</th>\n",
              "      <th>CastMember42</th>\n",
              "      <th>CastMember43</th>\n",
              "      <th>CastMember44</th>\n",
              "      <th>CastMember45</th>\n",
              "      <th>CastMember46</th>\n",
              "      <th>CastMember47</th>\n",
              "      <th>CastMember48</th>\n",
              "      <th>CastMember49</th>\n",
              "      <th>director0</th>\n",
              "      <th>director1</th>\n",
              "      <th>director2</th>\n",
              "      <th>director3</th>\n",
              "      <th>director4</th>\n",
              "      <th>director5</th>\n",
              "      <th>director6</th>\n",
              "      <th>director7</th>\n",
              "      <th>director8</th>\n",
              "      <th>director9</th>\n",
              "      <th>director10</th>\n",
              "      <th>director11</th>\n",
              "      <th>director12</th>\n",
              "    </tr>\n",
              "  </thead>\n",
              "  <tbody>\n",
              "    <tr>\n",
              "      <th>0</th>\n",
              "      <td>Movie</td>\n",
              "      <td>Norm of the North: King Sized Adventure</td>\n",
              "      <td>Richard Finn, Tim Maltby</td>\n",
              "      <td>Alan Marriott, Andrew Toth, Brian Dobson, Cole...</td>\n",
              "      <td>September 9, 2019</td>\n",
              "      <td>2019</td>\n",
              "      <td>TV-PG</td>\n",
              "      <td>90 min</td>\n",
              "      <td>Children &amp; Family Movies, Comedies</td>\n",
              "      <td>Before planning an awesome wedding for his gra...</td>\n",
              "      <td>0</td>\n",
              "      <td>0</td>\n",
              "      <td>1</td>\n",
              "      <td>0</td>\n",
              "      <td>0</td>\n",
              "      <td>0</td>\n",
              "      <td>0</td>\n",
              "      <td>0</td>\n",
              "      <td>0</td>\n",
              "      <td>0</td>\n",
              "      <td>0</td>\n",
              "      <td>0</td>\n",
              "      <td>0</td>\n",
              "      <td>0</td>\n",
              "      <td>0</td>\n",
              "      <td>0</td>\n",
              "      <td>0</td>\n",
              "      <td>0</td>\n",
              "      <td>0</td>\n",
              "      <td>0</td>\n",
              "      <td>0</td>\n",
              "      <td>0</td>\n",
              "      <td>0</td>\n",
              "      <td>0</td>\n",
              "      <td>0</td>\n",
              "      <td>0</td>\n",
              "      <td>0</td>\n",
              "      <td>0</td>\n",
              "      <td>0</td>\n",
              "      <td>0</td>\n",
              "      <td>...</td>\n",
              "      <td>-1</td>\n",
              "      <td>-1</td>\n",
              "      <td>-1</td>\n",
              "      <td>-1</td>\n",
              "      <td>-1</td>\n",
              "      <td>-1</td>\n",
              "      <td>-1</td>\n",
              "      <td>-1</td>\n",
              "      <td>-1</td>\n",
              "      <td>-1</td>\n",
              "      <td>-1</td>\n",
              "      <td>-1</td>\n",
              "      <td>-1</td>\n",
              "      <td>-1</td>\n",
              "      <td>-1</td>\n",
              "      <td>-1</td>\n",
              "      <td>-1</td>\n",
              "      <td>-1</td>\n",
              "      <td>-1</td>\n",
              "      <td>-1</td>\n",
              "      <td>-1</td>\n",
              "      <td>-1</td>\n",
              "      <td>-1</td>\n",
              "      <td>-1</td>\n",
              "      <td>-1</td>\n",
              "      <td>-1</td>\n",
              "      <td>-1</td>\n",
              "      <td>1</td>\n",
              "      <td>2</td>\n",
              "      <td>0</td>\n",
              "      <td>0</td>\n",
              "      <td>0</td>\n",
              "      <td>0</td>\n",
              "      <td>0</td>\n",
              "      <td>0</td>\n",
              "      <td>0</td>\n",
              "      <td>0</td>\n",
              "      <td>0</td>\n",
              "      <td>0</td>\n",
              "      <td>0</td>\n",
              "    </tr>\n",
              "    <tr>\n",
              "      <th>1</th>\n",
              "      <td>Movie</td>\n",
              "      <td>Jandino: Whatever it Takes</td>\n",
              "      <td>Unknown</td>\n",
              "      <td>Jandino Asporaat</td>\n",
              "      <td>September 9, 2016</td>\n",
              "      <td>2016</td>\n",
              "      <td>TV-MA</td>\n",
              "      <td>94 min</td>\n",
              "      <td>Stand-Up Comedy</td>\n",
              "      <td>Jandino Asporaat riffs on the challenges of ra...</td>\n",
              "      <td>0</td>\n",
              "      <td>0</td>\n",
              "      <td>0</td>\n",
              "      <td>0</td>\n",
              "      <td>0</td>\n",
              "      <td>0</td>\n",
              "      <td>0</td>\n",
              "      <td>0</td>\n",
              "      <td>0</td>\n",
              "      <td>0</td>\n",
              "      <td>0</td>\n",
              "      <td>0</td>\n",
              "      <td>0</td>\n",
              "      <td>0</td>\n",
              "      <td>0</td>\n",
              "      <td>0</td>\n",
              "      <td>1</td>\n",
              "      <td>0</td>\n",
              "      <td>0</td>\n",
              "      <td>0</td>\n",
              "      <td>0</td>\n",
              "      <td>0</td>\n",
              "      <td>0</td>\n",
              "      <td>0</td>\n",
              "      <td>0</td>\n",
              "      <td>0</td>\n",
              "      <td>0</td>\n",
              "      <td>0</td>\n",
              "      <td>0</td>\n",
              "      <td>0</td>\n",
              "      <td>...</td>\n",
              "      <td>-1</td>\n",
              "      <td>-1</td>\n",
              "      <td>-1</td>\n",
              "      <td>-1</td>\n",
              "      <td>-1</td>\n",
              "      <td>-1</td>\n",
              "      <td>-1</td>\n",
              "      <td>-1</td>\n",
              "      <td>-1</td>\n",
              "      <td>-1</td>\n",
              "      <td>-1</td>\n",
              "      <td>-1</td>\n",
              "      <td>-1</td>\n",
              "      <td>-1</td>\n",
              "      <td>-1</td>\n",
              "      <td>-1</td>\n",
              "      <td>-1</td>\n",
              "      <td>-1</td>\n",
              "      <td>-1</td>\n",
              "      <td>-1</td>\n",
              "      <td>-1</td>\n",
              "      <td>-1</td>\n",
              "      <td>-1</td>\n",
              "      <td>-1</td>\n",
              "      <td>-1</td>\n",
              "      <td>-1</td>\n",
              "      <td>-1</td>\n",
              "      <td>0</td>\n",
              "      <td>0</td>\n",
              "      <td>0</td>\n",
              "      <td>0</td>\n",
              "      <td>0</td>\n",
              "      <td>0</td>\n",
              "      <td>0</td>\n",
              "      <td>0</td>\n",
              "      <td>0</td>\n",
              "      <td>0</td>\n",
              "      <td>0</td>\n",
              "      <td>0</td>\n",
              "      <td>0</td>\n",
              "    </tr>\n",
              "    <tr>\n",
              "      <th>2</th>\n",
              "      <td>TV Show</td>\n",
              "      <td>Transformers Prime</td>\n",
              "      <td>Unknown</td>\n",
              "      <td>Peter Cullen, Sumalee Montano, Frank Welker, J...</td>\n",
              "      <td>September 8, 2018</td>\n",
              "      <td>2013</td>\n",
              "      <td>TV-Y7-FV</td>\n",
              "      <td>1 Season</td>\n",
              "      <td>Kids' TV</td>\n",
              "      <td>With the help of three human allies, the Autob...</td>\n",
              "      <td>1</td>\n",
              "      <td>0</td>\n",
              "      <td>0</td>\n",
              "      <td>0</td>\n",
              "      <td>0</td>\n",
              "      <td>0</td>\n",
              "      <td>0</td>\n",
              "      <td>1</td>\n",
              "      <td>0</td>\n",
              "      <td>0</td>\n",
              "      <td>0</td>\n",
              "      <td>0</td>\n",
              "      <td>0</td>\n",
              "      <td>0</td>\n",
              "      <td>0</td>\n",
              "      <td>0</td>\n",
              "      <td>0</td>\n",
              "      <td>0</td>\n",
              "      <td>0</td>\n",
              "      <td>0</td>\n",
              "      <td>0</td>\n",
              "      <td>0</td>\n",
              "      <td>0</td>\n",
              "      <td>0</td>\n",
              "      <td>0</td>\n",
              "      <td>0</td>\n",
              "      <td>0</td>\n",
              "      <td>0</td>\n",
              "      <td>0</td>\n",
              "      <td>0</td>\n",
              "      <td>...</td>\n",
              "      <td>-1</td>\n",
              "      <td>-1</td>\n",
              "      <td>-1</td>\n",
              "      <td>-1</td>\n",
              "      <td>-1</td>\n",
              "      <td>-1</td>\n",
              "      <td>-1</td>\n",
              "      <td>-1</td>\n",
              "      <td>-1</td>\n",
              "      <td>-1</td>\n",
              "      <td>-1</td>\n",
              "      <td>-1</td>\n",
              "      <td>-1</td>\n",
              "      <td>-1</td>\n",
              "      <td>-1</td>\n",
              "      <td>-1</td>\n",
              "      <td>-1</td>\n",
              "      <td>-1</td>\n",
              "      <td>-1</td>\n",
              "      <td>-1</td>\n",
              "      <td>-1</td>\n",
              "      <td>-1</td>\n",
              "      <td>-1</td>\n",
              "      <td>-1</td>\n",
              "      <td>-1</td>\n",
              "      <td>-1</td>\n",
              "      <td>-1</td>\n",
              "      <td>0</td>\n",
              "      <td>0</td>\n",
              "      <td>0</td>\n",
              "      <td>0</td>\n",
              "      <td>0</td>\n",
              "      <td>0</td>\n",
              "      <td>0</td>\n",
              "      <td>0</td>\n",
              "      <td>0</td>\n",
              "      <td>0</td>\n",
              "      <td>0</td>\n",
              "      <td>0</td>\n",
              "      <td>0</td>\n",
              "    </tr>\n",
              "    <tr>\n",
              "      <th>3</th>\n",
              "      <td>TV Show</td>\n",
              "      <td>Transformers: Robots in Disguise</td>\n",
              "      <td>Unknown</td>\n",
              "      <td>Will Friedle, Darren Criss, Constance Zimmer, ...</td>\n",
              "      <td>September 8, 2018</td>\n",
              "      <td>2016</td>\n",
              "      <td>TV-Y7</td>\n",
              "      <td>1 Season</td>\n",
              "      <td>Kids' TV</td>\n",
              "      <td>When a prison ship crash unleashes hundreds of...</td>\n",
              "      <td>0</td>\n",
              "      <td>0</td>\n",
              "      <td>0</td>\n",
              "      <td>0</td>\n",
              "      <td>0</td>\n",
              "      <td>0</td>\n",
              "      <td>0</td>\n",
              "      <td>1</td>\n",
              "      <td>0</td>\n",
              "      <td>0</td>\n",
              "      <td>0</td>\n",
              "      <td>0</td>\n",
              "      <td>0</td>\n",
              "      <td>0</td>\n",
              "      <td>0</td>\n",
              "      <td>0</td>\n",
              "      <td>0</td>\n",
              "      <td>0</td>\n",
              "      <td>0</td>\n",
              "      <td>0</td>\n",
              "      <td>0</td>\n",
              "      <td>0</td>\n",
              "      <td>0</td>\n",
              "      <td>0</td>\n",
              "      <td>0</td>\n",
              "      <td>0</td>\n",
              "      <td>0</td>\n",
              "      <td>0</td>\n",
              "      <td>0</td>\n",
              "      <td>0</td>\n",
              "      <td>...</td>\n",
              "      <td>-1</td>\n",
              "      <td>-1</td>\n",
              "      <td>-1</td>\n",
              "      <td>-1</td>\n",
              "      <td>-1</td>\n",
              "      <td>-1</td>\n",
              "      <td>-1</td>\n",
              "      <td>-1</td>\n",
              "      <td>-1</td>\n",
              "      <td>-1</td>\n",
              "      <td>-1</td>\n",
              "      <td>-1</td>\n",
              "      <td>-1</td>\n",
              "      <td>-1</td>\n",
              "      <td>-1</td>\n",
              "      <td>-1</td>\n",
              "      <td>-1</td>\n",
              "      <td>-1</td>\n",
              "      <td>-1</td>\n",
              "      <td>-1</td>\n",
              "      <td>-1</td>\n",
              "      <td>-1</td>\n",
              "      <td>-1</td>\n",
              "      <td>-1</td>\n",
              "      <td>-1</td>\n",
              "      <td>-1</td>\n",
              "      <td>-1</td>\n",
              "      <td>0</td>\n",
              "      <td>0</td>\n",
              "      <td>0</td>\n",
              "      <td>0</td>\n",
              "      <td>0</td>\n",
              "      <td>0</td>\n",
              "      <td>0</td>\n",
              "      <td>0</td>\n",
              "      <td>0</td>\n",
              "      <td>0</td>\n",
              "      <td>0</td>\n",
              "      <td>0</td>\n",
              "      <td>0</td>\n",
              "    </tr>\n",
              "    <tr>\n",
              "      <th>4</th>\n",
              "      <td>Movie</td>\n",
              "      <td>#realityhigh</td>\n",
              "      <td>Fernando Lebrija</td>\n",
              "      <td>Nesta Cooper, Kate Walsh, John Michael Higgins...</td>\n",
              "      <td>September 8, 2017</td>\n",
              "      <td>2017</td>\n",
              "      <td>TV-14</td>\n",
              "      <td>99 min</td>\n",
              "      <td>Comedies</td>\n",
              "      <td>When nerdy high schooler Dani finally attracts...</td>\n",
              "      <td>0</td>\n",
              "      <td>0</td>\n",
              "      <td>1</td>\n",
              "      <td>0</td>\n",
              "      <td>0</td>\n",
              "      <td>0</td>\n",
              "      <td>0</td>\n",
              "      <td>0</td>\n",
              "      <td>0</td>\n",
              "      <td>0</td>\n",
              "      <td>0</td>\n",
              "      <td>0</td>\n",
              "      <td>0</td>\n",
              "      <td>0</td>\n",
              "      <td>0</td>\n",
              "      <td>0</td>\n",
              "      <td>0</td>\n",
              "      <td>0</td>\n",
              "      <td>0</td>\n",
              "      <td>0</td>\n",
              "      <td>0</td>\n",
              "      <td>0</td>\n",
              "      <td>0</td>\n",
              "      <td>0</td>\n",
              "      <td>0</td>\n",
              "      <td>0</td>\n",
              "      <td>0</td>\n",
              "      <td>0</td>\n",
              "      <td>0</td>\n",
              "      <td>0</td>\n",
              "      <td>...</td>\n",
              "      <td>-1</td>\n",
              "      <td>-1</td>\n",
              "      <td>-1</td>\n",
              "      <td>-1</td>\n",
              "      <td>-1</td>\n",
              "      <td>-1</td>\n",
              "      <td>-1</td>\n",
              "      <td>-1</td>\n",
              "      <td>-1</td>\n",
              "      <td>-1</td>\n",
              "      <td>-1</td>\n",
              "      <td>-1</td>\n",
              "      <td>-1</td>\n",
              "      <td>-1</td>\n",
              "      <td>-1</td>\n",
              "      <td>-1</td>\n",
              "      <td>-1</td>\n",
              "      <td>-1</td>\n",
              "      <td>-1</td>\n",
              "      <td>-1</td>\n",
              "      <td>-1</td>\n",
              "      <td>-1</td>\n",
              "      <td>-1</td>\n",
              "      <td>-1</td>\n",
              "      <td>-1</td>\n",
              "      <td>-1</td>\n",
              "      <td>-1</td>\n",
              "      <td>3</td>\n",
              "      <td>0</td>\n",
              "      <td>0</td>\n",
              "      <td>0</td>\n",
              "      <td>0</td>\n",
              "      <td>0</td>\n",
              "      <td>0</td>\n",
              "      <td>0</td>\n",
              "      <td>0</td>\n",
              "      <td>0</td>\n",
              "      <td>0</td>\n",
              "      <td>0</td>\n",
              "      <td>0</td>\n",
              "    </tr>\n",
              "  </tbody>\n",
              "</table>\n",
              "<p>5 rows × 116 columns</p>\n",
              "</div>"
            ],
            "text/plain": [
              "      type                                    title  ... director11 director12\n",
              "0    Movie  Norm of the North: King Sized Adventure  ...          0          0\n",
              "1    Movie               Jandino: Whatever it Takes  ...          0          0\n",
              "2  TV Show                       Transformers Prime  ...          0          0\n",
              "3  TV Show         Transformers: Robots in Disguise  ...          0          0\n",
              "4    Movie                             #realityhigh  ...          0          0\n",
              "\n",
              "[5 rows x 116 columns]"
            ]
          },
          "metadata": {
            "tags": []
          },
          "execution_count": 26
        }
      ]
    },
    {
      "cell_type": "markdown",
      "metadata": {
        "id": "ICwArbxKZozS"
      },
      "source": [
        "Duration of the movies might be an important indicator. Below is the \n",
        "box plots of children friendly and non-friendly movies with respect to the duration. Outliers are removed according to the IQR rule."
      ]
    },
    {
      "cell_type": "code",
      "metadata": {
        "id": "sCCwKPuyaXaj",
        "colab": {
          "base_uri": "https://localhost:8080/",
          "height": 335
        },
        "outputId": "5b49bb58-20fc-43f2-8a29-1c3d57da6f82"
      },
      "source": [
        "import warnings\n",
        "warnings.filterwarnings('ignore')\n",
        "#take friendly/non-friendly movies\n",
        "f_dff = f_df[f_df[\"type\"] == \"Movie\"]\n",
        "nf_dff = nf_df[nf_df[\"type\"] == \"Movie\"]\n",
        "\n",
        "f_dff['duration_mins'] = f_dff[\"duration\"].str[:-3]\n",
        "f_dff[\"duration_mins\"] = pd.to_numeric(f_dff[\"duration_mins\"])\n",
        "\n",
        "\n",
        "nf_dff['duration_mins'] = nf_dff.duration.str[:-3]\n",
        "nf_dff[\"duration_mins\"] = pd.to_numeric(nf_dff[\"duration_mins\"])\n",
        "\n",
        "fig, axes = plt.subplots(1, 2, sharex=True, figsize=(17, 5))\n",
        "\n",
        "#find IQ range for friendly, remove outliers\n",
        "f_mean_duration = np.mean(f_dff[\"duration_mins\"])\n",
        "\n",
        "par_q3, par_q1 = np.percentile(f_dff[\"duration_mins\"], [75 ,25])\n",
        "par_IQR = par_q3 - par_q1\n",
        "\n",
        "par_min = par_q1 - par_IQR*1.5\n",
        "par_max = par_q3 + par_IQR*1.5\n",
        "\n",
        "f_no_outliers =f_dff.query('@par_min <= duration_mins <= @par_max')\n",
        "ax1 = f_no_outliers.boxplot(column=[\"duration_mins\"], ax = axes[0])\n",
        "\n",
        "#find IQ range for non-friendly, remove outliers\n",
        "k_q3, k_q1 = np.percentile(nf_dff[\"duration_mins\"], [75 ,25])\n",
        "k_IQR = k_q3 - k_q1\n",
        "\n",
        "k_min = k_q1 - k_IQR*1.5\n",
        "k_max = k_q3 + k_IQR*1.5\n",
        "\n",
        "nf_no_outliers = nf_dff.query('@k_min <= duration_mins <= @k_max')\n",
        "ax2 = nf_no_outliers.boxplot(column=[\"duration_mins\"], ax = axes[1])\n",
        "axes[0].set_xticklabels([\" \"])\n",
        "\n",
        "axes[0].set_title(\"Children Friendly Movies Durations\")\n",
        "axes[0].set_ylabel(\"duration (mins)\")\n",
        "axes[1].set_title(\"non-Children Friendly Movies Durations\")\n",
        "axes[1].set_ylabel(\"duration (mins)\")\n",
        "plt.show()"
      ],
      "execution_count": null,
      "outputs": [
        {
          "output_type": "display_data",
          "data": {
            "image/png": "[encoded data removed]",
            "text/plain": [
              "<Figure size 1224x360 with 2 Axes>"
            ]
          },
          "metadata": {
            "tags": [],
            "needs_background": "light"
          }
        }
      ]
    },
    {
      "cell_type": "markdown",
      "metadata": {
        "id": "qShILdI_umJ5"
      },
      "source": [
        "Their mean and interquartile range seems significantly different. To understand if there is a relationship between movies duration and suitability for children, we can plot non-friendly and friendly duration histogram. The difference of two categories can be easily seen. "
      ]
    },
    {
      "cell_type": "code",
      "metadata": {
        "id": "loAfYp11uiy9",
        "colab": {
          "base_uri": "https://localhost:8080/",
          "height": 405
        },
        "outputId": "a07f704c-b606-436d-8a86-5b1e15fe3f39"
      },
      "source": [
        "fig, ax = plt.subplots(figsize = (12,5))\n",
        "#ax.plot(np.linspace(0, max(f_dff[\"duration_mins\"]),255),f_dff[\"duration_mins\"].sort_values())\n",
        "#ax.plot(np.linspace(0, max(nf_dff[\"duration_mins\"]),3795),nf_dff[\"duration_mins\"].sort_values())\n",
        "ax.hist([f_dff[\"duration_mins\"], nf_dff[\"duration_mins\"]], color = [\"palevioletred\", \"thistle\"])\n",
        "ax.legend([\"children friendly\", \"non-children friendly\"])\n",
        "ax.set_xlabel(\"Duration\")\n",
        "ax.set_ylabel(\"Count\")\n",
        "print(\"Maximum - minimum duration of children friendly shows: \" , max(f_dff[\"duration_mins\"]), \" - \", min(f_dff[\"duration_mins\"]), \".\", sep=\"\")\n",
        "print(\"Mean duration of children friendly shows: \" , np.mean(f_dff[\"duration_mins\"]), \".\", sep=\"\")\n",
        "\n",
        "print(\"Maximum - minimum duration of non children friendly shows: \" , max(nf_dff[\"duration_mins\"]), \" - \", min(nf_dff[\"duration_mins\"]), \".\", sep=\"\")\n",
        "print(\"Mean duration of children friendly shows: \" , np.mean(nf_dff[\"duration_mins\"]), \".\", sep=\"\")\n",
        "\n"
      ],
      "execution_count": null,
      "outputs": [
        {
          "output_type": "stream",
          "text": [
            "Maximum - minimum duration of children friendly shows: 180 - 3.\n",
            "Mean duration of children friendly shows: 64.16470588235295.\n",
            "Maximum - minimum duration of non children friendly shows: 312 - 12.\n",
            "Mean duration of children friendly shows: 101.71936758893281.\n"
          ],
          "name": "stdout"
        },
        {
          "output_type": "display_data",
          "data": {
            "image/png": "[encoded data removed]",
            "text/plain": [
              "<Figure size 864x360 with 1 Axes>"
            ]
          },
          "metadata": {
            "tags": [],
            "needs_background": "light"
          }
        }
      ]
    },
    {
      "cell_type": "markdown",
      "metadata": {
        "id": "YmOFsuRqRFUW"
      },
      "source": [
        "We have found that shows have more suitable content for children rather than movies, therefore, we decided to add \"type_mod\" column to our ml model ( Movies -> 1, Tv shows -> 0)"
      ]
    },
    {
      "cell_type": "code",
      "metadata": {
        "id": "8CW_uEXJRCaO"
      },
      "source": [
        "ext_df['type_mod'] = -1\n",
        "for idx, row in ext_df.iterrows():\n",
        "  if ext_df.loc[idx]['type'] == 'Movie':\n",
        "    ext_df.at[idx,'type_mod'] = 1\n",
        "  else:\n",
        "    ext_df.at[idx,'type_mod'] = 0"
      ],
      "execution_count": null,
      "outputs": []
    },
    {
      "cell_type": "markdown",
      "metadata": {
        "id": "CG1BHo8353bG"
      },
      "source": [
        "We also looked for a relation between the release years of the shows and the suitability for the children. Blue parts of the 2 plots below represents the ratings suitable for children. Unlikely the other significant parameters we found to differentiate the movies/tv shows suitable and non-suitable for children, release year didn't show a indicating sign. Thus, we decided not to use it."
      ]
    },
    {
      "cell_type": "code",
      "metadata": {
        "id": "T9FGB3Kk3pNQ",
        "colab": {
          "base_uri": "https://localhost:8080/",
          "height": 367
        },
        "outputId": "45cd2b0e-2604-43f8-d69f-8a2cd10215fa"
      },
      "source": [
        "df_copy = df_.copy()\n",
        "#dategroups = df_copy.groupby[\"data_added\"]\n",
        "df_copy[df_copy['date_added'] == \"Unknown\"] = None\n",
        "dategroups = pd.to_datetime(df_copy[\"date_added\"])\n",
        "\n",
        "\n",
        "#group by data added\n",
        "#each dot is a movie\n",
        "#change the count of that movie across years\n",
        "\n",
        "#add the count of that movie till that date as a new col\n",
        "dategroups = df_copy.groupby([\"rating\", \"date_added\"])\n",
        "\n",
        "\n",
        "#group by date added and count  \n",
        "df_copy.sort_values(by = \"release_year\")\n",
        "\n",
        "gs = df_copy.groupby([\"rating\", \"release_year\"])\n",
        "\n",
        "List_nf = [\"PG-13\", \"PG\", \"TV-PG\", \"TV-MA\", \"TV-14\", \"R\", \"NG-17\"]\n",
        "\n",
        "fig, ax = plt.subplots(figsize = (12,5))\n",
        "count = 0\n",
        "for name, group in gs:\n",
        "  if name[0] not in List_nf:\n",
        "    ax.plot(name[0], name[1],  marker='o', linestyle='', ms=6, label=name[1], c = 'b')\n",
        "  else:\n",
        "    ax.plot(name[0], name[1],  marker='o', linestyle='', ms=6, label=name[1], c = \"0.95\")\n",
        "\n",
        "ax.set_title(\"Ratings by Movie Release Years\")\n",
        "ax.set_xlabel(\"rating\")\n",
        "ax.set_ylabel(\"release year\")\n"
      ],
      "execution_count": null,
      "outputs": [
        {
          "output_type": "execute_result",
          "data": {
            "text/plain": [
              "Text(0, 0.5, 'release year')"
            ]
          },
          "metadata": {
            "tags": []
          },
          "execution_count": 30
        },
        {
          "output_type": "display_data",
          "data": {
            "image/png": "[encoded data removed]",
            "text/plain": [
              "<Figure size 864x360 with 1 Axes>"
            ]
          },
          "metadata": {
            "tags": [],
            "needs_background": "light"
          }
        }
      ]
    },
    {
      "cell_type": "code",
      "metadata": {
        "id": "qkW0P1Rnx5RA",
        "colab": {
          "base_uri": "https://localhost:8080/",
          "height": 367
        },
        "outputId": "dad49f72-7e9e-47ce-de1d-96b5ebebdc11"
      },
      "source": [
        "def fun(year_list):\n",
        "  year_list = sorted(year_list, reverse = True)\n",
        "  count_list = []\n",
        "  count = 0\n",
        "  for i in year_list:\n",
        "    count +=1\n",
        "    count_list.append(count)\n",
        "  return count_list\n",
        "\n",
        "#total released over years\n",
        "total_release = {} # (rating: date1, date2 ... )\n",
        "for name, group in gs:\n",
        "  if name[0] in total_release:\n",
        "    total_release[name[0]].append(name[1])\n",
        "  else:\n",
        "    total_release[name[0]] = [name[1]]\n",
        "    \n",
        "\n",
        "fig, ax = plt.subplots(figsize = (12,5))\n",
        "#ax.set_yticks((2, 5, 7, 10))\n",
        "for key in total_release.keys():\n",
        "  counts = fun(total_release[key])\n",
        "  years = total_release[key]\n",
        "  if key in List_nf:\n",
        "    line, = ax.plot(years, counts, marker='o', markevery = 10, ms = 4, color = \"0.60\")\n",
        "    line.set_label(key)\n",
        "  else:\n",
        "    line, = ax.plot(years, counts, marker='o', markevery = 10, ms = 4, color = \"b\")\n",
        "    line.set_label(key)\n",
        "\n",
        "\n",
        "ax.set_xlabel(\"Year\")\n",
        "ax.set_ylabel(\"Released Movie Number\")\n",
        "ax.set_title(\"Year vs Released Movies Rate by the Rating of the Movies\")\n",
        "ax.grid(\"True\")\n",
        "\n",
        "ax.legend()"
      ],
      "execution_count": null,
      "outputs": [
        {
          "output_type": "execute_result",
          "data": {
            "text/plain": [
              "<matplotlib.legend.Legend at 0x7f58642450b8>"
            ]
          },
          "metadata": {
            "tags": []
          },
          "execution_count": 31
        },
        {
          "output_type": "display_data",
          "data": {
            "image/png": "[encoded data removed]",
            "text/plain": [
              "<Figure size 864x360 with 1 Axes>"
            ]
          },
          "metadata": {
            "tags": [],
            "needs_background": "light"
          }
        }
      ]
    },
    {
      "cell_type": "markdown",
      "metadata": {
        "id": "mHDuUhKeQTB5"
      },
      "source": [
        "Up to today, number of both of the child friendly and non child friendly rating of the movies increased. Because in total number of movies released increased through time. It is not possible to find correlation between child-friendly rating and released year. "
      ]
    },
    {
      "cell_type": "code",
      "metadata": {
        "id": "VVveylG3yey6",
        "colab": {
          "base_uri": "https://localhost:8080/"
        },
        "outputId": "09faf6a4-544f-40ef-ac62-3258358d549e"
      },
      "source": [
        "ext_df.shape[1]"
      ],
      "execution_count": null,
      "outputs": [
        {
          "output_type": "execute_result",
          "data": {
            "text/plain": [
              "117"
            ]
          },
          "metadata": {
            "tags": []
          },
          "execution_count": 32
        }
      ]
    },
    {
      "cell_type": "code",
      "metadata": {
        "id": "fEcrP-tpBD4r",
        "colab": {
          "base_uri": "https://localhost:8080/",
          "height": 1000
        },
        "outputId": "7a1c279a-98f1-4e88-eccd-3cde7ee08b4e"
      },
      "source": [
        "ext_df"
      ],
      "execution_count": null,
      "outputs": [
        {
          "output_type": "execute_result",
          "data": {
            "text/html": [
              "<div>\n",
              "<style scoped>\n",
              "    .dataframe tbody tr th:only-of-type {\n",
              "        vertical-align: middle;\n",
              "    }\n",
              "\n",
              "    .dataframe tbody tr th {\n",
              "        vertical-align: top;\n",
              "    }\n",
              "\n",
              "    .dataframe thead th {\n",
              "        text-align: right;\n",
              "    }\n",
              "</style>\n",
              "<table border=\"1\" class=\"dataframe\">\n",
              "  <thead>\n",
              "    <tr style=\"text-align: right;\">\n",
              "      <th></th>\n",
              "      <th>type</th>\n",
              "      <th>title</th>\n",
              "      <th>director</th>\n",
              "      <th>cast</th>\n",
              "      <th>date_added</th>\n",
              "      <th>release_year</th>\n",
              "      <th>rating</th>\n",
              "      <th>duration</th>\n",
              "      <th>listed_in</th>\n",
              "      <th>description</th>\n",
              "      <th>target</th>\n",
              "      <th>Sci-Fi &amp; Fantasy</th>\n",
              "      <th>Comedies</th>\n",
              "      <th>Action &amp; Adventure</th>\n",
              "      <th>Independent Movies</th>\n",
              "      <th>Horror Movies</th>\n",
              "      <th>TV Thrillers</th>\n",
              "      <th>Kids' TV</th>\n",
              "      <th>Anime Series</th>\n",
              "      <th>Movies</th>\n",
              "      <th>Teen TV Shows</th>\n",
              "      <th>Classic Movies</th>\n",
              "      <th>Classic &amp; Cult TV</th>\n",
              "      <th>International Movies</th>\n",
              "      <th>Thrillers</th>\n",
              "      <th>TV Sci-Fi &amp; Fantasy</th>\n",
              "      <th>Stand-Up Comedy</th>\n",
              "      <th>Sports Movies</th>\n",
              "      <th>Dramas</th>\n",
              "      <th>Cult Movies</th>\n",
              "      <th>Anime Features</th>\n",
              "      <th>TV Horror</th>\n",
              "      <th>International TV Shows</th>\n",
              "      <th>Korean TV Shows</th>\n",
              "      <th>Reality TV</th>\n",
              "      <th>Crime TV Shows</th>\n",
              "      <th>LGBTQ Movies</th>\n",
              "      <th>British TV Shows</th>\n",
              "      <th>Spanish-Language TV Shows</th>\n",
              "      <th>TV Shows</th>\n",
              "      <th>...</th>\n",
              "      <th>CastMember24</th>\n",
              "      <th>CastMember25</th>\n",
              "      <th>CastMember26</th>\n",
              "      <th>CastMember27</th>\n",
              "      <th>CastMember28</th>\n",
              "      <th>CastMember29</th>\n",
              "      <th>CastMember30</th>\n",
              "      <th>CastMember31</th>\n",
              "      <th>CastMember32</th>\n",
              "      <th>CastMember33</th>\n",
              "      <th>CastMember34</th>\n",
              "      <th>CastMember35</th>\n",
              "      <th>CastMember36</th>\n",
              "      <th>CastMember37</th>\n",
              "      <th>CastMember38</th>\n",
              "      <th>CastMember39</th>\n",
              "      <th>CastMember40</th>\n",
              "      <th>CastMember41</th>\n",
              "      <th>CastMember42</th>\n",
              "      <th>CastMember43</th>\n",
              "      <th>CastMember44</th>\n",
              "      <th>CastMember45</th>\n",
              "      <th>CastMember46</th>\n",
              "      <th>CastMember47</th>\n",
              "      <th>CastMember48</th>\n",
              "      <th>CastMember49</th>\n",
              "      <th>director0</th>\n",
              "      <th>director1</th>\n",
              "      <th>director2</th>\n",
              "      <th>director3</th>\n",
              "      <th>director4</th>\n",
              "      <th>director5</th>\n",
              "      <th>director6</th>\n",
              "      <th>director7</th>\n",
              "      <th>director8</th>\n",
              "      <th>director9</th>\n",
              "      <th>director10</th>\n",
              "      <th>director11</th>\n",
              "      <th>director12</th>\n",
              "      <th>type_mod</th>\n",
              "    </tr>\n",
              "  </thead>\n",
              "  <tbody>\n",
              "    <tr>\n",
              "      <th>0</th>\n",
              "      <td>Movie</td>\n",
              "      <td>Norm of the North: King Sized Adventure</td>\n",
              "      <td>Richard Finn, Tim Maltby</td>\n",
              "      <td>Alan Marriott, Andrew Toth, Brian Dobson, Cole...</td>\n",
              "      <td>September 9, 2019</td>\n",
              "      <td>2019</td>\n",
              "      <td>TV-PG</td>\n",
              "      <td>90 min</td>\n",
              "      <td>Children &amp; Family Movies, Comedies</td>\n",
              "      <td>Before planning an awesome wedding for his gra...</td>\n",
              "      <td>0</td>\n",
              "      <td>0</td>\n",
              "      <td>1</td>\n",
              "      <td>0</td>\n",
              "      <td>0</td>\n",
              "      <td>0</td>\n",
              "      <td>0</td>\n",
              "      <td>0</td>\n",
              "      <td>0</td>\n",
              "      <td>0</td>\n",
              "      <td>0</td>\n",
              "      <td>0</td>\n",
              "      <td>0</td>\n",
              "      <td>0</td>\n",
              "      <td>0</td>\n",
              "      <td>0</td>\n",
              "      <td>0</td>\n",
              "      <td>0</td>\n",
              "      <td>0</td>\n",
              "      <td>0</td>\n",
              "      <td>0</td>\n",
              "      <td>0</td>\n",
              "      <td>0</td>\n",
              "      <td>0</td>\n",
              "      <td>0</td>\n",
              "      <td>0</td>\n",
              "      <td>0</td>\n",
              "      <td>0</td>\n",
              "      <td>0</td>\n",
              "      <td>0</td>\n",
              "      <td>...</td>\n",
              "      <td>-1</td>\n",
              "      <td>-1</td>\n",
              "      <td>-1</td>\n",
              "      <td>-1</td>\n",
              "      <td>-1</td>\n",
              "      <td>-1</td>\n",
              "      <td>-1</td>\n",
              "      <td>-1</td>\n",
              "      <td>-1</td>\n",
              "      <td>-1</td>\n",
              "      <td>-1</td>\n",
              "      <td>-1</td>\n",
              "      <td>-1</td>\n",
              "      <td>-1</td>\n",
              "      <td>-1</td>\n",
              "      <td>-1</td>\n",
              "      <td>-1</td>\n",
              "      <td>-1</td>\n",
              "      <td>-1</td>\n",
              "      <td>-1</td>\n",
              "      <td>-1</td>\n",
              "      <td>-1</td>\n",
              "      <td>-1</td>\n",
              "      <td>-1</td>\n",
              "      <td>-1</td>\n",
              "      <td>-1</td>\n",
              "      <td>1</td>\n",
              "      <td>2</td>\n",
              "      <td>0</td>\n",
              "      <td>0</td>\n",
              "      <td>0</td>\n",
              "      <td>0</td>\n",
              "      <td>0</td>\n",
              "      <td>0</td>\n",
              "      <td>0</td>\n",
              "      <td>0</td>\n",
              "      <td>0</td>\n",
              "      <td>0</td>\n",
              "      <td>0</td>\n",
              "      <td>1</td>\n",
              "    </tr>\n",
              "    <tr>\n",
              "      <th>1</th>\n",
              "      <td>Movie</td>\n",
              "      <td>Jandino: Whatever it Takes</td>\n",
              "      <td>Unknown</td>\n",
              "      <td>Jandino Asporaat</td>\n",
              "      <td>September 9, 2016</td>\n",
              "      <td>2016</td>\n",
              "      <td>TV-MA</td>\n",
              "      <td>94 min</td>\n",
              "      <td>Stand-Up Comedy</td>\n",
              "      <td>Jandino Asporaat riffs on the challenges of ra...</td>\n",
              "      <td>0</td>\n",
              "      <td>0</td>\n",
              "      <td>0</td>\n",
              "      <td>0</td>\n",
              "      <td>0</td>\n",
              "      <td>0</td>\n",
              "      <td>0</td>\n",
              "      <td>0</td>\n",
              "      <td>0</td>\n",
              "      <td>0</td>\n",
              "      <td>0</td>\n",
              "      <td>0</td>\n",
              "      <td>0</td>\n",
              "      <td>0</td>\n",
              "      <td>0</td>\n",
              "      <td>0</td>\n",
              "      <td>1</td>\n",
              "      <td>0</td>\n",
              "      <td>0</td>\n",
              "      <td>0</td>\n",
              "      <td>0</td>\n",
              "      <td>0</td>\n",
              "      <td>0</td>\n",
              "      <td>0</td>\n",
              "      <td>0</td>\n",
              "      <td>0</td>\n",
              "      <td>0</td>\n",
              "      <td>0</td>\n",
              "      <td>0</td>\n",
              "      <td>0</td>\n",
              "      <td>...</td>\n",
              "      <td>-1</td>\n",
              "      <td>-1</td>\n",
              "      <td>-1</td>\n",
              "      <td>-1</td>\n",
              "      <td>-1</td>\n",
              "      <td>-1</td>\n",
              "      <td>-1</td>\n",
              "      <td>-1</td>\n",
              "      <td>-1</td>\n",
              "      <td>-1</td>\n",
              "      <td>-1</td>\n",
              "      <td>-1</td>\n",
              "      <td>-1</td>\n",
              "      <td>-1</td>\n",
              "      <td>-1</td>\n",
              "      <td>-1</td>\n",
              "      <td>-1</td>\n",
              "      <td>-1</td>\n",
              "      <td>-1</td>\n",
              "      <td>-1</td>\n",
              "      <td>-1</td>\n",
              "      <td>-1</td>\n",
              "      <td>-1</td>\n",
              "      <td>-1</td>\n",
              "      <td>-1</td>\n",
              "      <td>-1</td>\n",
              "      <td>0</td>\n",
              "      <td>0</td>\n",
              "      <td>0</td>\n",
              "      <td>0</td>\n",
              "      <td>0</td>\n",
              "      <td>0</td>\n",
              "      <td>0</td>\n",
              "      <td>0</td>\n",
              "      <td>0</td>\n",
              "      <td>0</td>\n",
              "      <td>0</td>\n",
              "      <td>0</td>\n",
              "      <td>0</td>\n",
              "      <td>1</td>\n",
              "    </tr>\n",
              "    <tr>\n",
              "      <th>2</th>\n",
              "      <td>TV Show</td>\n",
              "      <td>Transformers Prime</td>\n",
              "      <td>Unknown</td>\n",
              "      <td>Peter Cullen, Sumalee Montano, Frank Welker, J...</td>\n",
              "      <td>September 8, 2018</td>\n",
              "      <td>2013</td>\n",
              "      <td>TV-Y7-FV</td>\n",
              "      <td>1 Season</td>\n",
              "      <td>Kids' TV</td>\n",
              "      <td>With the help of three human allies, the Autob...</td>\n",
              "      <td>1</td>\n",
              "      <td>0</td>\n",
              "      <td>0</td>\n",
              "      <td>0</td>\n",
              "      <td>0</td>\n",
              "      <td>0</td>\n",
              "      <td>0</td>\n",
              "      <td>1</td>\n",
              "      <td>0</td>\n",
              "      <td>0</td>\n",
              "      <td>0</td>\n",
              "      <td>0</td>\n",
              "      <td>0</td>\n",
              "      <td>0</td>\n",
              "      <td>0</td>\n",
              "      <td>0</td>\n",
              "      <td>0</td>\n",
              "      <td>0</td>\n",
              "      <td>0</td>\n",
              "      <td>0</td>\n",
              "      <td>0</td>\n",
              "      <td>0</td>\n",
              "      <td>0</td>\n",
              "      <td>0</td>\n",
              "      <td>0</td>\n",
              "      <td>0</td>\n",
              "      <td>0</td>\n",
              "      <td>0</td>\n",
              "      <td>0</td>\n",
              "      <td>0</td>\n",
              "      <td>...</td>\n",
              "      <td>-1</td>\n",
              "      <td>-1</td>\n",
              "      <td>-1</td>\n",
              "      <td>-1</td>\n",
              "      <td>-1</td>\n",
              "      <td>-1</td>\n",
              "      <td>-1</td>\n",
              "      <td>-1</td>\n",
              "      <td>-1</td>\n",
              "      <td>-1</td>\n",
              "      <td>-1</td>\n",
              "      <td>-1</td>\n",
              "      <td>-1</td>\n",
              "      <td>-1</td>\n",
              "      <td>-1</td>\n",
              "      <td>-1</td>\n",
              "      <td>-1</td>\n",
              "      <td>-1</td>\n",
              "      <td>-1</td>\n",
              "      <td>-1</td>\n",
              "      <td>-1</td>\n",
              "      <td>-1</td>\n",
              "      <td>-1</td>\n",
              "      <td>-1</td>\n",
              "      <td>-1</td>\n",
              "      <td>-1</td>\n",
              "      <td>0</td>\n",
              "      <td>0</td>\n",
              "      <td>0</td>\n",
              "      <td>0</td>\n",
              "      <td>0</td>\n",
              "      <td>0</td>\n",
              "      <td>0</td>\n",
              "      <td>0</td>\n",
              "      <td>0</td>\n",
              "      <td>0</td>\n",
              "      <td>0</td>\n",
              "      <td>0</td>\n",
              "      <td>0</td>\n",
              "      <td>0</td>\n",
              "    </tr>\n",
              "    <tr>\n",
              "      <th>3</th>\n",
              "      <td>TV Show</td>\n",
              "      <td>Transformers: Robots in Disguise</td>\n",
              "      <td>Unknown</td>\n",
              "      <td>Will Friedle, Darren Criss, Constance Zimmer, ...</td>\n",
              "      <td>September 8, 2018</td>\n",
              "      <td>2016</td>\n",
              "      <td>TV-Y7</td>\n",
              "      <td>1 Season</td>\n",
              "      <td>Kids' TV</td>\n",
              "      <td>When a prison ship crash unleashes hundreds of...</td>\n",
              "      <td>0</td>\n",
              "      <td>0</td>\n",
              "      <td>0</td>\n",
              "      <td>0</td>\n",
              "      <td>0</td>\n",
              "      <td>0</td>\n",
              "      <td>0</td>\n",
              "      <td>1</td>\n",
              "      <td>0</td>\n",
              "      <td>0</td>\n",
              "      <td>0</td>\n",
              "      <td>0</td>\n",
              "      <td>0</td>\n",
              "      <td>0</td>\n",
              "      <td>0</td>\n",
              "      <td>0</td>\n",
              "      <td>0</td>\n",
              "      <td>0</td>\n",
              "      <td>0</td>\n",
              "      <td>0</td>\n",
              "      <td>0</td>\n",
              "      <td>0</td>\n",
              "      <td>0</td>\n",
              "      <td>0</td>\n",
              "      <td>0</td>\n",
              "      <td>0</td>\n",
              "      <td>0</td>\n",
              "      <td>0</td>\n",
              "      <td>0</td>\n",
              "      <td>0</td>\n",
              "      <td>...</td>\n",
              "      <td>-1</td>\n",
              "      <td>-1</td>\n",
              "      <td>-1</td>\n",
              "      <td>-1</td>\n",
              "      <td>-1</td>\n",
              "      <td>-1</td>\n",
              "      <td>-1</td>\n",
              "      <td>-1</td>\n",
              "      <td>-1</td>\n",
              "      <td>-1</td>\n",
              "      <td>-1</td>\n",
              "      <td>-1</td>\n",
              "      <td>-1</td>\n",
              "      <td>-1</td>\n",
              "      <td>-1</td>\n",
              "      <td>-1</td>\n",
              "      <td>-1</td>\n",
              "      <td>-1</td>\n",
              "      <td>-1</td>\n",
              "      <td>-1</td>\n",
              "      <td>-1</td>\n",
              "      <td>-1</td>\n",
              "      <td>-1</td>\n",
              "      <td>-1</td>\n",
              "      <td>-1</td>\n",
              "      <td>-1</td>\n",
              "      <td>0</td>\n",
              "      <td>0</td>\n",
              "      <td>0</td>\n",
              "      <td>0</td>\n",
              "      <td>0</td>\n",
              "      <td>0</td>\n",
              "      <td>0</td>\n",
              "      <td>0</td>\n",
              "      <td>0</td>\n",
              "      <td>0</td>\n",
              "      <td>0</td>\n",
              "      <td>0</td>\n",
              "      <td>0</td>\n",
              "      <td>0</td>\n",
              "    </tr>\n",
              "    <tr>\n",
              "      <th>4</th>\n",
              "      <td>Movie</td>\n",
              "      <td>#realityhigh</td>\n",
              "      <td>Fernando Lebrija</td>\n",
              "      <td>Nesta Cooper, Kate Walsh, John Michael Higgins...</td>\n",
              "      <td>September 8, 2017</td>\n",
              "      <td>2017</td>\n",
              "      <td>TV-14</td>\n",
              "      <td>99 min</td>\n",
              "      <td>Comedies</td>\n",
              "      <td>When nerdy high schooler Dani finally attracts...</td>\n",
              "      <td>0</td>\n",
              "      <td>0</td>\n",
              "      <td>1</td>\n",
              "      <td>0</td>\n",
              "      <td>0</td>\n",
              "      <td>0</td>\n",
              "      <td>0</td>\n",
              "      <td>0</td>\n",
              "      <td>0</td>\n",
              "      <td>0</td>\n",
              "      <td>0</td>\n",
              "      <td>0</td>\n",
              "      <td>0</td>\n",
              "      <td>0</td>\n",
              "      <td>0</td>\n",
              "      <td>0</td>\n",
              "      <td>0</td>\n",
              "      <td>0</td>\n",
              "      <td>0</td>\n",
              "      <td>0</td>\n",
              "      <td>0</td>\n",
              "      <td>0</td>\n",
              "      <td>0</td>\n",
              "      <td>0</td>\n",
              "      <td>0</td>\n",
              "      <td>0</td>\n",
              "      <td>0</td>\n",
              "      <td>0</td>\n",
              "      <td>0</td>\n",
              "      <td>0</td>\n",
              "      <td>...</td>\n",
              "      <td>-1</td>\n",
              "      <td>-1</td>\n",
              "      <td>-1</td>\n",
              "      <td>-1</td>\n",
              "      <td>-1</td>\n",
              "      <td>-1</td>\n",
              "      <td>-1</td>\n",
              "      <td>-1</td>\n",
              "      <td>-1</td>\n",
              "      <td>-1</td>\n",
              "      <td>-1</td>\n",
              "      <td>-1</td>\n",
              "      <td>-1</td>\n",
              "      <td>-1</td>\n",
              "      <td>-1</td>\n",
              "      <td>-1</td>\n",
              "      <td>-1</td>\n",
              "      <td>-1</td>\n",
              "      <td>-1</td>\n",
              "      <td>-1</td>\n",
              "      <td>-1</td>\n",
              "      <td>-1</td>\n",
              "      <td>-1</td>\n",
              "      <td>-1</td>\n",
              "      <td>-1</td>\n",
              "      <td>-1</td>\n",
              "      <td>3</td>\n",
              "      <td>0</td>\n",
              "      <td>0</td>\n",
              "      <td>0</td>\n",
              "      <td>0</td>\n",
              "      <td>0</td>\n",
              "      <td>0</td>\n",
              "      <td>0</td>\n",
              "      <td>0</td>\n",
              "      <td>0</td>\n",
              "      <td>0</td>\n",
              "      <td>0</td>\n",
              "      <td>0</td>\n",
              "      <td>1</td>\n",
              "    </tr>\n",
              "    <tr>\n",
              "      <th>...</th>\n",
              "      <td>...</td>\n",
              "      <td>...</td>\n",
              "      <td>...</td>\n",
              "      <td>...</td>\n",
              "      <td>...</td>\n",
              "      <td>...</td>\n",
              "      <td>...</td>\n",
              "      <td>...</td>\n",
              "      <td>...</td>\n",
              "      <td>...</td>\n",
              "      <td>...</td>\n",
              "      <td>...</td>\n",
              "      <td>...</td>\n",
              "      <td>...</td>\n",
              "      <td>...</td>\n",
              "      <td>...</td>\n",
              "      <td>...</td>\n",
              "      <td>...</td>\n",
              "      <td>...</td>\n",
              "      <td>...</td>\n",
              "      <td>...</td>\n",
              "      <td>...</td>\n",
              "      <td>...</td>\n",
              "      <td>...</td>\n",
              "      <td>...</td>\n",
              "      <td>...</td>\n",
              "      <td>...</td>\n",
              "      <td>...</td>\n",
              "      <td>...</td>\n",
              "      <td>...</td>\n",
              "      <td>...</td>\n",
              "      <td>...</td>\n",
              "      <td>...</td>\n",
              "      <td>...</td>\n",
              "      <td>...</td>\n",
              "      <td>...</td>\n",
              "      <td>...</td>\n",
              "      <td>...</td>\n",
              "      <td>...</td>\n",
              "      <td>...</td>\n",
              "      <td>...</td>\n",
              "      <td>...</td>\n",
              "      <td>...</td>\n",
              "      <td>...</td>\n",
              "      <td>...</td>\n",
              "      <td>...</td>\n",
              "      <td>...</td>\n",
              "      <td>...</td>\n",
              "      <td>...</td>\n",
              "      <td>...</td>\n",
              "      <td>...</td>\n",
              "      <td>...</td>\n",
              "      <td>...</td>\n",
              "      <td>...</td>\n",
              "      <td>...</td>\n",
              "      <td>...</td>\n",
              "      <td>...</td>\n",
              "      <td>...</td>\n",
              "      <td>...</td>\n",
              "      <td>...</td>\n",
              "      <td>...</td>\n",
              "      <td>...</td>\n",
              "      <td>...</td>\n",
              "      <td>...</td>\n",
              "      <td>...</td>\n",
              "      <td>...</td>\n",
              "      <td>...</td>\n",
              "      <td>...</td>\n",
              "      <td>...</td>\n",
              "      <td>...</td>\n",
              "      <td>...</td>\n",
              "      <td>...</td>\n",
              "      <td>...</td>\n",
              "      <td>...</td>\n",
              "      <td>...</td>\n",
              "      <td>...</td>\n",
              "      <td>...</td>\n",
              "      <td>...</td>\n",
              "      <td>...</td>\n",
              "      <td>...</td>\n",
              "      <td>...</td>\n",
              "    </tr>\n",
              "    <tr>\n",
              "      <th>6227</th>\n",
              "      <td>TV Show</td>\n",
              "      <td>The Adventures of Figaro Pho</td>\n",
              "      <td>Unknown</td>\n",
              "      <td>Luke Jurevicius, Craig Behenna, Charlotte Haml...</td>\n",
              "      <td>Unknown</td>\n",
              "      <td>2015</td>\n",
              "      <td>TV-Y7</td>\n",
              "      <td>2 Seasons</td>\n",
              "      <td>Kids' TV, TV Comedies</td>\n",
              "      <td>Imagine your worst fears, then multiply them: ...</td>\n",
              "      <td>0</td>\n",
              "      <td>0</td>\n",
              "      <td>0</td>\n",
              "      <td>0</td>\n",
              "      <td>0</td>\n",
              "      <td>0</td>\n",
              "      <td>0</td>\n",
              "      <td>1</td>\n",
              "      <td>0</td>\n",
              "      <td>0</td>\n",
              "      <td>0</td>\n",
              "      <td>0</td>\n",
              "      <td>0</td>\n",
              "      <td>0</td>\n",
              "      <td>0</td>\n",
              "      <td>0</td>\n",
              "      <td>0</td>\n",
              "      <td>0</td>\n",
              "      <td>0</td>\n",
              "      <td>0</td>\n",
              "      <td>0</td>\n",
              "      <td>0</td>\n",
              "      <td>0</td>\n",
              "      <td>0</td>\n",
              "      <td>0</td>\n",
              "      <td>0</td>\n",
              "      <td>0</td>\n",
              "      <td>0</td>\n",
              "      <td>0</td>\n",
              "      <td>0</td>\n",
              "      <td>...</td>\n",
              "      <td>-1</td>\n",
              "      <td>-1</td>\n",
              "      <td>-1</td>\n",
              "      <td>-1</td>\n",
              "      <td>-1</td>\n",
              "      <td>-1</td>\n",
              "      <td>-1</td>\n",
              "      <td>-1</td>\n",
              "      <td>-1</td>\n",
              "      <td>-1</td>\n",
              "      <td>-1</td>\n",
              "      <td>-1</td>\n",
              "      <td>-1</td>\n",
              "      <td>-1</td>\n",
              "      <td>-1</td>\n",
              "      <td>-1</td>\n",
              "      <td>-1</td>\n",
              "      <td>-1</td>\n",
              "      <td>-1</td>\n",
              "      <td>-1</td>\n",
              "      <td>-1</td>\n",
              "      <td>-1</td>\n",
              "      <td>-1</td>\n",
              "      <td>-1</td>\n",
              "      <td>-1</td>\n",
              "      <td>-1</td>\n",
              "      <td>0</td>\n",
              "      <td>0</td>\n",
              "      <td>0</td>\n",
              "      <td>0</td>\n",
              "      <td>0</td>\n",
              "      <td>0</td>\n",
              "      <td>0</td>\n",
              "      <td>0</td>\n",
              "      <td>0</td>\n",
              "      <td>0</td>\n",
              "      <td>0</td>\n",
              "      <td>0</td>\n",
              "      <td>0</td>\n",
              "      <td>0</td>\n",
              "    </tr>\n",
              "    <tr>\n",
              "      <th>6228</th>\n",
              "      <td>TV Show</td>\n",
              "      <td>Kikoriki</td>\n",
              "      <td>Unknown</td>\n",
              "      <td>Igor Dmitriev</td>\n",
              "      <td>Unknown</td>\n",
              "      <td>2010</td>\n",
              "      <td>TV-Y</td>\n",
              "      <td>2 Seasons</td>\n",
              "      <td>Kids' TV</td>\n",
              "      <td>A wacky rabbit and his gang of animal pals hav...</td>\n",
              "      <td>1</td>\n",
              "      <td>0</td>\n",
              "      <td>0</td>\n",
              "      <td>0</td>\n",
              "      <td>0</td>\n",
              "      <td>0</td>\n",
              "      <td>0</td>\n",
              "      <td>1</td>\n",
              "      <td>0</td>\n",
              "      <td>0</td>\n",
              "      <td>0</td>\n",
              "      <td>0</td>\n",
              "      <td>0</td>\n",
              "      <td>0</td>\n",
              "      <td>0</td>\n",
              "      <td>0</td>\n",
              "      <td>0</td>\n",
              "      <td>0</td>\n",
              "      <td>0</td>\n",
              "      <td>0</td>\n",
              "      <td>0</td>\n",
              "      <td>0</td>\n",
              "      <td>0</td>\n",
              "      <td>0</td>\n",
              "      <td>0</td>\n",
              "      <td>0</td>\n",
              "      <td>0</td>\n",
              "      <td>0</td>\n",
              "      <td>0</td>\n",
              "      <td>0</td>\n",
              "      <td>...</td>\n",
              "      <td>-1</td>\n",
              "      <td>-1</td>\n",
              "      <td>-1</td>\n",
              "      <td>-1</td>\n",
              "      <td>-1</td>\n",
              "      <td>-1</td>\n",
              "      <td>-1</td>\n",
              "      <td>-1</td>\n",
              "      <td>-1</td>\n",
              "      <td>-1</td>\n",
              "      <td>-1</td>\n",
              "      <td>-1</td>\n",
              "      <td>-1</td>\n",
              "      <td>-1</td>\n",
              "      <td>-1</td>\n",
              "      <td>-1</td>\n",
              "      <td>-1</td>\n",
              "      <td>-1</td>\n",
              "      <td>-1</td>\n",
              "      <td>-1</td>\n",
              "      <td>-1</td>\n",
              "      <td>-1</td>\n",
              "      <td>-1</td>\n",
              "      <td>-1</td>\n",
              "      <td>-1</td>\n",
              "      <td>-1</td>\n",
              "      <td>0</td>\n",
              "      <td>0</td>\n",
              "      <td>0</td>\n",
              "      <td>0</td>\n",
              "      <td>0</td>\n",
              "      <td>0</td>\n",
              "      <td>0</td>\n",
              "      <td>0</td>\n",
              "      <td>0</td>\n",
              "      <td>0</td>\n",
              "      <td>0</td>\n",
              "      <td>0</td>\n",
              "      <td>0</td>\n",
              "      <td>0</td>\n",
              "    </tr>\n",
              "    <tr>\n",
              "      <th>6230</th>\n",
              "      <td>TV Show</td>\n",
              "      <td>Maron</td>\n",
              "      <td>Unknown</td>\n",
              "      <td>Marc Maron, Judd Hirsch, Josh Brener, Nora Zeh...</td>\n",
              "      <td>Unknown</td>\n",
              "      <td>2016</td>\n",
              "      <td>TV-MA</td>\n",
              "      <td>4 Seasons</td>\n",
              "      <td>TV Comedies</td>\n",
              "      <td>Marc Maron stars as Marc Maron, who interviews...</td>\n",
              "      <td>0</td>\n",
              "      <td>0</td>\n",
              "      <td>0</td>\n",
              "      <td>0</td>\n",
              "      <td>0</td>\n",
              "      <td>0</td>\n",
              "      <td>0</td>\n",
              "      <td>0</td>\n",
              "      <td>0</td>\n",
              "      <td>0</td>\n",
              "      <td>0</td>\n",
              "      <td>0</td>\n",
              "      <td>0</td>\n",
              "      <td>0</td>\n",
              "      <td>0</td>\n",
              "      <td>0</td>\n",
              "      <td>0</td>\n",
              "      <td>0</td>\n",
              "      <td>0</td>\n",
              "      <td>0</td>\n",
              "      <td>0</td>\n",
              "      <td>0</td>\n",
              "      <td>0</td>\n",
              "      <td>0</td>\n",
              "      <td>0</td>\n",
              "      <td>0</td>\n",
              "      <td>0</td>\n",
              "      <td>0</td>\n",
              "      <td>0</td>\n",
              "      <td>0</td>\n",
              "      <td>...</td>\n",
              "      <td>-1</td>\n",
              "      <td>-1</td>\n",
              "      <td>-1</td>\n",
              "      <td>-1</td>\n",
              "      <td>-1</td>\n",
              "      <td>-1</td>\n",
              "      <td>-1</td>\n",
              "      <td>-1</td>\n",
              "      <td>-1</td>\n",
              "      <td>-1</td>\n",
              "      <td>-1</td>\n",
              "      <td>-1</td>\n",
              "      <td>-1</td>\n",
              "      <td>-1</td>\n",
              "      <td>-1</td>\n",
              "      <td>-1</td>\n",
              "      <td>-1</td>\n",
              "      <td>-1</td>\n",
              "      <td>-1</td>\n",
              "      <td>-1</td>\n",
              "      <td>-1</td>\n",
              "      <td>-1</td>\n",
              "      <td>-1</td>\n",
              "      <td>-1</td>\n",
              "      <td>-1</td>\n",
              "      <td>-1</td>\n",
              "      <td>0</td>\n",
              "      <td>0</td>\n",
              "      <td>0</td>\n",
              "      <td>0</td>\n",
              "      <td>0</td>\n",
              "      <td>0</td>\n",
              "      <td>0</td>\n",
              "      <td>0</td>\n",
              "      <td>0</td>\n",
              "      <td>0</td>\n",
              "      <td>0</td>\n",
              "      <td>0</td>\n",
              "      <td>0</td>\n",
              "      <td>0</td>\n",
              "    </tr>\n",
              "    <tr>\n",
              "      <th>6232</th>\n",
              "      <td>TV Show</td>\n",
              "      <td>A Young Doctor's Notebook and Other Stories</td>\n",
              "      <td>Unknown</td>\n",
              "      <td>Daniel Radcliffe, Jon Hamm, Adam Godley, Chris...</td>\n",
              "      <td>Unknown</td>\n",
              "      <td>2013</td>\n",
              "      <td>TV-MA</td>\n",
              "      <td>2 Seasons</td>\n",
              "      <td>British TV Shows, TV Comedies, TV Dramas</td>\n",
              "      <td>Set during the Russian Revolution, this comic ...</td>\n",
              "      <td>0</td>\n",
              "      <td>0</td>\n",
              "      <td>0</td>\n",
              "      <td>0</td>\n",
              "      <td>0</td>\n",
              "      <td>0</td>\n",
              "      <td>0</td>\n",
              "      <td>0</td>\n",
              "      <td>0</td>\n",
              "      <td>0</td>\n",
              "      <td>0</td>\n",
              "      <td>0</td>\n",
              "      <td>0</td>\n",
              "      <td>0</td>\n",
              "      <td>0</td>\n",
              "      <td>0</td>\n",
              "      <td>0</td>\n",
              "      <td>0</td>\n",
              "      <td>0</td>\n",
              "      <td>0</td>\n",
              "      <td>0</td>\n",
              "      <td>0</td>\n",
              "      <td>0</td>\n",
              "      <td>0</td>\n",
              "      <td>0</td>\n",
              "      <td>0</td>\n",
              "      <td>0</td>\n",
              "      <td>1</td>\n",
              "      <td>0</td>\n",
              "      <td>0</td>\n",
              "      <td>...</td>\n",
              "      <td>-1</td>\n",
              "      <td>-1</td>\n",
              "      <td>-1</td>\n",
              "      <td>-1</td>\n",
              "      <td>-1</td>\n",
              "      <td>-1</td>\n",
              "      <td>-1</td>\n",
              "      <td>-1</td>\n",
              "      <td>-1</td>\n",
              "      <td>-1</td>\n",
              "      <td>-1</td>\n",
              "      <td>-1</td>\n",
              "      <td>-1</td>\n",
              "      <td>-1</td>\n",
              "      <td>-1</td>\n",
              "      <td>-1</td>\n",
              "      <td>-1</td>\n",
              "      <td>-1</td>\n",
              "      <td>-1</td>\n",
              "      <td>-1</td>\n",
              "      <td>-1</td>\n",
              "      <td>-1</td>\n",
              "      <td>-1</td>\n",
              "      <td>-1</td>\n",
              "      <td>-1</td>\n",
              "      <td>-1</td>\n",
              "      <td>0</td>\n",
              "      <td>0</td>\n",
              "      <td>0</td>\n",
              "      <td>0</td>\n",
              "      <td>0</td>\n",
              "      <td>0</td>\n",
              "      <td>0</td>\n",
              "      <td>0</td>\n",
              "      <td>0</td>\n",
              "      <td>0</td>\n",
              "      <td>0</td>\n",
              "      <td>0</td>\n",
              "      <td>0</td>\n",
              "      <td>0</td>\n",
              "    </tr>\n",
              "    <tr>\n",
              "      <th>6233</th>\n",
              "      <td>TV Show</td>\n",
              "      <td>Friends</td>\n",
              "      <td>Unknown</td>\n",
              "      <td>Jennifer Aniston, Courteney Cox, Lisa Kudrow, ...</td>\n",
              "      <td>Unknown</td>\n",
              "      <td>2003</td>\n",
              "      <td>TV-14</td>\n",
              "      <td>10 Seasons</td>\n",
              "      <td>Classic &amp; Cult TV, TV Comedies</td>\n",
              "      <td>This hit sitcom follows the merry misadventure...</td>\n",
              "      <td>0</td>\n",
              "      <td>0</td>\n",
              "      <td>0</td>\n",
              "      <td>0</td>\n",
              "      <td>0</td>\n",
              "      <td>0</td>\n",
              "      <td>0</td>\n",
              "      <td>0</td>\n",
              "      <td>0</td>\n",
              "      <td>0</td>\n",
              "      <td>0</td>\n",
              "      <td>0</td>\n",
              "      <td>1</td>\n",
              "      <td>0</td>\n",
              "      <td>0</td>\n",
              "      <td>0</td>\n",
              "      <td>0</td>\n",
              "      <td>0</td>\n",
              "      <td>0</td>\n",
              "      <td>0</td>\n",
              "      <td>0</td>\n",
              "      <td>0</td>\n",
              "      <td>0</td>\n",
              "      <td>0</td>\n",
              "      <td>0</td>\n",
              "      <td>0</td>\n",
              "      <td>0</td>\n",
              "      <td>0</td>\n",
              "      <td>0</td>\n",
              "      <td>0</td>\n",
              "      <td>...</td>\n",
              "      <td>-1</td>\n",
              "      <td>-1</td>\n",
              "      <td>-1</td>\n",
              "      <td>-1</td>\n",
              "      <td>-1</td>\n",
              "      <td>-1</td>\n",
              "      <td>-1</td>\n",
              "      <td>-1</td>\n",
              "      <td>-1</td>\n",
              "      <td>-1</td>\n",
              "      <td>-1</td>\n",
              "      <td>-1</td>\n",
              "      <td>-1</td>\n",
              "      <td>-1</td>\n",
              "      <td>-1</td>\n",
              "      <td>-1</td>\n",
              "      <td>-1</td>\n",
              "      <td>-1</td>\n",
              "      <td>-1</td>\n",
              "      <td>-1</td>\n",
              "      <td>-1</td>\n",
              "      <td>-1</td>\n",
              "      <td>-1</td>\n",
              "      <td>-1</td>\n",
              "      <td>-1</td>\n",
              "      <td>-1</td>\n",
              "      <td>0</td>\n",
              "      <td>0</td>\n",
              "      <td>0</td>\n",
              "      <td>0</td>\n",
              "      <td>0</td>\n",
              "      <td>0</td>\n",
              "      <td>0</td>\n",
              "      <td>0</td>\n",
              "      <td>0</td>\n",
              "      <td>0</td>\n",
              "      <td>0</td>\n",
              "      <td>0</td>\n",
              "      <td>0</td>\n",
              "      <td>0</td>\n",
              "    </tr>\n",
              "  </tbody>\n",
              "</table>\n",
              "<p>5999 rows × 117 columns</p>\n",
              "</div>"
            ],
            "text/plain": [
              "         type                                        title  ... director12 type_mod\n",
              "0       Movie      Norm of the North: King Sized Adventure  ...          0        1\n",
              "1       Movie                   Jandino: Whatever it Takes  ...          0        1\n",
              "2     TV Show                           Transformers Prime  ...          0        0\n",
              "3     TV Show             Transformers: Robots in Disguise  ...          0        0\n",
              "4       Movie                                 #realityhigh  ...          0        1\n",
              "...       ...                                          ...  ...        ...      ...\n",
              "6227  TV Show                 The Adventures of Figaro Pho  ...          0        0\n",
              "6228  TV Show                                     Kikoriki  ...          0        0\n",
              "6230  TV Show                                        Maron  ...          0        0\n",
              "6232  TV Show  A Young Doctor's Notebook and Other Stories  ...          0        0\n",
              "6233  TV Show                                      Friends  ...          0        0\n",
              "\n",
              "[5999 rows x 117 columns]"
            ]
          },
          "metadata": {
            "tags": []
          },
          "execution_count": 33
        }
      ]
    },
    {
      "cell_type": "markdown",
      "metadata": {
        "id": "9TrcCmIrU5Iz"
      },
      "source": [
        ""
      ]
    },
    {
      "cell_type": "markdown",
      "metadata": {
        "id": "gWoY8F-v4ZU0"
      },
      "source": [
        "## Machine Learning Models"
      ]
    },
    {
      "cell_type": "markdown",
      "metadata": {
        "id": "67QXh8uI4c9V"
      },
      "source": [
        "### Implementation"
      ]
    },
    {
      "cell_type": "code",
      "metadata": {
        "id": "gnRpNinB-XzC",
        "colab": {
          "base_uri": "https://localhost:8080/"
        },
        "outputId": "12179b40-e5c4-407d-9a6d-c2edba430904"
      },
      "source": [
        "import nltk\n",
        "nltk.download()\n",
        "from sklearn.feature_extraction.text import CountVectorizer\n",
        "from sklearn.model_selection import cross_val_score\n",
        "from sklearn import datasets, linear_model\n",
        "from sklearn.linear_model import LogisticRegression\n",
        "from nltk.corpus import stopwords\n",
        "from sklearn.ensemble import RandomForestClassifier\n",
        "from sklearn.model_selection import train_test_split\n",
        "from sklearn.metrics import accuracy_score"
      ],
      "execution_count": null,
      "outputs": [
        {
          "output_type": "stream",
          "text": [
            "NLTK Downloader\n",
            "---------------------------------------------------------------------------\n",
            "    d) Download   l) List    u) Update   c) Config   h) Help   q) Quit\n",
            "---------------------------------------------------------------------------\n",
            "Downloader> d\n",
            "\n",
            "Download which package (l=list; x=cancel)?\n",
            "  Identifier> all\n",
            "    Downloading collection 'all'\n",
            "       | \n",
            "       | Downloading package abc to /root/nltk_data...\n",
            "       |   Package abc is already up-to-date!\n",
            "       | Downloading package alpino to /root/nltk_data...\n",
            "       |   Package alpino is already up-to-date!\n",
            "       | Downloading package biocreative_ppi to /root/nltk_data...\n",
            "       |   Package biocreative_ppi is already up-to-date!\n",
            "       | Downloading package brown to /root/nltk_data...\n",
            "       |   Package brown is already up-to-date!\n",
            "       | Downloading package brown_tei to /root/nltk_data...\n",
            "       |   Package brown_tei is already up-to-date!\n",
            "       | Downloading package cess_cat to /root/nltk_data...\n",
            "       |   Package cess_cat is already up-to-date!\n",
            "       | Downloading package cess_esp to /root/nltk_data...\n",
            "       |   Package cess_esp is already up-to-date!\n",
            "       | Downloading package chat80 to /root/nltk_data...\n",
            "       |   Package chat80 is already up-to-date!\n",
            "       | Downloading package city_database to /root/nltk_data...\n",
            "       |   Package city_database is already up-to-date!\n",
            "       | Downloading package cmudict to /root/nltk_data...\n",
            "       |   Package cmudict is already up-to-date!\n",
            "       | Downloading package comparative_sentences to\n",
            "       |     /root/nltk_data...\n",
            "       |   Package comparative_sentences is already up-to-date!\n",
            "       | Downloading package comtrans to /root/nltk_data...\n",
            "       |   Package comtrans is already up-to-date!\n",
            "       | Downloading package conll2000 to /root/nltk_data...\n",
            "       |   Package conll2000 is already up-to-date!\n",
            "       | Downloading package conll2002 to /root/nltk_data...\n",
            "       |   Package conll2002 is already up-to-date!\n",
            "       | Downloading package conll2007 to /root/nltk_data...\n",
            "       |   Package conll2007 is already up-to-date!\n",
            "       | Downloading package crubadan to /root/nltk_data...\n",
            "       |   Package crubadan is already up-to-date!\n",
            "       | Downloading package dependency_treebank to /root/nltk_data...\n",
            "       |   Package dependency_treebank is already up-to-date!\n",
            "       | Downloading package dolch to /root/nltk_data...\n",
            "       |   Package dolch is already up-to-date!\n",
            "       | Downloading package europarl_raw to /root/nltk_data...\n",
            "       |   Package europarl_raw is already up-to-date!\n",
            "       | Downloading package floresta to /root/nltk_data...\n",
            "       |   Package floresta is already up-to-date!\n",
            "       | Downloading package framenet_v15 to /root/nltk_data...\n",
            "       |   Package framenet_v15 is already up-to-date!\n",
            "       | Downloading package framenet_v17 to /root/nltk_data...\n",
            "       |   Package framenet_v17 is already up-to-date!\n",
            "       | Downloading package gazetteers to /root/nltk_data...\n",
            "       |   Package gazetteers is already up-to-date!\n",
            "       | Downloading package genesis to /root/nltk_data...\n",
            "       |   Package genesis is already up-to-date!\n",
            "       | Downloading package gutenberg to /root/nltk_data...\n",
            "       |   Package gutenberg is already up-to-date!\n",
            "       | Downloading package ieer to /root/nltk_data...\n",
            "       |   Package ieer is already up-to-date!\n",
            "       | Downloading package inaugural to /root/nltk_data...\n",
            "       |   Package inaugural is already up-to-date!\n",
            "       | Downloading package indian to /root/nltk_data...\n",
            "       |   Package indian is already up-to-date!\n",
            "       | Downloading package jeita to /root/nltk_data...\n",
            "       |   Package jeita is already up-to-date!\n",
            "       | Downloading package kimmo to /root/nltk_data...\n",
            "       |   Package kimmo is already up-to-date!\n",
            "       | Downloading package knbc to /root/nltk_data...\n",
            "       |   Package knbc is already up-to-date!\n",
            "       | Downloading package lin_thesaurus to /root/nltk_data...\n",
            "       |   Package lin_thesaurus is already up-to-date!\n",
            "       | Downloading package mac_morpho to /root/nltk_data...\n",
            "       |   Package mac_morpho is already up-to-date!\n",
            "       | Downloading package machado to /root/nltk_data...\n",
            "       |   Package machado is already up-to-date!\n",
            "       | Downloading package masc_tagged to /root/nltk_data...\n",
            "       |   Package masc_tagged is already up-to-date!\n",
            "       | Downloading package moses_sample to /root/nltk_data...\n",
            "       |   Package moses_sample is already up-to-date!\n",
            "       | Downloading package movie_reviews to /root/nltk_data...\n",
            "       |   Package movie_reviews is already up-to-date!\n",
            "       | Downloading package names to /root/nltk_data...\n",
            "       |   Package names is already up-to-date!\n",
            "       | Downloading package nombank.1.0 to /root/nltk_data...\n",
            "       |   Package nombank.1.0 is already up-to-date!\n",
            "       | Downloading package nps_chat to /root/nltk_data...\n",
            "       |   Package nps_chat is already up-to-date!\n",
            "       | Downloading package omw to /root/nltk_data...\n",
            "       |   Package omw is already up-to-date!\n",
            "       | Downloading package opinion_lexicon to /root/nltk_data...\n",
            "       |   Package opinion_lexicon is already up-to-date!\n",
            "       | Downloading package paradigms to /root/nltk_data...\n",
            "       |   Package paradigms is already up-to-date!\n",
            "       | Downloading package pil to /root/nltk_data...\n",
            "       |   Package pil is already up-to-date!\n",
            "       | Downloading package pl196x to /root/nltk_data...\n",
            "       |   Package pl196x is already up-to-date!\n",
            "       | Downloading package ppattach to /root/nltk_data...\n",
            "       |   Package ppattach is already up-to-date!\n",
            "       | Downloading package problem_reports to /root/nltk_data...\n",
            "       |   Package problem_reports is already up-to-date!\n",
            "       | Downloading package propbank to /root/nltk_data...\n",
            "       |   Package propbank is already up-to-date!\n",
            "       | Downloading package ptb to /root/nltk_data...\n",
            "       |   Package ptb is already up-to-date!\n",
            "       | Downloading package product_reviews_1 to /root/nltk_data...\n",
            "       |   Package product_reviews_1 is already up-to-date!\n",
            "       | Downloading package product_reviews_2 to /root/nltk_data...\n",
            "       |   Package product_reviews_2 is already up-to-date!\n",
            "       | Downloading package pros_cons to /root/nltk_data...\n",
            "       |   Package pros_cons is already up-to-date!\n",
            "       | Downloading package qc to /root/nltk_data...\n",
            "       |   Package qc is already up-to-date!\n",
            "       | Downloading package reuters to /root/nltk_data...\n",
            "       |   Package reuters is already up-to-date!\n",
            "       | Downloading package rte to /root/nltk_data...\n",
            "       |   Package rte is already up-to-date!\n",
            "       | Downloading package semcor to /root/nltk_data...\n",
            "       |   Package semcor is already up-to-date!\n",
            "       | Downloading package senseval to /root/nltk_data...\n",
            "       |   Package senseval is already up-to-date!\n",
            "       | Downloading package sentiwordnet to /root/nltk_data...\n",
            "       |   Package sentiwordnet is already up-to-date!\n",
            "       | Downloading package sentence_polarity to /root/nltk_data...\n",
            "       |   Package sentence_polarity is already up-to-date!\n",
            "       | Downloading package shakespeare to /root/nltk_data...\n",
            "       |   Package shakespeare is already up-to-date!\n",
            "       | Downloading package sinica_treebank to /root/nltk_data...\n",
            "       |   Package sinica_treebank is already up-to-date!\n",
            "       | Downloading package smultron to /root/nltk_data...\n",
            "       |   Package smultron is already up-to-date!\n",
            "       | Downloading package state_union to /root/nltk_data...\n",
            "       |   Package state_union is already up-to-date!\n",
            "       | Downloading package stopwords to /root/nltk_data...\n",
            "       |   Package stopwords is already up-to-date!\n",
            "       | Downloading package subjectivity to /root/nltk_data...\n",
            "       |   Package subjectivity is already up-to-date!\n",
            "       | Downloading package swadesh to /root/nltk_data...\n",
            "       |   Package swadesh is already up-to-date!\n",
            "       | Downloading package switchboard to /root/nltk_data...\n",
            "       |   Package switchboard is already up-to-date!\n",
            "       | Downloading package timit to /root/nltk_data...\n",
            "       |   Package timit is already up-to-date!\n",
            "       | Downloading package toolbox to /root/nltk_data...\n",
            "       |   Package toolbox is already up-to-date!\n",
            "       | Downloading package treebank to /root/nltk_data...\n",
            "       |   Package treebank is already up-to-date!\n",
            "       | Downloading package twitter_samples to /root/nltk_data...\n",
            "       |   Package twitter_samples is already up-to-date!\n",
            "       | Downloading package udhr to /root/nltk_data...\n",
            "       |   Package udhr is already up-to-date!\n",
            "       | Downloading package udhr2 to /root/nltk_data...\n",
            "       |   Package udhr2 is already up-to-date!\n",
            "       | Downloading package unicode_samples to /root/nltk_data...\n",
            "       |   Package unicode_samples is already up-to-date!\n",
            "       | Downloading package universal_treebanks_v20 to\n",
            "       |     /root/nltk_data...\n",
            "       |   Package universal_treebanks_v20 is already up-to-date!\n",
            "       | Downloading package verbnet to /root/nltk_data...\n",
            "       |   Package verbnet is already up-to-date!\n",
            "       | Downloading package verbnet3 to /root/nltk_data...\n",
            "       |   Package verbnet3 is already up-to-date!\n",
            "       | Downloading package webtext to /root/nltk_data...\n",
            "       |   Package webtext is already up-to-date!\n",
            "       | Downloading package wordnet to /root/nltk_data...\n",
            "       |   Package wordnet is already up-to-date!\n",
            "       | Downloading package wordnet_ic to /root/nltk_data...\n",
            "       |   Package wordnet_ic is already up-to-date!\n",
            "       | Downloading package words to /root/nltk_data...\n",
            "       |   Package words is already up-to-date!\n",
            "       | Downloading package ycoe to /root/nltk_data...\n",
            "       |   Package ycoe is already up-to-date!\n",
            "       | Downloading package rslp to /root/nltk_data...\n",
            "       |   Package rslp is already up-to-date!\n",
            "       | Downloading package maxent_treebank_pos_tagger to\n",
            "       |     /root/nltk_data...\n",
            "       |   Package maxent_treebank_pos_tagger is already up-to-date!\n",
            "       | Downloading package universal_tagset to /root/nltk_data...\n",
            "       |   Package universal_tagset is already up-to-date!\n",
            "       | Downloading package maxent_ne_chunker to /root/nltk_data...\n",
            "       |   Package maxent_ne_chunker is already up-to-date!\n",
            "       | Downloading package punkt to /root/nltk_data...\n",
            "       |   Package punkt is already up-to-date!\n",
            "       | Downloading package book_grammars to /root/nltk_data...\n",
            "       |   Package book_grammars is already up-to-date!\n",
            "       | Downloading package sample_grammars to /root/nltk_data...\n",
            "       |   Package sample_grammars is already up-to-date!\n",
            "       | Downloading package spanish_grammars to /root/nltk_data...\n",
            "       |   Package spanish_grammars is already up-to-date!\n",
            "       | Downloading package basque_grammars to /root/nltk_data...\n",
            "       |   Package basque_grammars is already up-to-date!\n",
            "       | Downloading package large_grammars to /root/nltk_data...\n",
            "       |   Package large_grammars is already up-to-date!\n",
            "       | Downloading package tagsets to /root/nltk_data...\n",
            "       |   Package tagsets is already up-to-date!\n",
            "       | Downloading package snowball_data to /root/nltk_data...\n",
            "       |   Package snowball_data is already up-to-date!\n",
            "       | Downloading package bllip_wsj_no_aux to /root/nltk_data...\n",
            "       |   Package bllip_wsj_no_aux is already up-to-date!\n",
            "       | Downloading package word2vec_sample to /root/nltk_data...\n",
            "       |   Package word2vec_sample is already up-to-date!\n",
            "       | Downloading package panlex_swadesh to /root/nltk_data...\n",
            "       |   Package panlex_swadesh is already up-to-date!\n",
            "       | Downloading package mte_teip5 to /root/nltk_data...\n",
            "       |   Package mte_teip5 is already up-to-date!\n",
            "       | Downloading package averaged_perceptron_tagger to\n",
            "       |     /root/nltk_data...\n",
            "       |   Package averaged_perceptron_tagger is already up-to-date!\n",
            "       | Downloading package averaged_perceptron_tagger_ru to\n",
            "       |     /root/nltk_data...\n",
            "       |   Package averaged_perceptron_tagger_ru is already up-to-\n",
            "       |       date!\n",
            "       | Downloading package perluniprops to /root/nltk_data...\n",
            "       |   Package perluniprops is already up-to-date!\n",
            "       | Downloading package nonbreaking_prefixes to\n",
            "       |     /root/nltk_data...\n",
            "       |   Package nonbreaking_prefixes is already up-to-date!\n",
            "       | Downloading package vader_lexicon to /root/nltk_data...\n",
            "       |   Package vader_lexicon is already up-to-date!\n",
            "       | Downloading package porter_test to /root/nltk_data...\n",
            "       |   Package porter_test is already up-to-date!\n",
            "       | Downloading package wmt15_eval to /root/nltk_data...\n",
            "       |   Package wmt15_eval is already up-to-date!\n",
            "       | Downloading package mwa_ppdb to /root/nltk_data...\n",
            "       |   Package mwa_ppdb is already up-to-date!\n",
            "       | \n",
            "     Done downloading collection all\n",
            "\n",
            "---------------------------------------------------------------------------\n",
            "    d) Download   l) List    u) Update   c) Config   h) Help   q) Quit\n",
            "---------------------------------------------------------------------------\n",
            "Downloader> q\n"
          ],
          "name": "stdout"
        }
      ]
    },
    {
      "cell_type": "markdown",
      "metadata": {
        "id": "XjDwkPeMVI0Q"
      },
      "source": [
        "**Before applying various Machine Learning algorithms, we first applied text vectorization on the \"description\" column. This column provides an idea for content of the movie or TV-show. For example movie description containing \"kill\", \"murder\", \"sexual\" etc. will definitely adress a not children-friendly movie.**"
      ]
    },
    {
      "cell_type": "code",
      "metadata": {
        "id": "fvbSSsK3-goY"
      },
      "source": [
        "#bag of words\n",
        "\n",
        "stop_words = stopwords.words(\"english\")\n",
        "vectorizer = CountVectorizer(stop_words=stop_words)\n"
      ],
      "execution_count": null,
      "outputs": []
    },
    {
      "cell_type": "markdown",
      "metadata": {
        "id": "SqqYimPWUms4"
      },
      "source": [
        "**Stop words are frequenlty used words in any language, but in this project the list of stop words in English are filtered out. For example \"the\",\"I\",\"a\" etc. Such words does not provide useful information thus they have to be removed/tokenized.**"
      ]
    },
    {
      "cell_type": "code",
      "metadata": {
        "id": "tN4v0xQNtISQ",
        "colab": {
          "base_uri": "https://localhost:8080/"
        },
        "outputId": "89ea2a8a-8e8a-4e1f-e939-9af21535e8cf"
      },
      "source": [
        "# Implementing Random Forest\n",
        "\n",
        "# features\n",
        "x = ext_df.drop(\"target\", axis=1).iloc[:,9:116]\n",
        "# target\n",
        "y = ext_df[\"target\"]\n",
        "\n",
        "# to split data into test-training for the model\n",
        "# 80% for training and 20% for test\n",
        "x_train, x_test, y_train, y_test = train_test_split(x,y,random_state = 42,test_size = 0.2)\n",
        "\n",
        "\n",
        "x_train2 = vectorizer.fit_transform(x_train[\"description\"]) #learn vocab by train set \n",
        "x_test2 = vectorizer.transform(x_test[\"description\"]) #test vocab by test set\n",
        "\n",
        "\n",
        "\n",
        "feature_names = vectorizer.get_feature_names()\n",
        "print(\"There are\", len(feature_names),\"features found.\")\n",
        "#vectorizer.vocabulary_       -> uncomment to see the words and their counts\n",
        "\n",
        "x_train2"
      ],
      "execution_count": null,
      "outputs": [
        {
          "output_type": "stream",
          "text": [
            "There are 14238 features found.\n"
          ],
          "name": "stdout"
        },
        {
          "output_type": "execute_result",
          "data": {
            "text/plain": [
              "<4799x14238 sparse matrix of type '<class 'numpy.int64'>'\n",
              "\twith 69904 stored elements in Compressed Sparse Row format>"
            ]
          },
          "metadata": {
            "tags": []
          },
          "execution_count": 37
        }
      ]
    },
    {
      "cell_type": "markdown",
      "metadata": {
        "id": "uqfG2W05ZDf9"
      },
      "source": [
        "**We took the corpus of text in \"description\" column and detected the unique words. Then we counted the ocurrences of these words in text = Bag of Words**"
      ]
    },
    {
      "cell_type": "code",
      "metadata": {
        "id": "tHJtLDYgAjqg"
      },
      "source": [
        "x_train.drop(\"description\", axis=1, inplace=True)\n",
        "x_test.drop(\"description\", axis=1, inplace=True)"
      ],
      "execution_count": null,
      "outputs": []
    },
    {
      "cell_type": "markdown",
      "metadata": {
        "id": "-EQc35t0ZsZt"
      },
      "source": [
        "**After doing necessary changes on the \"description\" column, it is dropped.**"
      ]
    },
    {
      "cell_type": "code",
      "metadata": {
        "id": "OCYUTTxJBLCp",
        "colab": {
          "base_uri": "https://localhost:8080/"
        },
        "outputId": "59ec24f6-7895-463d-8753-adb52cb2d6ac"
      },
      "source": [
        "count_vect_df = pd.DataFrame(x_train2.todense(), columns=vectorizer.get_feature_names())\n",
        "count_vect_df.index = x_train.index\n",
        "joint_train = pd.concat([x_train,count_vect_df], axis=1,)\n",
        "joint_train.shape"
      ],
      "execution_count": null,
      "outputs": [
        {
          "output_type": "execute_result",
          "data": {
            "text/plain": [
              "(4799, 14344)"
            ]
          },
          "metadata": {
            "tags": []
          },
          "execution_count": 39
        }
      ]
    },
    {
      "cell_type": "markdown",
      "metadata": {
        "id": "avEKZi5XZ82N"
      },
      "source": [
        "**Train matrix is converted into dataframe for concatenation of the vectorized features (14228 words) with the other features.(106 columns) After this process we obtain the final df with 14344 columns which is ready to used for machine learning.**"
      ]
    },
    {
      "cell_type": "code",
      "metadata": {
        "id": "bG4TsMHEEun1",
        "colab": {
          "base_uri": "https://localhost:8080/"
        },
        "outputId": "cadfff9e-b023-48c5-da37-004f9c339d1a"
      },
      "source": [
        "x_test.shape"
      ],
      "execution_count": null,
      "outputs": [
        {
          "output_type": "execute_result",
          "data": {
            "text/plain": [
              "(1200, 106)"
            ]
          },
          "metadata": {
            "tags": []
          },
          "execution_count": 40
        }
      ]
    },
    {
      "cell_type": "code",
      "metadata": {
        "id": "c1ZIvgCNDx9B",
        "colab": {
          "base_uri": "https://localhost:8080/"
        },
        "outputId": "e0372ed4-3b0f-42d8-ccba-ae12a312e711"
      },
      "source": [
        "count_vect_df2 = pd.DataFrame(x_test2.todense(), columns=vectorizer.get_feature_names())\n",
        "count_vect_df2.index = x_test.index\n",
        "joint_test = pd.concat([x_test,count_vect_df2], axis=1)\n",
        "joint_test.shape"
      ],
      "execution_count": null,
      "outputs": [
        {
          "output_type": "execute_result",
          "data": {
            "text/plain": [
              "(1200, 14344)"
            ]
          },
          "metadata": {
            "tags": []
          },
          "execution_count": 41
        }
      ]
    },
    {
      "cell_type": "markdown",
      "metadata": {
        "id": "TSjJThL0c-xL"
      },
      "source": [
        "**Same steps are applied on the test data.**"
      ]
    },
    {
      "cell_type": "code",
      "metadata": {
        "id": "eYEdxo82ADjQ",
        "colab": {
          "base_uri": "https://localhost:8080/"
        },
        "outputId": "7aa6a439-32ad-4cc5-85bf-18eb245153ed"
      },
      "source": [
        "# training random forest and fitting of model\n",
        "random_forest_model = RandomForestClassifier(n_estimators=100, random_state= 42, criterion = 'gini')\n",
        "random_forest_model.fit(joint_train, y_train)\n",
        "\n",
        "# to calculate accuracy\n",
        "prediction_random_forest = random_forest_model.predict(joint_test)\n",
        "accuracy = accuracy_score(y_test, prediction_random_forest)\n",
        "print(\"Accuracy on test set:\",accuracy)\n"
      ],
      "execution_count": null,
      "outputs": [
        {
          "output_type": "stream",
          "text": [
            "Accuracy on test set: 0.9366666666666666\n"
          ],
          "name": "stdout"
        }
      ]
    },
    {
      "cell_type": "markdown",
      "metadata": {
        "id": "PmFGJx1LdctF"
      },
      "source": [
        "**Random forest is applied, the accuracy we obtain is 93.66%.**"
      ]
    },
    {
      "cell_type": "code",
      "metadata": {
        "id": "XqllcE56_Ahv",
        "colab": {
          "base_uri": "https://localhost:8080/"
        },
        "outputId": "a2a951f0-1730-49c6-df89-401e7d496217"
      },
      "source": [
        "scores = cross_val_score(LogisticRegression(), joint_train, y_train, cv = 5)\n",
        "print(\"The score of cross-validation is\",np.mean(scores))\n",
        "\n",
        "logistic_regression = LogisticRegression()\n",
        "logistic_regression.fit(joint_train,y_train)\n",
        "print(\"Logistic regression score for training set:\",logistic_regression.score(joint_train, y_train))\n",
        "print(\"Logistic regression score for testing set:\",logistic_regression.score(joint_test, y_test))\n",
        "predictions = logistic_regression.predict(joint_test)\n"
      ],
      "execution_count": null,
      "outputs": [
        {
          "output_type": "stream",
          "text": [
            "The score of cross-validation is 0.905397766770942\n",
            "Logistic regression score for training set: 0.906438841425297\n",
            "Logistic regression score for testing set: 0.8991666666666667\n"
          ],
          "name": "stdout"
        }
      ]
    },
    {
      "cell_type": "markdown",
      "metadata": {
        "id": "69OkRY3kduo2"
      },
      "source": [
        "**The cross-validation score is 90.5%. Logistic regression scores are 90.6% and 90% for the training set and testing set respectively.**"
      ]
    },
    {
      "cell_type": "code",
      "metadata": {
        "id": "UpMxSEuP36wK",
        "colab": {
          "base_uri": "https://localhost:8080/"
        },
        "outputId": "6f490190-2be7-40e5-b0ef-2d187ea26a67"
      },
      "source": [
        "# grid search\n",
        "from sklearn.model_selection import GridSearchCV\n",
        "\n",
        "grid_random_forest = GridSearchCV(random_forest_model, param_grid= {'n_estimators': [100,200,300,400,500], 'min_samples_split': [2,3,4,5]})\n",
        "grid_random_forest.fit(joint_train,y_train)"
      ],
      "execution_count": null,
      "outputs": [
        {
          "output_type": "execute_result",
          "data": {
            "text/plain": [
              "GridSearchCV(cv=None, error_score=nan,\n",
              "             estimator=RandomForestClassifier(bootstrap=True, ccp_alpha=0.0,\n",
              "                                              class_weight=None,\n",
              "                                              criterion='gini', max_depth=None,\n",
              "                                              max_features='auto',\n",
              "                                              max_leaf_nodes=None,\n",
              "                                              max_samples=None,\n",
              "                                              min_impurity_decrease=0.0,\n",
              "                                              min_impurity_split=None,\n",
              "                                              min_samples_leaf=1,\n",
              "                                              min_samples_split=2,\n",
              "                                              min_weight_fraction_leaf=0.0,\n",
              "                                              n_estimators=100, n_jobs=None,\n",
              "                                              oob_score=False, random_state=42,\n",
              "                                              verbose=0, warm_start=False),\n",
              "             iid='deprecated', n_jobs=None,\n",
              "             param_grid={'min_samples_split': [2, 3, 4, 5],\n",
              "                         'n_estimators': [100, 200, 300, 400, 500]},\n",
              "             pre_dispatch='2*n_jobs', refit=True, return_train_score=False,\n",
              "             scoring=None, verbose=0)"
            ]
          },
          "metadata": {
            "tags": []
          },
          "execution_count": 44
        }
      ]
    },
    {
      "cell_type": "markdown",
      "metadata": {
        "id": "3JVV75zWteAz"
      },
      "source": [
        "**As a tuning technique GridSearchCv is applied in order to obtain the optimum values for hyperparameters.**"
      ]
    },
    {
      "cell_type": "code",
      "metadata": {
        "id": "8Opzx7Oq62pI",
        "colab": {
          "base_uri": "https://localhost:8080/"
        },
        "outputId": "0d6b85a4-8393-4d63-d735-7895409b6fcb"
      },
      "source": [
        "# get best param\n",
        "grid_random_forest.best_params_"
      ],
      "execution_count": null,
      "outputs": [
        {
          "output_type": "execute_result",
          "data": {
            "text/plain": [
              "{'min_samples_split': 2, 'n_estimators': 300}"
            ]
          },
          "metadata": {
            "tags": []
          },
          "execution_count": 45
        }
      ]
    },
    {
      "cell_type": "markdown",
      "metadata": {
        "id": "mLYWMuHgs89Z"
      },
      "source": [
        "**Best parameters are \"2\" for the 'min_samples_split' and \"300\" for the 'n_estimators.**"
      ]
    },
    {
      "cell_type": "markdown",
      "metadata": {
        "id": "9ywI4WPn9so5"
      },
      "source": [
        "**Optimum parameters are obtained by best_params_**"
      ]
    },
    {
      "cell_type": "code",
      "metadata": {
        "id": "bZAVPBC57N_y",
        "colab": {
          "base_uri": "https://localhost:8080/"
        },
        "outputId": "a0488e0e-ce71-4182-e84c-188cc168ce3b"
      },
      "source": [
        "# make prediction\n",
        "\n",
        "prediction_grid_random_forest = grid_random_forest.predict(joint_test)\n",
        "\n",
        "# calculate new accuracy\n",
        "\n",
        "accuracy_grid = accuracy_score(y_test, prediction_grid_random_forest)\n",
        "\n",
        "print(\"New accuracy score by using grid search:\",accuracy_grid)\n"
      ],
      "execution_count": null,
      "outputs": [
        {
          "output_type": "stream",
          "text": [
            "New accuracy score by using grid search: 0.9375\n"
          ],
          "name": "stdout"
        }
      ]
    },
    {
      "cell_type": "markdown",
      "metadata": {
        "id": "QmgIWOb_tzxv"
      },
      "source": [
        ""
      ]
    },
    {
      "cell_type": "code",
      "metadata": {
        "id": "3JyorOeQO4wI",
        "colab": {
          "base_uri": "https://localhost:8080/"
        },
        "outputId": "73bdb818-5b52-46ab-ca36-87aef2d5990e"
      },
      "source": [
        "from sklearn.metrics import confusion_matrix\n",
        "\n",
        "y_prediction = grid_random_forest.predict(joint_test)\n",
        "mat = confusion_matrix(y_test,y_pred = y_prediction)\n",
        "\n",
        "# check accuracy score\n",
        "True_values=0\n",
        "for i in range(mat.shape[0]):\n",
        "  True_values += mat[i][i]\n",
        "acc_mat= True_values/mat.sum()\n",
        "print(\"accuracy for confusion matrix:\")\n",
        "acc_mat"
      ],
      "execution_count": null,
      "outputs": [
        {
          "output_type": "stream",
          "text": [
            "accuracy for confusion matrix:\n"
          ],
          "name": "stdout"
        },
        {
          "output_type": "execute_result",
          "data": {
            "text/plain": [
              "0.9375"
            ]
          },
          "metadata": {
            "tags": []
          },
          "execution_count": 47
        }
      ]
    },
    {
      "cell_type": "code",
      "metadata": {
        "colab": {
          "base_uri": "https://localhost:8080/",
          "height": 284
        },
        "id": "Ko7r_7xdP998",
        "outputId": "3f9c56bc-a392-46f9-c4ef-59310f4b5f82"
      },
      "source": [
        "import seaborn as sns\n",
        "sns.set()\n",
        "sns.heatmap(mat, annot=True, fmt='d')\n",
        "plt.xlabel('predicted label')\n",
        "plt.ylabel('true label');"
      ],
      "execution_count": null,
      "outputs": [
        {
          "output_type": "display_data",
          "data": {
            "image/png": "[encoded data removed]",
            "text/plain": [
              "<Figure size 432x288 with 2 Axes>"
            ]
          },
          "metadata": {
            "tags": []
          }
        }
      ]
    },
    {
      "cell_type": "code",
      "metadata": {
        "id": "7PZR6-o6oren",
        "colab": {
          "base_uri": "https://localhost:8080/"
        },
        "outputId": "6f670596-0274-4b71-d8ae-c4b1dec742c9"
      },
      "source": [
        "# check f1 score \n",
        "from sklearn.metrics import classification_report\n",
        "print(classification_report(y_test, y_prediction))"
      ],
      "execution_count": null,
      "outputs": [
        {
          "output_type": "stream",
          "text": [
            "              precision    recall  f1-score   support\n",
            "\n",
            "           0       0.94      1.00      0.97      1115\n",
            "           1       0.92      0.13      0.23        85\n",
            "\n",
            "    accuracy                           0.94      1200\n",
            "   macro avg       0.93      0.56      0.60      1200\n",
            "weighted avg       0.94      0.94      0.91      1200\n",
            "\n"
          ],
          "name": "stdout"
        }
      ]
    },
    {
      "cell_type": "code",
      "metadata": {
        "id": "J3BvZFbRdfbA",
        "colab": {
          "base_uri": "https://localhost:8080/"
        },
        "outputId": "74cd6190-2861-4a0a-d08a-8ba6827c7224"
      },
      "source": [
        "from sklearn.svm import SVC\n",
        "# training Support Vector Machine and fitting of model\n",
        "svm_model = SVC()\n",
        "svm_model.fit(joint_train, y_train)\n",
        "\n",
        "# to calculate accuracy\n",
        "prediction_svm = svm_model.predict(joint_test)\n",
        "accuracy = accuracy_score(y_test, prediction_svm)\n",
        "print(accuracy)"
      ],
      "execution_count": null,
      "outputs": [
        {
          "output_type": "stream",
          "text": [
            "0.9291666666666667\n"
          ],
          "name": "stdout"
        }
      ]
    },
    {
      "cell_type": "markdown",
      "metadata": {
        "id": "c1aE3NC3hmxa"
      },
      "source": [
        "**Accuracy score of SVM is 0.92916. This accuracy is less than the one we got from Random Forest Algorithm but still very high. It can be improved by tuning the hyperparameters.**"
      ]
    },
    {
      "cell_type": "code",
      "metadata": {
        "id": "PGigiej1CAo9",
        "colab": {
          "base_uri": "https://localhost:8080/"
        },
        "outputId": "b7fe98bf-2a2b-4cdf-e772-002eec3731d6"
      },
      "source": [
        "# make prediction\n",
        "\n",
        "prediction_grid_scv = svm_model.predict(joint_test)\n",
        "\n",
        "# calculate new accuracy\n",
        "\n",
        "accuracy_grid = accuracy_score(y_test, prediction_svm)\n",
        "\n",
        "print(\"New accuracy score by using grid search:\",accuracy_grid)"
      ],
      "execution_count": null,
      "outputs": [
        {
          "output_type": "stream",
          "text": [
            "New accuracy score by using grid search: 0.9291666666666667\n"
          ],
          "name": "stdout"
        }
      ]
    },
    {
      "cell_type": "code",
      "metadata": {
        "id": "VW2yA8tlSGcd",
        "colab": {
          "base_uri": "https://localhost:8080/"
        },
        "outputId": "4ad21ce8-0a6e-44dc-a58b-2de92cdf6629"
      },
      "source": [
        "from sklearn.metrics import confusion_matrix\n",
        "\n",
        "y_prediction = svm_model.predict(joint_test)\n",
        "mat = confusion_matrix(y_test,y_pred = y_prediction)\n",
        "\n",
        "# check accuracy score\n",
        "True_values=0\n",
        "for i in range(mat.shape[0]):\n",
        "  True_values += mat[i][i]\n",
        "acc_mat= True_values/mat.sum()\n",
        "print(\"accuracy for confusion matrix:\")\n",
        "acc_mat"
      ],
      "execution_count": null,
      "outputs": [
        {
          "output_type": "stream",
          "text": [
            "accuracy for confusion matrix:\n"
          ],
          "name": "stdout"
        },
        {
          "output_type": "execute_result",
          "data": {
            "text/plain": [
              "0.9291666666666667"
            ]
          },
          "metadata": {
            "tags": []
          },
          "execution_count": 57
        }
      ]
    },
    {
      "cell_type": "code",
      "metadata": {
        "colab": {
          "base_uri": "https://localhost:8080/",
          "height": 284
        },
        "id": "Bd7M2jujv4D7",
        "outputId": "7a5a4064-d06d-46f1-9b48-6f295b0685d5"
      },
      "source": [
        "import seaborn as sns\n",
        "sns.set()\n",
        "sns.heatmap(mat, annot=True, fmt='d')\n",
        "plt.xlabel('predicted label')\n",
        "plt.ylabel('true label');"
      ],
      "execution_count": null,
      "outputs": [
        {
          "output_type": "display_data",
          "data": {
            "image/png": "[encoded data removed]",
            "text/plain": [
              "<Figure size 432x288 with 2 Axes>"
            ]
          },
          "metadata": {
            "tags": []
          }
        }
      ]
    },
    {
      "cell_type": "code",
      "metadata": {
        "id": "dNyXnf3YsIEN",
        "colab": {
          "base_uri": "https://localhost:8080/"
        },
        "outputId": "025f2b1b-e4bf-4cdc-cc9e-29660c4207f2"
      },
      "source": [
        "# check f1 score \n",
        "from sklearn.metrics import classification_report\n",
        "print(classification_report(y_test, y_prediction))"
      ],
      "execution_count": null,
      "outputs": [
        {
          "output_type": "stream",
          "text": [
            "              precision    recall  f1-score   support\n",
            "\n",
            "           0       0.93      1.00      0.96      1115\n",
            "           1       0.00      0.00      0.00        85\n",
            "\n",
            "    accuracy                           0.93      1200\n",
            "   macro avg       0.46      0.50      0.48      1200\n",
            "weighted avg       0.86      0.93      0.90      1200\n",
            "\n"
          ],
          "name": "stdout"
        }
      ]
    },
    {
      "cell_type": "code",
      "metadata": {
        "colab": {
          "base_uri": "https://localhost:8080/"
        },
        "id": "ffV1pFueF-F7",
        "outputId": "726f1ea8-acae-47f0-9e15-782b34abb3b0"
      },
      "source": [
        "# check mcc score\n",
        "from sklearn.metrics import matthews_corrcoef\n",
        "print(matthews_corrcoef(y_test, y_prediction))"
      ],
      "execution_count": null,
      "outputs": [
        {
          "output_type": "stream",
          "text": [
            "0.0\n"
          ],
          "name": "stdout"
        }
      ]
    },
    {
      "cell_type": "markdown",
      "metadata": {
        "id": "p0Rwob2yHAZQ"
      },
      "source": [
        "As we found 0 as MCC score, it means that we made an average random prediction."
      ]
    },
    {
      "cell_type": "markdown",
      "metadata": {
        "id": "l4MtFOqW4jdQ"
      },
      "source": [
        "## Results & Discussion\n",
        "\n",
        "\n",
        "**The confusion matrix obtained from the first model**\n",
        "\n",
        "\n",
        "<br>\n",
        "* Possible predicted classes: 1 and 0.\n",
        "<br>\n",
        "* The classifier made a total of 1200 predictions\n",
        "<br>\n",
        "* Out of 1200 cases, the classifier predicted 1 -> 12 times,0 -> 1188 times.\n",
        "<br>\n",
        "* In reality, we have 85 1's and 1115 0's. \n",
        "<br>\n",
        "* At the end, this model classified 1125 data points correctly\n",
        "\n",
        "![cnRn.png](data:image/png;base64,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)\n",
        "\n",
        "**The confusion matrix obtained from the second model** \n",
        "<br>\n",
        "* Possible predicted classes: 1 and 0.\n",
        "<br>\n",
        "* The classifier made a total of 1200 predictions\n",
        "<br>\n",
        "* Out of 1200 cases, the classifier predicted 1 -> 0 times,0 -> 1200 times.\n",
        "<br>\n",
        "* In reality, we have 85 1's and 1115 0's. \n",
        "<br>\n",
        "* At the end, this model classifies 1115 data points correctly\n",
        "\n",
        "![confusionS.png](data:image/png;base64,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)\n",
        "\n",
        "As we can see the first model gives better predictions than the second model.\n"
      ]
    },
    {
      "cell_type": "markdown",
      "metadata": {
        "id": "rST5D9X-bMVK"
      },
      "source": [
        "In data exploration, we looked at distributions of children-friendly and non-friendly content in tv-shows and movies and their possible correlations with other attributes. As a result, we found out that there is a correlation between type of the content, director,genre, cast, duration, description and suitability of the content for children audience.\n",
        "We observed that there is more content suitable for a children audience in tv shows rather than movies. One more observation was that some directors directed more child-friendly content, and some directed more content that is not suitable for a children audience, which was another important correlation we discovered. Similarly, the correlation between cast and suitability of their movies/tv-shows for children was significant, since we found out that some cast members were mostly starring in children friendly or mostly in children-unfriendly movies/tv-shows. Moreover, in some genres, the distribution significance was too high. For instance, \"Thriller\" genre is only filled with children-unfriendly ones. In contrast, \"Kids\" genre is mostly filled with children-friendly ones. Thus, genre distribution decided to be an important indicator while categorizing the movies/tv shows. Another important factor was “duration”. We observed that the shorter the duration of a movie/tv show is,  the more suitable it is for children. For instance, the mean duration of children-friendly movies is around 64 minutes, whereas the duration of children-unfriendly movies is around 102 minutes.\n",
        "After analyzing these above mentioned findings, we decided to include them in our machine learning model.\n"
      ]
    },
    {
      "cell_type": "markdown",
      "metadata": {
        "id": "dUP4Pp35bSLI"
      },
      "source": [
        "For machine learning part, we have applied random forest and support vector machine models.\n",
        "From the random forest model, we have obtained 93.66%  accuracy and for svm accuracy was 92.916 %   To improve these accuracies and acquire better models, we checked the descriptions of each movie/tv show, have implemented hyper-parameter tuning by grid search and confusion matrix for both models. Description data was implemented using the technique “bag of words”. For each movie/tv show, a word vector consists of the counts of the words constructed. Afterwards, “stop words” obtained from the NLTK package were discarded (such as “the”, “a”, …) to get better results. Overall, 14238 word vectors were left which are concatenated to the train and test sets respectively. Thus, we obtained 1200x14344 test set and 4799x14344 train set data frames. Then, we proceeded to hyper-parameter tuning. After tuning, the new accuracy value for random  forest is 93.75 %  and 92.916% accuracy value obtained for svm. We have chosen grid search because it applies cross validation and can find optimum parameters easily. Random forest model gave better results than svm in terms of accuracy.\n",
        " \n",
        "For machine learning models, we have applied confusion matrix. Then, we looked into their f1 score to checked our accuracy scores from both models. Because f1 score consists precision and recall measurements. As a result we have seen that f1 scores were parallel with accuracy values and this gives a good indication of performance of the models. \n"
      ]
    },
    {
      "cell_type": "markdown",
      "metadata": {
        "id": "L8mRHzGc4SH0"
      },
      "source": [
        "## Conclusion\n",
        "\n",
        "In order to achieve the goal that we had, which was identifying and making classifications which are suitiable contents for children audience, we've divided our data as 80% for train and 20% for test. We've decided which categories are suitable for children. We've searched for correlations like ratings, directors, genres, cast members. When doing so, we've distributed ratings, plotted graphs, grouped by ratings/directors, found common directors by amount of movies/tv shows, distributed movies/tv shows among genres and cast members. In machine learning part, we applied random forest. Then we've used confusion matrix but it didn't change anything on accuracy. Our solution is applicable because our accuracy results are considerably high. This is also an advantage. Only disadvantage is that there is not much children friendly content.\n"
      ]
    },
    {
      "cell_type": "markdown",
      "metadata": {
        "id": "8h0G5RNzuABB"
      },
      "source": [
        "## Future Work\n",
        "\n",
        "<font color=\"black\">\n",
        "The duration column could be added to the machine learning model, since there is a significant correlation between duration and suitability of the content for children. To achieve that, the duration of tv shows could be extracted in “minutes” since they are represented in “seasons” in the current dataset.\n",
        "<br> \n",
        "Moreover, description of the movies/tv shows can be evaluated using deep learning algorithms to take their meanings into account rather than only considering the word counts as we implemented in the project. \n",
        "\n",
        "<br>\n",
        "\n",
        "</font>"
      ]
    },
    {
      "cell_type": "markdown",
      "metadata": {
        "id": "aw-zON5bt0pd"
      },
      "source": [
        "## Work Division\n",
        "\n",
        "<font color=\"black\">\n",
        "\n",
        "Dila Kurumahmutoğlu wrote introduction, problem definition and conclusion parts, implemented svm's hyper-parameter tuning.\n",
        "\n",
        "Deniz Küçükahmetler worked on \"Data Exploration\", implementation of the \"bag of words\" and its adaptation to the data frame.\n",
        "\n",
        "Guljahan Annagurbanova worked on \"Data Exploration\", added some attributes to ML model, and took part in \"Results & Discussion\"\n",
        "\n",
        "Sabanur Mete implemented random forest model, its hyper-parameter tunning, wrote some parts of the proposal and disscussion.\n",
        "\n",
        "</font>\n",
        "\n",
        "Buket Özen did the utilized datasets part with preproccessing, implemented the second Machine Learning Algorithm and also worked collaboratively with Deniz on the \"bag of words\" implementation."
      ]
    },
    {
      "cell_type": "code",
      "metadata": {
        "id": "ioBLlAwc6hPA"
      },
      "source": [
        ""
      ],
      "execution_count": null,
      "outputs": []
    }
  ]
}